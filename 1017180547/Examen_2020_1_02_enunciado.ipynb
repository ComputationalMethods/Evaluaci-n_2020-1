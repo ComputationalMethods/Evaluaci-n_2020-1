{
  "nbformat": 4,
  "nbformat_minor": 0,
  "metadata": {
    "kernelspec": {
      "display_name": "Python 3",
      "language": "python",
      "name": "python3"
    },
    "language_info": {
      "codemirror_mode": {
        "name": "ipython",
        "version": 3
      },
      "file_extension": ".py",
      "mimetype": "text/x-python",
      "name": "python",
      "nbconvert_exporter": "python",
      "pygments_lexer": "ipython3",
      "version": "3.5.3"
    },
    "toc": {
      "colors": {
        "hover_highlight": "#DAA520",
        "running_highlight": "#FF0000",
        "selected_highlight": "#FFD700"
      },
      "moveMenuLeft": true,
      "nav_menu": {
        "height": "12px",
        "width": "252px"
      },
      "navigate_menu": true,
      "number_sections": true,
      "sideBar": true,
      "threshold": 4,
      "toc_cell": false,
      "toc_section_display": "block",
      "toc_window_display": false
    },
    "colab": {
      "name": "Examen_2020_1_02_enunciado.ipynb",
      "provenance": [],
      "collapsed_sections": []
    }
  },
  "cells": [
    {
      "cell_type": "markdown",
      "metadata": {
        "id": "xmrgmRODJuN0",
        "colab_type": "text"
      },
      "source": [
        "# Segundo examen\n",
        "\n",
        "<div style=\"float: right;\" markdown=\"1\">\n",
        "    <img src=\"https://github.com/restrepo/ComputationalMethods/raw/master/material/figures/leastaction_pendulum.svg?sanitize=true\">\n",
        "</div>\n",
        "Un observador mirando el movimiento de un péndulo simple con una masa en el extremo de $0.2\\ \\text{Kg}$ y una longitud  $l=1\\ \\text{m}$, activa un cronómetro cuando el péndulo, oscilando de izquierda a derecha, se encuentra en su posición vertical. El observador detiene el cronómetro después de un tiempo de $t_f=0.5026\\ \\text{s}$, justo cuando el péndulo alcanza su máxima altura formando un ángulo de $\\theta_0=10^\\circ$ con respecto a la vertical. Por lo tanto $t_f=T/4$, donde , donde $T$ es el período de la oscilación del péndulo simple.\n",
        "\n",
        "1. Minimizando la Acción del péndulo simple, la cual será explicada a continuación,  encuentre la trayectoria angular que describe el extremo del péndulo durante el tiempo de observación: en el plano del ángulo barrido en radianes en función del tiempo esquematizado en la figura. \n",
        "2. Grafique dicha trayectoria en plano $\\theta(t)$ vs $t$ y compare con la superposición del gráfico de la ecuación de movimiento $\\theta(t)=\\theta_0 \\sin(\\omega t)$, donde $\\omega$ es la frecuencia angular de la oscilación del péndulo simple, dada por $\\omega=2\\pi/T$.\n",
        "3. Compruebe que la trayectoría que minimiza la Acción también conserva la energía total: $E=K+V$, donde $K$ es la energía cinética del péndulo y $V$ es su energía potencial.\n",
        "\n",
        "## Acción para un péndulo simple\n",
        "\n",
        "<div style=\"float: right;\" markdown=\"1\">\n",
        "    <img src=\"https://github.com/restrepo/ComputationalMethods/raw/master/material/figures/pendulum.png\">\n",
        "</div>\n",
        "Vamos a tomar como origen del sistema de referencia el extremo inferior del péndulo en su posición vertical. Por lo tanto, la altura del extremo inferior del péndulo a un ángulo $\\theta$ com se muestra en la figura, es\n",
        "$$\n",
        "y=l-l\\cos\\theta=l(1-\\cos\\theta)\\,.\n",
        "$$\n",
        "Entonces\n",
        "\n",
        "* Energía potencial\n",
        "$$\n",
        "V=mgy=mgl(1-\\cos\\theta).\n",
        "$$\n",
        "* Como la velocidad de la masa es $v=l\\dot\\theta$, tenemos que la energía cinética es\n",
        "$$\n",
        "K=\\frac{1}{2}m v^2=\\frac{1}{2}ml^2\\dot\\theta^2\\,,\n",
        "$$\n",
        "donde $\\dot\\theta=d\\theta/dt\\,.$. \n",
        "\n",
        "La Lagrangiana, en función de las coordenadas generalizadas $\\theta$ y $\\dot\\theta$ es\n",
        "$$\n",
        "L=K-V=\\frac{1}{2}ml^2\\dot\\theta^2-mgl(1-\\cos\\theta)\\,,\n",
        "$$\n",
        "y, finalmente, la Acción a minimizar para encontrar la trayectoria física $\\theta(t)$, es\n",
        "$$\n",
        "S=\\int_0^{t_f} L\\,\\operatorname{d}t\\,.\n",
        "$$\n",
        "\n",
        "Para los detalles ver: http://www.aoengr.com/Dynamics/LagrangianMechanicsPendulum.pdf"
      ]
    },
    {
      "cell_type": "code",
      "metadata": {
        "id": "arXaanlDN8ji",
        "colab_type": "code",
        "colab": {}
      },
      "source": [
        "import numpy as np\n",
        "from scipy import optimize\n",
        "import matplotlib.pyplot as plt"
      ],
      "execution_count": 0,
      "outputs": []
    },
    {
      "cell_type": "code",
      "metadata": {
        "id": "4B09QB_hOGY2",
        "colab_type": "code",
        "colab": {}
      },
      "source": [
        "# Se definen las variables de acuerdo con el problema:\n",
        "\n",
        "m = 0.2                   # Masa\n",
        "l = 1                     # Longitud de la cuerda del péndulo\n",
        "ti = 0.0                  # Tiempo inicial\n",
        "tf = 0.5026               # Tiempo final\n",
        "ai = 0.0                  # Ángulo inicial\n",
        "af = np.radians(10)       # Ángulo final \n",
        "T = 4*tf                  # Periodo\n",
        "w = 2*np.pi/T             # Frecuencia angular\n",
        "g = 9.8                   # Aceleración de la gravedad"
      ],
      "execution_count": 0,
      "outputs": []
    },
    {
      "cell_type": "code",
      "metadata": {
        "id": "BFdl-yCpQ5Rp",
        "colab_type": "code",
        "colab": {}
      },
      "source": [
        "# Se define la función que determina la acción para cualquier conjunto de puntos.\n",
        "\n",
        "def S(X, tend=0.5026, m=0.2, Xini=0., Xend=np.radians(10), g=9.8):\n",
        "    \n",
        "    dt = tend/X[:-1].size\n",
        "    \n",
        "    X = np.asarray(X)\n",
        "\n",
        "    X[0] = Xini\n",
        "    X[-1] = Xend\n",
        "\n",
        "    return ((0.5*m*l**2*(X[1:]-X[:-1])**2 / dt**2 - m*g*l*(1 - np.cos((X[1:]+X[:-1])/2)))*dt).sum()"
      ],
      "execution_count": 0,
      "outputs": []
    },
    {
      "cell_type": "code",
      "metadata": {
        "id": "6gJfVkq_mvU4",
        "colab_type": "code",
        "colab": {
          "base_uri": "https://localhost:8080/",
          "height": 90
        },
        "outputId": "81ae2360-3492-4e05-c7d5-cb90ead5a601"
      },
      "source": [
        "# Se minimiza la acción con fmin_powell utilizando ceros como punto de referencia.\n",
        "\n",
        "Y = np.zeros(20)\n",
        "\n",
        "mS = optimize.fmin_powell(S, Y, full_output=1)\n",
        "\n",
        "# Se extraen los valores correspondientes a los ángulos en un arreglo.\n",
        "\n",
        "A = mS[0]\n",
        "A[0] = 0\n",
        "A[-1] = af\n",
        "\n",
        "# Se determina su correspondiente valor en cada tiempo.\n",
        "\n",
        "dt = tf/A[:-1].size\n",
        "t = np.arange(0, tf+dt, dt)"
      ],
      "execution_count": 89,
      "outputs": [
        {
          "output_type": "stream",
          "text": [
            "Optimization terminated successfully.\n",
            "         Current function value: -0.000002\n",
            "         Iterations: 24\n",
            "         Function evaluations: 6445\n"
          ],
          "name": "stdout"
        }
      ]
    },
    {
      "cell_type": "code",
      "metadata": {
        "id": "EiXVNqil_7vE",
        "colab_type": "code",
        "colab": {
          "base_uri": "https://localhost:8080/",
          "height": 35
        },
        "outputId": "d0a33f51-c66f-48c6-f2af-c00baa70e253"
      },
      "source": [
        "# Mínima acción:\n",
        "\n",
        "print(mS[1])"
      ],
      "execution_count": 112,
      "outputs": [
        {
          "output_type": "stream",
          "text": [
            "-1.9103749166448627e-06\n"
          ],
          "name": "stdout"
        }
      ]
    },
    {
      "cell_type": "code",
      "metadata": {
        "id": "NLxatu7e7klL",
        "colab_type": "code",
        "colab": {
          "base_uri": "https://localhost:8080/",
          "height": 54
        },
        "outputId": "0aeb754f-e538-4457-93fb-d71c17145809"
      },
      "source": [
        "# Se realiza una interpolación cuadrática con los puntos obtenidos.\n",
        "\n",
        "P = np.poly1d(np.polyfit(t, A, 2))\n",
        "print(P)"
      ],
      "execution_count": 90,
      "outputs": [
        {
          "output_type": "stream",
          "text": [
            "         2\n",
            "-0.5735 x + 0.6483 x - 0.003529\n"
          ],
          "name": "stdout"
        }
      ]
    },
    {
      "cell_type": "code",
      "metadata": {
        "id": "EiAnWkt6q0hB",
        "colab_type": "code",
        "colab": {
          "base_uri": "https://localhost:8080/",
          "height": 288
        },
        "outputId": "e0b82d50-95d4-4e37-cead-7481ab761d2c"
      },
      "source": [
        "plt.plot(t, A, 'r.', label='Puntos')\n",
        "plt.plot(t, P(t), 'k-', label='Interpolación')\n",
        "plt.plot(t, af*np.sin(w*t), 'g--', label='Ley')\n",
        "plt.xlabel(r'$\\theta$',size=20 )\n",
        "plt.ylabel(r'$\\theta(t)$',size=20)\n",
        "plt.legend()\n",
        "plt.grid()\n",
        "plt.show()\n"
      ],
      "execution_count": 113,
      "outputs": [
        {
          "output_type": "display_data",
          "data": {
            "image/png": "[encoded data removed]",
            "text/plain": [
              "<Figure size 432x288 with 1 Axes>"
            ]
          },
          "metadata": {
            "tags": [],
            "needs_background": "light"
          }
        }
      ]
    },
    {
      "cell_type": "code",
      "metadata": {
        "id": "0k0CyXQWy2Ny",
        "colab_type": "code",
        "colab": {
          "base_uri": "https://localhost:8080/",
          "height": 90
        },
        "outputId": "1979e5e6-9ba2-4e21-ca47-760cc545f6cc"
      },
      "source": [
        "# Conservación de la energía.\n",
        "\n",
        "K = 0.5*m*l**2*(A[1:]-A[:-1])**2 / dt**2\n",
        "V = m*g*l*(1 - np.cos((A[1:]+A[:-1])/2))\n",
        "\n",
        "E = K+V\n",
        "\n",
        "E"
      ],
      "execution_count": 102,
      "outputs": [
        {
          "output_type": "execute_result",
          "data": {
            "text/plain": [
              "array([0.0297268 , 0.02972449, 0.02972452, 0.02972512, 0.02972514,\n",
              "       0.02972333, 0.02972335, 0.02972662, 0.02972664, 0.02972684,\n",
              "       0.02972686, 0.02972504, 0.02972505, 0.02972847, 0.02972752,\n",
              "       0.02972732, 0.02972627, 0.02972628, 0.02972628])"
            ]
          },
          "metadata": {
            "tags": []
          },
          "execution_count": 102
        }
      ]
    }
  ]
}
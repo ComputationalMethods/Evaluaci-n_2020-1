{
  "nbformat": 4,
  "nbformat_minor": 0,
  "metadata": {
    "colab": {
      "name": "minimization.ipynb",
      "provenance": [],
      "collapsed_sections": []
    },
    "kernelspec": {
      "display_name": "Python 3",
      "language": "python",
      "name": "python3"
    },
    "language_info": {
      "codemirror_mode": {
        "name": "ipython",
        "version": 3
      },
      "file_extension": ".py",
      "mimetype": "text/x-python",
      "name": "python",
      "nbconvert_exporter": "python",
      "pygments_lexer": "ipython3",
      "version": "3.5.3"
    }
  },
  "cells": [
    {
      "cell_type": "markdown",
      "metadata": {
        "id": "IoKuBlgJYlkv",
        "colab_type": "text"
      },
      "source": [
        "---"
      ]
    },
    {
      "cell_type": "markdown",
      "metadata": {
        "colab_type": "text",
        "id": "clF8wh4wdgza"
      },
      "source": [
        "# Minimization\n",
        "\n",
        "Find the minumum of a function\n",
        "\n",
        "---\n",
        "## Bibliography\n",
        "\n",
        "[1] [Optimization and fit scipy optimize](https://scipy-lectures.org/intro/scipy.html#optimization-and-fit-scipy-optimize) \n",
        "* [Example](https://scipy-lectures.org/intro/scipy/auto_examples/plot_optimize_example2.html)"
      ]
    },
    {
      "cell_type": "code",
      "metadata": {
        "colab_type": "code",
        "id": "a_OlqOD9dgzc",
        "outputId": "5ebeded5-5bd2-498f-f314-f22560193b2a",
        "colab": {
          "base_uri": "https://localhost:8080/",
          "height": 90
        }
      },
      "source": [
        "%pylab inline"
      ],
      "execution_count": 49,
      "outputs": [
        {
          "output_type": "stream",
          "text": [
            "Populating the interactive namespace from numpy and matplotlib\n"
          ],
          "name": "stdout"
        },
        {
          "output_type": "stream",
          "text": [
            "/usr/local/lib/python3.6/dist-packages/IPython/core/magics/pylab.py:161: UserWarning: pylab import has clobbered these variables: ['fmin', 'f']\n",
            "`%matplotlib` prevents importing * from pylab and numpy\n",
            "  \"\\n`%matplotlib` prevents importing * from pylab and numpy\"\n"
          ],
          "name": "stderr"
        }
      ]
    },
    {
      "cell_type": "code",
      "metadata": {
        "colab_type": "code",
        "id": "-_tDYtyudgzi",
        "colab": {}
      },
      "source": [
        "import numpy as np\n",
        "import scipy.optimize as optimize\n",
        "import scipy.interpolate as interpolate\n",
        "import pandas as pd"
      ],
      "execution_count": 0,
      "outputs": []
    },
    {
      "cell_type": "markdown",
      "metadata": {
        "colab_type": "text",
        "id": "o9ZnWCm_dgzi"
      },
      "source": [
        "## Example"
      ]
    },
    {
      "cell_type": "markdown",
      "metadata": {
        "colab_type": "text",
        "id": "cDM8-434dgzk"
      },
      "source": [
        "Consider the following dataset"
      ]
    },
    {
      "cell_type": "code",
      "metadata": {
        "colab_type": "code",
        "id": "te8_cqDQdgzm",
        "outputId": "aa4c5935-1a2e-473c-804b-cabcc16eb4d5",
        "colab": {
          "base_uri": "https://localhost:8080/",
          "height": 238
        }
      },
      "source": [
        "df=pd.DataFrame({'X':[2.5,3.1,4.5,5,5.9,6.2],\n",
        "              'Y':[3,-1.01,1.5,0.7,2.8,1.5]})\n",
        "df"
      ],
      "execution_count": 95,
      "outputs": [
        {
          "output_type": "execute_result",
          "data": {
            "text/html": [
              "<div>\n",
              "<style scoped>\n",
              "    .dataframe tbody tr th:only-of-type {\n",
              "        vertical-align: middle;\n",
              "    }\n",
              "\n",
              "    .dataframe tbody tr th {\n",
              "        vertical-align: top;\n",
              "    }\n",
              "\n",
              "    .dataframe thead th {\n",
              "        text-align: right;\n",
              "    }\n",
              "</style>\n",
              "<table border=\"1\" class=\"dataframe\">\n",
              "  <thead>\n",
              "    <tr style=\"text-align: right;\">\n",
              "      <th></th>\n",
              "      <th>X</th>\n",
              "      <th>Y</th>\n",
              "    </tr>\n",
              "  </thead>\n",
              "  <tbody>\n",
              "    <tr>\n",
              "      <th>0</th>\n",
              "      <td>2.5</td>\n",
              "      <td>3.00</td>\n",
              "    </tr>\n",
              "    <tr>\n",
              "      <th>1</th>\n",
              "      <td>3.1</td>\n",
              "      <td>-1.01</td>\n",
              "    </tr>\n",
              "    <tr>\n",
              "      <th>2</th>\n",
              "      <td>4.5</td>\n",
              "      <td>1.50</td>\n",
              "    </tr>\n",
              "    <tr>\n",
              "      <th>3</th>\n",
              "      <td>5.0</td>\n",
              "      <td>0.70</td>\n",
              "    </tr>\n",
              "    <tr>\n",
              "      <th>4</th>\n",
              "      <td>5.9</td>\n",
              "      <td>2.80</td>\n",
              "    </tr>\n",
              "    <tr>\n",
              "      <th>5</th>\n",
              "      <td>6.2</td>\n",
              "      <td>1.50</td>\n",
              "    </tr>\n",
              "  </tbody>\n",
              "</table>\n",
              "</div>"
            ],
            "text/plain": [
              "     X     Y\n",
              "0  2.5  3.00\n",
              "1  3.1 -1.01\n",
              "2  4.5  1.50\n",
              "3  5.0  0.70\n",
              "4  5.9  2.80\n",
              "5  6.2  1.50"
            ]
          },
          "metadata": {
            "tags": []
          },
          "execution_count": 95
        }
      ]
    },
    {
      "cell_type": "markdown",
      "metadata": {
        "colab_type": "text",
        "id": "9A1cN3eZdgzo"
      },
      "source": [
        "### Laggrange interpolation"
      ]
    },
    {
      "cell_type": "code",
      "metadata": {
        "colab_type": "code",
        "id": "LsPt_BSkdgzq",
        "colab": {}
      },
      "source": [
        "pol=interpolate.lagrange(df.X,df.Y)"
      ],
      "execution_count": 0,
      "outputs": []
    },
    {
      "cell_type": "code",
      "metadata": {
        "colab_type": "code",
        "id": "EXe1GFYGtDN_",
        "outputId": "9653d373-d327-4977-9931-260cd061582b",
        "colab": {
          "base_uri": "https://localhost:8080/",
          "height": 54
        }
      },
      "source": [
        "print(pol)"
      ],
      "execution_count": 53,
      "outputs": [
        {
          "output_type": "stream",
          "text": [
            "         5         4         3         2\n",
            "-0.8941 x + 19.97 x - 174.7 x + 746.7 x - 1557 x + 1264\n"
          ],
          "name": "stdout"
        }
      ]
    },
    {
      "cell_type": "markdown",
      "metadata": {
        "colab_type": "text",
        "id": "eDLotgQ_0xWr"
      },
      "source": [
        "`df.X` is a Pandas Series"
      ]
    },
    {
      "cell_type": "code",
      "metadata": {
        "colab_type": "code",
        "id": "R9JUnYyM056J",
        "outputId": "8fb0899e-613d-42fb-e33b-9cda57852fe9",
        "colab": {
          "base_uri": "https://localhost:8080/",
          "height": 146
        }
      },
      "source": [
        "df.X"
      ],
      "execution_count": 54,
      "outputs": [
        {
          "output_type": "execute_result",
          "data": {
            "text/plain": [
              "0    2.5\n",
              "1    3.1\n",
              "2    4.5\n",
              "3    5.0\n",
              "4    5.9\n",
              "5    6.2\n",
              "Name: X, dtype: float64"
            ]
          },
          "metadata": {
            "tags": []
          },
          "execution_count": 54
        }
      ]
    },
    {
      "cell_type": "markdown",
      "metadata": {
        "colab_type": "text",
        "id": "tRWXrcKn08tB"
      },
      "source": [
        "To obtain some specific valuea by using slices, we must use `.iloc`\n",
        "\n",
        "Note that `df.X[3]=df.X.loc[3]=df.X.iloc[3]`"
      ]
    },
    {
      "cell_type": "code",
      "metadata": {
        "colab_type": "code",
        "id": "slfzFtTtDTdU",
        "outputId": "fa90bba4-c73e-4940-d7c0-43b87de7ef1f",
        "colab": {
          "base_uri": "https://localhost:8080/",
          "height": 35
        }
      },
      "source": [
        "df.X[3],df.X.loc[3],df.X.iloc[3]"
      ],
      "execution_count": 55,
      "outputs": [
        {
          "output_type": "execute_result",
          "data": {
            "text/plain": [
              "(5.0, 5.0, 5.0)"
            ]
          },
          "metadata": {
            "tags": []
          },
          "execution_count": 55
        }
      ]
    },
    {
      "cell_type": "code",
      "metadata": {
        "colab_type": "code",
        "id": "_ZPFiUHTDTdZ",
        "outputId": "fcc3c650-6af7-4139-fc0b-e6f377140c6b",
        "colab": {
          "base_uri": "https://localhost:8080/",
          "height": 35
        }
      },
      "source": [
        "df.X.iloc[-1]"
      ],
      "execution_count": 56,
      "outputs": [
        {
          "output_type": "execute_result",
          "data": {
            "text/plain": [
              "6.2"
            ]
          },
          "metadata": {
            "tags": []
          },
          "execution_count": 56
        }
      ]
    },
    {
      "cell_type": "markdown",
      "metadata": {
        "colab_type": "text",
        "id": "qfo3MjYJDTdd"
      },
      "source": [
        "works!"
      ]
    },
    {
      "cell_type": "code",
      "metadata": {
        "colab_type": "code",
        "id": "V4mFHd1udgzs",
        "outputId": "f5dbfe6f-4beb-4fdf-9287-7cfb5b1af6d9",
        "colab": {
          "base_uri": "https://localhost:8080/",
          "height": 279
        }
      },
      "source": [
        "x=np.linspace(df.X.iloc[0],df.X.iloc[-1],100)\n",
        "plt.plot(x,pol(x))\n",
        "plt.plot(df.X,df.Y,'ro')\n",
        "plt.xlabel('X')\n",
        "plt.ylabel('Y')\n",
        "plt.grid()"
      ],
      "execution_count": 57,
      "outputs": [
        {
          "output_type": "display_data",
          "data": {
            "image/png": "[encoded data removed]",
            "text/plain": [
              "<Figure size 432x288 with 1 Axes>"
            ]
          },
          "metadata": {
            "tags": [],
            "needs_background": "light"
          }
        }
      ]
    },
    {
      "cell_type": "markdown",
      "metadata": {
        "colab_type": "text",
        "id": "kAQzDhu4y2D9"
      },
      "source": [
        "## Hermite interpolation\n",
        "The recommend degree for the Hermite polynomial is $n-1$ where $n$ is the number of data of the dataset"
      ]
    },
    {
      "cell_type": "code",
      "metadata": {
        "colab_type": "code",
        "id": "Vwfh2ncUEvHO",
        "colab": {}
      },
      "source": [
        "H=np.polynomial.hermite.Hermite.fit(df.X,df.Y,5)"
      ],
      "execution_count": 0,
      "outputs": []
    },
    {
      "cell_type": "code",
      "metadata": {
        "colab_type": "code",
        "id": "5HMGT25vt5Sj",
        "outputId": "a37a9ce6-d356-49f6-ee56-9fb1811f3e84",
        "colab": {
          "base_uri": "https://localhost:8080/",
          "height": 297
        }
      },
      "source": [
        "plt.plot(x,H(x),'k-')\n",
        "plt.plot(x,pol(x),'c--')\n",
        "plt.plot(df.X,df.Y,'ro')\n",
        "plt.grid()\n",
        "plt.xlabel('$x$')\n",
        "plt.ylabel('$H(x)$')"
      ],
      "execution_count": 59,
      "outputs": [
        {
          "output_type": "execute_result",
          "data": {
            "text/plain": [
              "Text(0, 0.5, '$H(x)$')"
            ]
          },
          "metadata": {
            "tags": []
          },
          "execution_count": 59
        },
        {
          "output_type": "display_data",
          "data": {
            "image/png": "[encoded data removed]",
            "text/plain": [
              "<Figure size 432x288 with 1 Axes>"
            ]
          },
          "metadata": {
            "tags": [],
            "needs_background": "light"
          }
        }
      ]
    },
    {
      "cell_type": "markdown",
      "metadata": {
        "colab_type": "text",
        "id": "sELjzLJu3ANt"
      },
      "source": [
        "## Finding the local minimums of a function"
      ]
    },
    {
      "cell_type": "markdown",
      "metadata": {
        "colab_type": "text",
        "id": "Xn1LS8S_dgzx"
      },
      "source": [
        "Finding the first minimum close to  <font color=\"red\">3</font> (which corresponds to the global minimum), and the sceond close to <font color=\"red\">5</font>  (a  local minimum)"
      ]
    },
    {
      "cell_type": "code",
      "metadata": {
        "colab_type": "code",
        "id": "cOSweiw3dgzx",
        "outputId": "6a5ce62b-a110-4949-af14-fcfd4b0bfc3e",
        "colab": {
          "base_uri": "https://localhost:8080/",
          "height": 164
        }
      },
      "source": [
        "min1=optimize.fmin_powell(pol,3,full_output=True)\n",
        "min2=optimize.fmin_powell(pol,5.2,full_output=True)"
      ],
      "execution_count": 60,
      "outputs": [
        {
          "output_type": "stream",
          "text": [
            "Optimization terminated successfully.\n",
            "         Current function value: -1.374113\n",
            "         Iterations: 2\n",
            "         Function evaluations: 28\n",
            "Optimization terminated successfully.\n",
            "         Current function value: 0.699898\n",
            "         Iterations: 2\n",
            "         Function evaluations: 50\n"
          ],
          "name": "stdout"
        }
      ]
    },
    {
      "cell_type": "code",
      "metadata": {
        "colab_type": "code",
        "id": "la9Q-ixD4IEL",
        "outputId": "b38d4c0c-8f1d-4350-b0aa-4d16a32aa732",
        "colab": {
          "base_uri": "https://localhost:8080/",
          "height": 35
        }
      },
      "source": [
        "min1"
      ],
      "execution_count": 61,
      "outputs": [
        {
          "output_type": "execute_result",
          "data": {
            "text/plain": [
              "(array(2.92784955), array(-1.37411316), array([[1.]]), 2, 28, 0)"
            ]
          },
          "metadata": {
            "tags": []
          },
          "execution_count": 61
        }
      ]
    },
    {
      "cell_type": "code",
      "metadata": {
        "colab_type": "code",
        "id": "rgJuNHLHdgz0",
        "outputId": "3afffe2c-6c09-4d5e-90ea-0aaa5146a001",
        "colab": {
          "base_uri": "https://localhost:8080/",
          "height": 54
        }
      },
      "source": [
        "print('The global minimum is f(x)={} for x={};\\n the local minimum is f(x)={} for x={}'.format(\n",
        "    min1[1],min1[0],min2[1],min2[0]))"
      ],
      "execution_count": 62,
      "outputs": [
        {
          "output_type": "stream",
          "text": [
            "The global minimum is f(x)=-1.3741131581291484 for x=2.9278495523433894;\n",
            " the local minimum is f(x)=0.6998981514389016 for x=5.004929292406532\n"
          ],
          "name": "stdout"
        }
      ]
    },
    {
      "cell_type": "markdown",
      "metadata": {
        "colab_type": "text",
        "id": "ZczFMqAgLIDr"
      },
      "source": [
        "**Activity** Find the maximum values of the Hermite interpolation function of degree 5 to the set of points: https://github.com/restrepo/ComputationalMethods/blob/master/data/hermite.csv\n",
        "\n"
      ]
    },
    {
      "cell_type": "code",
      "metadata": {
        "id": "MtzSuGCdaWTt",
        "colab_type": "code",
        "colab": {}
      },
      "source": [
        "import numpy as np\n",
        "import pandas as pd\n",
        "import scipy as sp"
      ],
      "execution_count": 0,
      "outputs": []
    },
    {
      "cell_type": "code",
      "metadata": {
        "id": "d3DQl_4wan9T",
        "colab_type": "code",
        "colab": {
          "base_uri": "https://localhost:8080/",
          "height": 238
        },
        "outputId": "550d907c-c679-4895-ccae-a73cd72a26d5"
      },
      "source": [
        "# Carga de datos.\n",
        "\n",
        "dfp = pd.read_csv('https://raw.githubusercontent.com/restrepo/ComputationalMethods/master/data/hermite.csv')\n",
        "dfp"
      ],
      "execution_count": 144,
      "outputs": [
        {
          "output_type": "execute_result",
          "data": {
            "text/html": [
              "<div>\n",
              "<style scoped>\n",
              "    .dataframe tbody tr th:only-of-type {\n",
              "        vertical-align: middle;\n",
              "    }\n",
              "\n",
              "    .dataframe tbody tr th {\n",
              "        vertical-align: top;\n",
              "    }\n",
              "\n",
              "    .dataframe thead th {\n",
              "        text-align: right;\n",
              "    }\n",
              "</style>\n",
              "<table border=\"1\" class=\"dataframe\">\n",
              "  <thead>\n",
              "    <tr style=\"text-align: right;\">\n",
              "      <th></th>\n",
              "      <th>X</th>\n",
              "      <th>Y</th>\n",
              "    </tr>\n",
              "  </thead>\n",
              "  <tbody>\n",
              "    <tr>\n",
              "      <th>0</th>\n",
              "      <td>2.5</td>\n",
              "      <td>3.00</td>\n",
              "    </tr>\n",
              "    <tr>\n",
              "      <th>1</th>\n",
              "      <td>3.1</td>\n",
              "      <td>-1.01</td>\n",
              "    </tr>\n",
              "    <tr>\n",
              "      <th>2</th>\n",
              "      <td>4.5</td>\n",
              "      <td>1.50</td>\n",
              "    </tr>\n",
              "    <tr>\n",
              "      <th>3</th>\n",
              "      <td>5.0</td>\n",
              "      <td>0.70</td>\n",
              "    </tr>\n",
              "    <tr>\n",
              "      <th>4</th>\n",
              "      <td>5.9</td>\n",
              "      <td>2.80</td>\n",
              "    </tr>\n",
              "    <tr>\n",
              "      <th>5</th>\n",
              "      <td>6.2</td>\n",
              "      <td>1.50</td>\n",
              "    </tr>\n",
              "  </tbody>\n",
              "</table>\n",
              "</div>"
            ],
            "text/plain": [
              "     X     Y\n",
              "0  2.5  3.00\n",
              "1  3.1 -1.01\n",
              "2  4.5  1.50\n",
              "3  5.0  0.70\n",
              "4  5.9  2.80\n",
              "5  6.2  1.50"
            ]
          },
          "metadata": {
            "tags": []
          },
          "execution_count": 144
        }
      ]
    },
    {
      "cell_type": "code",
      "metadata": {
        "id": "1SA-xqPpbK_0",
        "colab_type": "code",
        "colab": {
          "base_uri": "https://localhost:8080/",
          "height": 54
        },
        "outputId": "6d4cf978-d1d3-4d21-ce8a-af2f0b514098"
      },
      "source": [
        "# Interpolación polinomio de Hermite.\n",
        "\n",
        "H = np.polynomial.hermite.Hermite.fit(dfp.X, dfp.Y, 5)\n",
        "print(H)"
      ],
      "execution_count": 145,
      "outputs": [
        {
          "output_type": "stream",
          "text": [
            "herm([  3.576809   -21.34734251   3.14948158  -9.275257     0.38128861\n",
            "  -0.60545713])\n"
          ],
          "name": "stdout"
        }
      ]
    },
    {
      "cell_type": "code",
      "metadata": {
        "id": "bxbbNrAdcr_S",
        "colab_type": "code",
        "colab": {
          "base_uri": "https://localhost:8080/",
          "height": 265
        },
        "outputId": "eaa0cdaa-e988-4183-a801-8ef72976119f"
      },
      "source": [
        "# Gráfica del polinomio generado y su reflexxión respecto al eje x.\n",
        "\n",
        "x = np.linspace(dfp.X.iloc[0], dfp.X.iloc[-1])\n",
        "\n",
        "plt.plot(x, -H(x), 'k--')\n",
        "plt.plot(x, H(x))\n",
        "plt.grid()"
      ],
      "execution_count": 147,
      "outputs": [
        {
          "output_type": "display_data",
          "data": {
            "image/png": "[encoded data removed]",
            "text/plain": [
              "<Figure size 432x288 with 1 Axes>"
            ]
          },
          "metadata": {
            "tags": [],
            "needs_background": "light"
          }
        }
      ]
    },
    {
      "cell_type": "code",
      "metadata": {
        "id": "OxRRiIlMe7Ux",
        "colab_type": "code",
        "colab": {
          "base_uri": "https://localhost:8080/",
          "height": 109
        },
        "outputId": "46efbb93-c04d-4db1-9ddb-ba94eef41622"
      },
      "source": [
        "# Determinación de mínimos de -H.\n",
        "\n",
        "max_1 = sp.optimize.fmin_powell(-H, 5.5, full_output=True)\n",
        "print('Máximo 1: {} en x = {}'.format(-max_1[1], max_1[0]))"
      ],
      "execution_count": 149,
      "outputs": [
        {
          "output_type": "stream",
          "text": [
            "Optimization terminated successfully.\n",
            "         Current function value: -2.803764\n",
            "         Iterations: 2\n",
            "         Function evaluations: 28\n",
            "Máximo 1: 2.8037635755437735 en x = 5.918206992804193\n"
          ],
          "name": "stdout"
        }
      ]
    },
    {
      "cell_type": "code",
      "metadata": {
        "id": "tjfJ1SlEjWgB",
        "colab_type": "code",
        "colab": {
          "base_uri": "https://localhost:8080/",
          "height": 35
        },
        "outputId": "5a1df5b6-b98e-403b-f87e-58c1a40da3ba"
      },
      "source": [
        "# Determinación de mínimos de -H.\n",
        "\n",
        "max_2 = sp.optimize.minimize(-H, 4)\n",
        "print('Máximo 2: {} en x = {}'.format(-max_2['fun'], max_2['x']))"
      ],
      "execution_count": 148,
      "outputs": [
        {
          "output_type": "stream",
          "text": [
            "Máximo 2: 2.27472928945971 en x = [4.0150238]\n"
          ],
          "name": "stdout"
        }
      ]
    },
    {
      "cell_type": "code",
      "metadata": {
        "id": "x2pxCb3xlETl",
        "colab_type": "code",
        "colab": {}
      },
      "source": [
        ""
      ],
      "execution_count": 0,
      "outputs": []
    },
    {
      "cell_type": "code",
      "metadata": {
        "colab_type": "code",
        "id": "7jgYitmHM0wh",
        "outputId": "5b3aac38-a3bb-45ea-81aa-2fdfa29f3f79",
        "colab": {
          "base_uri": "https://localhost:8080/",
          "height": 297
        }
      },
      "source": [
        "df=pd.read_csv('https://raw.githubusercontent.com/restrepo/ComputationalMethods/master/data/hermite.csv')\n",
        "H=np.polynomial.hermite.Hermite.fit(df.X,df.Y,5)\n",
        "x=np.linspace(df.X.iloc[0],df.X.iloc[-1],100)\n",
        "plt.plot(x,-H(x),'k-')\n",
        "plt.grid()\n",
        "plt.xlabel('$x$')\n",
        "plt.ylabel('$H(x)$')"
      ],
      "execution_count": 66,
      "outputs": [
        {
          "output_type": "execute_result",
          "data": {
            "text/plain": [
              "Text(0, 0.5, '$H(x)$')"
            ]
          },
          "metadata": {
            "tags": []
          },
          "execution_count": 66
        },
        {
          "output_type": "display_data",
          "data": {
            "image/png": "[encoded data removed]",
            "text/plain": [
              "<Figure size 432x288 with 1 Axes>"
            ]
          },
          "metadata": {
            "tags": [],
            "needs_background": "light"
          }
        }
      ]
    },
    {
      "cell_type": "markdown",
      "metadata": {
        "id": "F1WtNN_1YlnK",
        "colab_type": "text"
      },
      "source": [
        "`fmin_powell` try to search the global minimum"
      ]
    },
    {
      "cell_type": "code",
      "metadata": {
        "id": "FlZQCAdDYlnL",
        "colab_type": "code",
        "outputId": "55a7b045-09e3-4b23-c0a6-05ce61863e5f",
        "colab": {
          "base_uri": "https://localhost:8080/",
          "height": 109
        }
      },
      "source": [
        "optimize.fmin_powell(-H,4.5)"
      ],
      "execution_count": 67,
      "outputs": [
        {
          "output_type": "stream",
          "text": [
            "Optimization terminated successfully.\n",
            "         Current function value: -2.803764\n",
            "         Iterations: 2\n",
            "         Function evaluations: 27\n"
          ],
          "name": "stdout"
        },
        {
          "output_type": "execute_result",
          "data": {
            "text/plain": [
              "array(5.918213)"
            ]
          },
          "metadata": {
            "tags": []
          },
          "execution_count": 67
        }
      ]
    },
    {
      "cell_type": "markdown",
      "metadata": {
        "id": "i_gYqS-AYlnS",
        "colab_type": "text"
      },
      "source": [
        "### Find a local minumum"
      ]
    },
    {
      "cell_type": "markdown",
      "metadata": {
        "id": "wMe-GZCLYlnT",
        "colab_type": "text"
      },
      "source": [
        "close minimum"
      ]
    },
    {
      "cell_type": "code",
      "metadata": {
        "id": "9UGiTwKLYlnU",
        "colab_type": "code",
        "outputId": "c9555f7f-1590-4444-f88e-90308887c954",
        "colab": {
          "base_uri": "https://localhost:8080/",
          "height": 35
        }
      },
      "source": [
        "min1=optimize.minimize(-H,x0=4.5)\n",
        "min1['x']"
      ],
      "execution_count": 68,
      "outputs": [
        {
          "output_type": "execute_result",
          "data": {
            "text/plain": [
              "array([4.01502454])"
            ]
          },
          "metadata": {
            "tags": []
          },
          "execution_count": 68
        }
      ]
    },
    {
      "cell_type": "code",
      "metadata": {
        "id": "uXngwP1MYlnY",
        "colab_type": "code",
        "outputId": "21991b93-38e0-493b-f14a-33b3ea9bacac",
        "colab": {
          "base_uri": "https://localhost:8080/",
          "height": 35
        }
      },
      "source": [
        "min1=optimize.minimize(-H,5.2)\n",
        "min1['x']"
      ],
      "execution_count": 69,
      "outputs": [
        {
          "output_type": "execute_result",
          "data": {
            "text/plain": [
              "array([5.91821428])"
            ]
          },
          "metadata": {
            "tags": []
          },
          "execution_count": 69
        }
      ]
    },
    {
      "cell_type": "markdown",
      "metadata": {
        "id": "eR6E8Wv1Ylne",
        "colab_type": "text"
      },
      "source": [
        "minimum in a range"
      ]
    },
    {
      "cell_type": "code",
      "metadata": {
        "id": "js_Vk3PZYlnf",
        "colab_type": "code",
        "outputId": "111f5f0b-a22d-43e7-a40c-7e9132e2bdd5",
        "colab": {
          "base_uri": "https://localhost:8080/",
          "height": 35
        }
      },
      "source": [
        "min1=optimize.minimize(-H,x0=4,bounds=((3.5, 4.5), ) )\n",
        "min1['x']"
      ],
      "execution_count": 70,
      "outputs": [
        {
          "output_type": "execute_result",
          "data": {
            "text/plain": [
              "array([4.0150238])"
            ]
          },
          "metadata": {
            "tags": []
          },
          "execution_count": 70
        }
      ]
    },
    {
      "cell_type": "code",
      "metadata": {
        "id": "JVMKcjL3Ylnn",
        "colab_type": "code",
        "outputId": "dd5a7373-7a3f-4374-f9c9-2b0f628138de",
        "colab": {
          "base_uri": "https://localhost:8080/",
          "height": 35
        }
      },
      "source": [
        "xmin_local = optimize.fminbound(-H, 3.5, 4.5)\n",
        "xmin_local"
      ],
      "execution_count": 71,
      "outputs": [
        {
          "output_type": "execute_result",
          "data": {
            "text/plain": [
              "4.01502533002799"
            ]
          },
          "metadata": {
            "tags": []
          },
          "execution_count": 71
        }
      ]
    },
    {
      "cell_type": "code",
      "metadata": {
        "id": "aewC3ru_Ylnt",
        "colab_type": "code",
        "outputId": "9d271489-6680-49ae-a275-2a89f03e3631",
        "colab": {
          "base_uri": "https://localhost:8080/",
          "height": 35
        }
      },
      "source": [
        "optimize.brute(-H,ranges=((3.5,4.5,0.1),))"
      ],
      "execution_count": 72,
      "outputs": [
        {
          "output_type": "execute_result",
          "data": {
            "text/plain": [
              "array([4.01503906])"
            ]
          },
          "metadata": {
            "tags": []
          },
          "execution_count": 72
        }
      ]
    },
    {
      "cell_type": "markdown",
      "metadata": {
        "id": "lN-DT0W5Yln1",
        "colab_type": "text"
      },
      "source": [
        "### Find a global minumum (alternative)"
      ]
    },
    {
      "cell_type": "code",
      "metadata": {
        "id": "hRIGIZjZYln3",
        "colab_type": "code",
        "outputId": "aadf1fc1-c3c6-4600-8fce-b9b7c78dcafb",
        "colab": {
          "base_uri": "https://localhost:8080/",
          "height": 35
        }
      },
      "source": [
        "min1=optimize.basinhopping(-H,5.5)\n",
        "min1['x']"
      ],
      "execution_count": 73,
      "outputs": [
        {
          "output_type": "execute_result",
          "data": {
            "text/plain": [
              "array([5.91821428])"
            ]
          },
          "metadata": {
            "tags": []
          },
          "execution_count": 73
        }
      ]
    },
    {
      "cell_type": "code",
      "metadata": {
        "id": "FFVLeZLeYln7",
        "colab_type": "code",
        "outputId": "c6f65f7a-e715-402d-80df-be29cd88af86",
        "colab": {
          "base_uri": "https://localhost:8080/",
          "height": 35
        }
      },
      "source": [
        "%pylab inline"
      ],
      "execution_count": 74,
      "outputs": [
        {
          "output_type": "stream",
          "text": [
            "Populating the interactive namespace from numpy and matplotlib\n"
          ],
          "name": "stdout"
        }
      ]
    },
    {
      "cell_type": "code",
      "metadata": {
        "id": "58I0uwnKYloH",
        "colab_type": "code",
        "colab": {}
      },
      "source": [
        "import pandas as pd"
      ],
      "execution_count": 0,
      "outputs": []
    },
    {
      "cell_type": "markdown",
      "metadata": {
        "colab_type": "text",
        "id": "kcxcq_UHdgz4"
      },
      "source": [
        "## The Higgs potential\n",
        "To write greek letter inside a cell use the $\\rm \\LaTeX$ macro and the tab, e.g: `\\mu<TAB>`, to produce μ"
      ]
    },
    {
      "cell_type": "code",
      "metadata": {
        "colab_type": "code",
        "id": "6gwXoy3Y4uHq",
        "colab": {}
      },
      "source": [
        "α=2"
      ],
      "execution_count": 0,
      "outputs": []
    },
    {
      "cell_type": "code",
      "metadata": {
        "colab_type": "code",
        "id": "3_SlIknqdgz5",
        "outputId": "0d812f53-d250-46cc-ad45-f202c7a3bdae",
        "colab": {
          "base_uri": "https://localhost:8080/",
          "height": 35
        }
      },
      "source": [
        "m_H=126 # GeV\n",
        "G_F=1.1663787E-5 #GeV^-2\n",
        "v=1/np.sqrt(np.sqrt(2.)*G_F) # GeV\n",
        "μ=np.sqrt(m_H**2/2)\n",
        "λ=m_H**2/(2.*v**2)\n",
        "μ,λ"
      ],
      "execution_count": 77,
      "outputs": [
        {
          "output_type": "execute_result",
          "data": {
            "text/plain": [
              "(89.09545442950498, 0.13093799079487806)"
            ]
          },
          "metadata": {
            "tags": []
          },
          "execution_count": 77
        }
      ]
    },
    {
      "cell_type": "code",
      "metadata": {
        "colab_type": "code",
        "id": "kjckHBGPdgz9",
        "outputId": "c37e8377-d7e5-4b95-d08b-d53f99f673b5",
        "colab": {
          "base_uri": "https://localhost:8080/",
          "height": 303
        }
      },
      "source": [
        "ϕ=np.linspace(-300,300)\n",
        "Vp=lambda ϕ: 0.5*μ**2*ϕ**2+0.25*λ*ϕ**4\n",
        "plt.plot(ϕ, Vp(ϕ) )\n",
        "plt.xlabel(r'$\\phi$ [GeV]',size=20 )\n",
        "plt.ylabel(r'$V(\\phi)$ [GeV]',size=20)\n",
        "plt.xlabel(r'$\\phi$ [GeV]',size=20 )\n",
        "plt.ylabel(r'$V(\\phi)$ [GeV$^4$]',size=20)\n",
        "plt.grid()"
      ],
      "execution_count": 78,
      "outputs": [
        {
          "output_type": "display_data",
          "data": {
            "image/png": "[encoded data removed]",
            "text/plain": [
              "<Figure size 432x288 with 1 Axes>"
            ]
          },
          "metadata": {
            "tags": [],
            "needs_background": "light"
          }
        }
      ]
    },
    {
      "cell_type": "code",
      "metadata": {
        "colab_type": "code",
        "id": "hMQL-lgIdgz_",
        "colab": {}
      },
      "source": [
        "μ=μ*1j\n",
        "V=lambda ϕ: Vp(ϕ).real"
      ],
      "execution_count": 0,
      "outputs": []
    },
    {
      "cell_type": "code",
      "metadata": {
        "id": "j8w7bH1CYlok",
        "colab_type": "code",
        "outputId": "6a91b501-3c6e-4dc3-ea03-9ef9bbf3a904",
        "colab": {
          "base_uri": "https://localhost:8080/",
          "height": 35
        }
      },
      "source": [
        "Vp(ϕ)[0].real"
      ],
      "execution_count": 80,
      "outputs": [
        {
          "output_type": "execute_result",
          "data": {
            "text/plain": [
              "-92060568.64037189"
            ]
          },
          "metadata": {
            "tags": []
          },
          "execution_count": 80
        }
      ]
    },
    {
      "cell_type": "code",
      "metadata": {
        "colab_type": "code",
        "id": "jML4SJqwdg0C",
        "outputId": "8813ebbf-d1c9-41d1-ddaf-6dd645a273e5",
        "colab": {
          "base_uri": "https://localhost:8080/",
          "height": 276
        }
      },
      "source": [
        "ϕ=np.linspace(-380,380)\n",
        "plt.plot(ϕ, V(ϕ) )\n",
        "plt.grid()"
      ],
      "execution_count": 81,
      "outputs": [
        {
          "output_type": "display_data",
          "data": {
            "image/png": "[encoded data removed]",
            "text/plain": [
              "<Figure size 432x288 with 1 Axes>"
            ]
          },
          "metadata": {
            "tags": [],
            "needs_background": "light"
          }
        }
      ]
    },
    {
      "cell_type": "code",
      "metadata": {
        "colab_type": "code",
        "id": "SiGF-Sgvdg0G",
        "outputId": "8f3fa428-f03c-4e9e-b57a-5ed9d48db11d",
        "colab": {
          "base_uri": "https://localhost:8080/",
          "height": 90
        }
      },
      "source": [
        "fp=optimize.fmin_powell(V,200,ftol=1E-16,full_output=True)"
      ],
      "execution_count": 82,
      "outputs": [
        {
          "output_type": "stream",
          "text": [
            "Optimization terminated successfully.\n",
            "         Current function value: -120308559.069597\n",
            "         Iterations: 4\n",
            "         Function evaluations: 74\n"
          ],
          "name": "stdout"
        }
      ]
    },
    {
      "cell_type": "code",
      "metadata": {
        "colab_type": "code",
        "id": "ow-5I0Szdg0K",
        "colab": {}
      },
      "source": [
        "ϕ_min=fp[0]"
      ],
      "execution_count": 0,
      "outputs": []
    },
    {
      "cell_type": "code",
      "metadata": {
        "colab_type": "code",
        "id": "0svkw5eSdg0N",
        "outputId": "867019f3-0f2a-4e40-88c5-5eefe91be015",
        "colab": {
          "base_uri": "https://localhost:8080/",
          "height": 35
        }
      },
      "source": [
        "print(ϕ_min,v)"
      ],
      "execution_count": 84,
      "outputs": [
        {
          "output_type": "stream",
          "text": [
            "246.21964987858152 246.21965079413738\n"
          ],
          "name": "stdout"
        }
      ]
    },
    {
      "cell_type": "markdown",
      "metadata": {
        "colab_type": "text",
        "id": "CRgwJ5SVdg0T"
      },
      "source": [
        "##  Minimization in higher dimensions\n",
        "<div style=\"float: right;\" markdown=\"1\">\n",
        "    <img src=\"https://raw.githubusercontent.com/restrepo/ComputationalMethods/master/material/figures/mexicanhat.svg?sanitize=true\" width=\"300\">\n",
        "</div>\n",
        "\n",
        "For a complex scalar field with potential\n",
        "\\begin{equation}\n",
        "V(\\phi)=\\mu^2\\phi^*\\phi + \\lambda (\\phi^*\\phi)^2\n",
        "\\end{equation}\n",
        "with \n",
        "\\begin{equation}\n",
        "\\phi=\\frac{\\phi_1+i\\phi_2  }{\\sqrt{2} }\n",
        "\\end{equation}\n",
        "and $\\mu^2<0$, and $\\lambda>0$, find some of the infinite number of minimum values of $\\phi$, as illustrated in the figure, with the plane, $\\phi_1-\\phi_2$, moved to the minimum to easy the visualization. Expanding in terms of the real and imaginary part of $\\phi$\n",
        "\\begin{equation}\n",
        "V(\\phi)=\\frac{\\mu^2}{2}\\left(\\phi_1^2+\\phi_2^2 \\right) + \\frac{\\lambda}{4}\\left( \\phi_1^2+\\phi_2^2\\right)^2\n",
        "\\end{equation}\n",
        "\n"
      ]
    },
    {
      "cell_type": "code",
      "metadata": {
        "id": "UsAySS8NYlo_",
        "colab_type": "code",
        "colab": {}
      },
      "source": [
        "def f(ϕ,m_H=126,G_F=1.1663787E-5):\n",
        "    v=1/np.sqrt(np.sqrt(2.)*G_F) # GeV\n",
        "    μ=np.sqrt(m_H**2/2)*1j #imaginary mass\n",
        "    λ=m_H**2/(2.*v**2)\n",
        "    #print(μ,λ)\n",
        "    return ( 0.5*μ**2*(ϕ[0]**2+ϕ[1]**2)+0.25*λ*(ϕ[0]**2+ϕ[1]**2)**2 ).real"
      ],
      "execution_count": 0,
      "outputs": []
    },
    {
      "cell_type": "markdown",
      "metadata": {
        "id": "LiKzCz6zYlpE",
        "colab_type": "text"
      },
      "source": [
        "Check a point of the function"
      ]
    },
    {
      "cell_type": "code",
      "metadata": {
        "id": "hcqiVWpMYlpG",
        "colab_type": "code",
        "outputId": "cab1c474-5428-4701-b456-1de033991268",
        "colab": {
          "base_uri": "https://localhost:8080/",
          "height": 35
        }
      },
      "source": [
        "f([0,10])"
      ],
      "execution_count": 86,
      "outputs": [
        {
          "output_type": "execute_result",
          "data": {
            "text/plain": [
              "-396572.6550230127"
            ]
          },
          "metadata": {
            "tags": []
          },
          "execution_count": 86
        }
      ]
    },
    {
      "cell_type": "markdown",
      "metadata": {
        "id": "G8JcgjLeYlpK",
        "colab_type": "text"
      },
      "source": [
        "Check the minimim obtained when an inizialization point at $\\phi_0=(0,0)$"
      ]
    },
    {
      "cell_type": "code",
      "metadata": {
        "colab_type": "code",
        "id": "86f1ZqusDBPa",
        "outputId": "f7abe1f7-54f5-420f-97eb-16a190cdc0c6",
        "colab": {
          "base_uri": "https://localhost:8080/",
          "height": 109
        }
      },
      "source": [
        "fmin=optimize.fmin_powell(f,x0=[0,10],ftol=1E-16,full_output=True)\n",
        "fmin[0]"
      ],
      "execution_count": 87,
      "outputs": [
        {
          "output_type": "stream",
          "text": [
            "Optimization terminated successfully.\n",
            "         Current function value: -120308559.069597\n",
            "         Iterations: 3\n",
            "         Function evaluations: 111\n"
          ],
          "name": "stdout"
        },
        {
          "output_type": "execute_result",
          "data": {
            "text/plain": [
              "array([246.21914011,  -0.50137284])"
            ]
          },
          "metadata": {
            "tags": []
          },
          "execution_count": 87
        }
      ]
    },
    {
      "cell_type": "markdown",
      "metadata": {
        "id": "JNXGj-JHYlpX",
        "colab_type": "text"
      },
      "source": [
        "Check the proyection of the minimum in the plane $\\phi_1-\\phi_2$"
      ]
    },
    {
      "cell_type": "code",
      "metadata": {
        "id": "pxF7BDXnYlpY",
        "colab_type": "code",
        "outputId": "0b648ff5-336d-4ae8-f57e-df712b673106",
        "colab": {
          "base_uri": "https://localhost:8080/",
          "height": 35
        }
      },
      "source": [
        "print('V(ϕ)={} GeV^4'.format(fmin[1].round(1)))"
      ],
      "execution_count": 88,
      "outputs": [
        {
          "output_type": "stream",
          "text": [
            "V(ϕ)=-120308559.1 GeV^4\n"
          ],
          "name": "stdout"
        }
      ]
    },
    {
      "cell_type": "code",
      "metadata": {
        "colab_type": "code",
        "id": "k1oZmo7GFWDl",
        "outputId": "f3a19242-fe29-4fed-a8b4-4d74d0370e3f",
        "colab": {
          "base_uri": "https://localhost:8080/",
          "height": 35
        }
      },
      "source": [
        "np.sqrt( fmin[0][0]**2+fmin[0][1]**2 )"
      ],
      "execution_count": 89,
      "outputs": [
        {
          "output_type": "execute_result",
          "data": {
            "text/plain": [
              "246.21965057683713"
            ]
          },
          "metadata": {
            "tags": []
          },
          "execution_count": 89
        }
      ]
    },
    {
      "cell_type": "markdown",
      "metadata": {
        "id": "EowkuHJoYlpf",
        "colab_type": "text"
      },
      "source": [
        "For random initialization points, we can get several minima"
      ]
    },
    {
      "cell_type": "code",
      "metadata": {
        "id": "LlxlnLZPYlpf",
        "colab_type": "code",
        "outputId": "f1338675-985c-4a92-b2bd-a09ddc96380b",
        "colab": {
          "base_uri": "https://localhost:8080/",
          "height": 35
        }
      },
      "source": [
        "np.random.uniform(-300,300,2)"
      ],
      "execution_count": 90,
      "outputs": [
        {
          "output_type": "execute_result",
          "data": {
            "text/plain": [
              "array([-293.11873154,  165.11909671])"
            ]
          },
          "metadata": {
            "tags": []
          },
          "execution_count": 90
        }
      ]
    },
    {
      "cell_type": "code",
      "metadata": {
        "id": "LVRbNoUqYlpi",
        "colab_type": "code",
        "colab": {}
      },
      "source": [
        "df=pd.DataFrame()\n",
        "for i in range(1000):\n",
        "    ϕ0=np.random.uniform(-300,300,2)\n",
        "    ϕmin=optimize.fmin_powell(f,x0=ϕ0,ftol=1E-16,disp=False)\n",
        "    df=df.append({'ϕ1':ϕmin[0],'ϕ2':ϕmin[1]},ignore_index=True)"
      ],
      "execution_count": 0,
      "outputs": []
    },
    {
      "cell_type": "markdown",
      "metadata": {
        "id": "Y_2aHq3tYlpn",
        "colab_type": "text"
      },
      "source": [
        "Projection of the minima in the plane, $\\phi_1,\\phi_2$"
      ]
    },
    {
      "cell_type": "code",
      "metadata": {
        "id": "uyuixXtlYlpo",
        "colab_type": "code",
        "outputId": "5c0efe17-6f0a-4dcc-d16e-75c54e4aec63",
        "colab": {
          "base_uri": "https://localhost:8080/",
          "height": 143
        }
      },
      "source": [
        "df[:3]"
      ],
      "execution_count": 92,
      "outputs": [
        {
          "output_type": "execute_result",
          "data": {
            "text/html": [
              "<div>\n",
              "<style scoped>\n",
              "    .dataframe tbody tr th:only-of-type {\n",
              "        vertical-align: middle;\n",
              "    }\n",
              "\n",
              "    .dataframe tbody tr th {\n",
              "        vertical-align: top;\n",
              "    }\n",
              "\n",
              "    .dataframe thead th {\n",
              "        text-align: right;\n",
              "    }\n",
              "</style>\n",
              "<table border=\"1\" class=\"dataframe\">\n",
              "  <thead>\n",
              "    <tr style=\"text-align: right;\">\n",
              "      <th></th>\n",
              "      <th>ϕ1</th>\n",
              "      <th>ϕ2</th>\n",
              "    </tr>\n",
              "  </thead>\n",
              "  <tbody>\n",
              "    <tr>\n",
              "      <th>0</th>\n",
              "      <td>-202.286038</td>\n",
              "      <td>-140.372631</td>\n",
              "    </tr>\n",
              "    <tr>\n",
              "      <th>1</th>\n",
              "      <td>-217.973162</td>\n",
              "      <td>114.506843</td>\n",
              "    </tr>\n",
              "    <tr>\n",
              "      <th>2</th>\n",
              "      <td>234.076655</td>\n",
              "      <td>76.369078</td>\n",
              "    </tr>\n",
              "  </tbody>\n",
              "</table>\n",
              "</div>"
            ],
            "text/plain": [
              "           ϕ1          ϕ2\n",
              "0 -202.286038 -140.372631\n",
              "1 -217.973162  114.506843\n",
              "2  234.076655   76.369078"
            ]
          },
          "metadata": {
            "tags": []
          },
          "execution_count": 92
        }
      ]
    },
    {
      "cell_type": "code",
      "metadata": {
        "id": "v9pSCuIbYlpt",
        "colab_type": "code",
        "outputId": "975743b4-b6dc-4b75-e3ec-2d0f29e7f8a8",
        "colab": {
          "base_uri": "https://localhost:8080/",
          "height": 397
        }
      },
      "source": [
        "plt.figure( figsize=(6,6) )\n",
        "plt.plot(df['ϕ1'],df['ϕ2'],'r.',label=r'$\\phi_{{\\rm min}}={}$ GeV'.format(\n",
        "    np.sqrt(df.loc[0,'ϕ1']**2+df.loc[0,'ϕ2']**2).round(1)))\n",
        "plt.plot(df.loc[0,'ϕ1'],df.loc[0,'ϕ2'],'k*',label='Our Universe',markersize=10)\n",
        "plt.xlabel('$\\phi_1$',size=15)\n",
        "plt.ylabel('$\\phi_2$',size=15)\n",
        "plt.legend(loc='best')\n",
        "plt.grid()"
      ],
      "execution_count": 93,
      "outputs": [
        {
          "output_type": "display_data",
          "data": {
            "image/png": "[encoded data removed]",
            "text/plain": [
              "<Figure size 432x432 with 1 Axes>"
            ]
          },
          "metadata": {
            "tags": [],
            "needs_background": "light"
          }
        }
      ]
    },
    {
      "cell_type": "markdown",
      "metadata": {
        "colab_type": "text",
        "id": "n2o2H-HHdg0T"
      },
      "source": [
        "## Least action\n",
        "See [Least action minimization](./least_action_minimization.ipynb)"
      ]
    },
    {
      "cell_type": "markdown",
      "metadata": {
        "colab_type": "text",
        "id": "AXKLZojEdg0s"
      },
      "source": [
        "### Further material\n",
        "http://www.damtp.cam.ac.uk/user/nsm10/PrincLeaAc.pdf\n",
        "https://jfuchs.hotell.kau.se/kurs/amek/prst/14_hpvp.pdf\n",
        "\n",
        "https://www.coursera.org/learn/general-relativity/lecture/8UHtE/the-least-action-or-minimal-action-principle-part-1\n",
        "\n",
        "https://jfi.uchicago.edu/~tten/from.panza/Physics185/Handouts/rubber-band%20analogy.pdf"
      ]
    }
  ]
}
{
  "nbformat": 4,
  "nbformat_minor": 0,
  "metadata": {
    "kernelspec": {
      "display_name": "Python 3",
      "language": "python",
      "name": "python3"
    },
    "language_info": {
      "codemirror_mode": {
        "name": "ipython",
        "version": 3
      },
      "file_extension": ".py",
      "mimetype": "text/x-python",
      "name": "python",
      "nbconvert_exporter": "python",
      "pygments_lexer": "ipython3",
      "version": "3.5.3"
    },
    "toc": {
      "colors": {
        "hover_highlight": "#DAA520",
        "running_highlight": "#FF0000",
        "selected_highlight": "#FFD700"
      },
      "moveMenuLeft": true,
      "nav_menu": {
        "height": "322px",
        "width": "252px"
      },
      "navigate_menu": true,
      "number_sections": true,
      "sideBar": true,
      "threshold": 4,
      "toc_cell": false,
      "toc_section_display": "block",
      "toc_window_display": false
    },
    "colab": {
      "name": "least_action_minimization.ipynb",
      "provenance": [],
      "collapsed_sections": []
    }
  },
  "cells": [
    {
      "cell_type": "markdown",
      "metadata": {
        "id": "m1BwgcKFBkLw",
        "colab_type": "text"
      },
      "source": [
        "# Least Action with least squares minimization "
      ]
    },
    {
      "cell_type": "markdown",
      "metadata": {
        "id": "TSL0dN-LBkLz",
        "colab_type": "text"
      },
      "source": [
        "Load modules"
      ]
    },
    {
      "cell_type": "code",
      "metadata": {
        "id": "k7R8QRGBBkL2",
        "colab_type": "code",
        "outputId": "635458f7-5582-454d-a946-d069c928f158",
        "colab": {
          "base_uri": "https://localhost:8080/",
          "height": 35
        }
      },
      "source": [
        "%pylab inline"
      ],
      "execution_count": 1,
      "outputs": [
        {
          "output_type": "stream",
          "text": [
            "Populating the interactive namespace from numpy and matplotlib\n"
          ],
          "name": "stdout"
        }
      ]
    },
    {
      "cell_type": "code",
      "metadata": {
        "id": "U3A4ZOrmBkMI",
        "colab_type": "code",
        "colab": {}
      },
      "source": [
        "import numpy as np\n",
        "import scipy.optimize \n",
        "import pandas as pd\n",
        "global g  \n",
        "g=9.8"
      ],
      "execution_count": 0,
      "outputs": []
    },
    {
      "cell_type": "markdown",
      "metadata": {
        "id": "4yrk9pERBkMS",
        "colab_type": "text"
      },
      "source": [
        "<div style=\"float: right;\" markdown=\"1\">\n",
        "    <img src=\"https://raw.githubusercontent.com/restrepo/ComputationalMethods/master/material/figures/leastaction3.svg?sanitize=true\">\n",
        "</div>\n",
        "\n",
        "\n",
        "## Geometry interpretation\n",
        "Following the geometry theory developed [here](http://www.eftaylor.com/software/ActionApplets/LeastAction.html), we will try to define something called the _Action_ for one small segment of the free fall movement in one-dimension. \n",
        "\n",
        "For that we need the experimental data consisting on the height of an object of mass $m$ in free fall, and the height $x_i$, for each time $t_i$. This data would be fitted by a polynomial of degree two, as displayed in the figure for one of the fitted segments of the plot of $x$ as a function of $t$. We take the origin of the coordinates at ground level. For each segment we can calculate an average kinetic energy, $T$, and an averge potential energy, $V$, in the limit of $\\Delta t=t_2-t_1$ small. From the figure\n",
        "\n",
        "\\begin{align}\n",
        "T_{12}=\\frac12 m v^2\\approx &\\frac12 m\\left(\\frac{x_2-x_1}{t_2-t_1}\\right)^2\\,,&\n",
        "V_{12}=mgh\\approx& m g \\frac{x_2+x_1}{2}\\,.\n",
        "\\end{align}\n",
        "\n",
        "We can then reformulate the problem of the free fall in the following terms. From all the possible curves that can interpolate the points $(t_1,x_1)$ and $(t_2,x_2)$, which is the correct one?. \n",
        "\n",
        "The answer obtained by Euler can be obtained from the definition of the function \"Lagrangian\"\n",
        "$$L(t)=T(t)-V(t)$$\n",
        "\n",
        "We define the \"Action\" of one interpolating function between the points $(t_1,x_1)$ and $(t_2,x_2)$ as\n",
        "$$S=\\int_{t_1}^{t_2} L\\, {\\rm d}t $$\n",
        "\n",
        "The result if that correct interpolation is the one that has a minumum value for the Action!\n",
        "\n",
        "For one segment of the action between $(t_1,x_1)$, and $(t_2,x_2)$, with $\\Delta t$ sufficiently small such that $L$ can be considered constant, we have\n",
        "\\begin{eqnarray}\n",
        "S_1&=&\\int_{t_1}^{t_2} L dt \\\\\n",
        "&\\approx& \\left[\\frac12 m v^2-m g h \\right]\\Delta t\\\\\n",
        "&\\approx& \\left[\\frac12 m\\left(\\frac{x_2-x_1}{t_2-t_1}\\right)^2-m g \\frac{x_2+x_1}{2} \\right](t_2-t_1)\n",
        "\\end{eqnarray}\n",
        "that corresponds to Eq. (11) of Am. J. Phys, Vol. 72(2004)478: http://www.eftaylor.com/pub/Symmetries&ConsLaws.pdf"
      ]
    },
    {
      "cell_type": "markdown",
      "metadata": {
        "id": "pRuvTO3GBkMU",
        "colab_type": "text"
      },
      "source": [
        "## Code implementation"
      ]
    },
    {
      "cell_type": "markdown",
      "metadata": {
        "id": "HLnW8P57BkMW",
        "colab_type": "text"
      },
      "source": [
        "### The Action\n",
        "We define the Action $S$ such of an object of mass $m$ throw vertically upward from $x_{\\hbox{ini}}$, such that $t_{\\hbox{end}}$ seconds later the object return to a height $x_{\\hbox{end}}$, as\n",
        "\\begin{eqnarray}\n",
        "S&=&\\int_{t_{\\hbox{ini}}}^{t_{\\hbox{end}}} L\\, {\\rm d}t \\\\\n",
        "&=&\\sum_i L_i \\Delta t\n",
        "\\end{eqnarray}"
      ]
    },
    {
      "cell_type": "code",
      "metadata": {
        "id": "teCSS7KiBkMY",
        "colab_type": "code",
        "colab": {}
      },
      "source": [
        "def S(x,tend=3.,m=0.2,xini=0.,xend=0.,g=9.8):\n",
        "    \"\"\"\n",
        "    Calculate the Action of an object of of mass 'm' throw vertically upward from \n",
        "       'xini', such that 'tend' seconds later the object return to a height 'xend'.\n",
        "       Delta t must be constant.\n",
        "       \n",
        "    The defaults units for S are J.s   \n",
        "    \"\"\"\n",
        "    t=float(tend)\n",
        "    Dt=t/x[:-1].size\n",
        "    x=np.asarray(x)\n",
        "    #Fix initial and final point\n",
        "    x[0]=xini\n",
        "    x[-1]=xend\n",
        "    return ((0.5*m*(x[1:]-x[:-1])**2/Dt**2-0.5*m*g*(x[1:]+x[:-1]))*Dt).sum()"
      ],
      "execution_count": 0,
      "outputs": []
    },
    {
      "cell_type": "markdown",
      "metadata": {
        "id": "67TEj8WaBkMi",
        "colab_type": "text"
      },
      "source": [
        "## Least Action calculation"
      ]
    },
    {
      "cell_type": "markdown",
      "metadata": {
        "id": "T21XYdqVBkMk",
        "colab_type": "text"
      },
      "source": [
        "_Problem_: Let an object of mass $m=0.2$ Kg throw vertically updward and returning back to the same hand after 3 s. Find the function of distance versus time of least Action. "
      ]
    },
    {
      "cell_type": "markdown",
      "metadata": {
        "id": "Qi9tXYkwBkMl",
        "colab_type": "text"
      },
      "source": [
        "If we denote the height at time $t_i$ as $x_i=x(t_i)$, we can calculate the action for any set of $x_i$ points with the inititial and final points fixed at $0\\ $m.\n",
        "\n",
        "__Example__: By using the previous definition, calculates the Action for 21 steps in time from $0$ at $3\\ $s for an object that does not move at all\n",
        "\n",
        "__Solution__:"
      ]
    },
    {
      "cell_type": "code",
      "metadata": {
        "id": "rMxEp3pZBkMn",
        "colab_type": "code",
        "outputId": "e8b7d41a-e644-4953-b7a1-78dda2f62b13",
        "colab": {
          "base_uri": "https://localhost:8080/",
          "height": 35
        }
      },
      "source": [
        "x=np.zeros(21)\n",
        "S(x)"
      ],
      "execution_count": 4,
      "outputs": [
        {
          "output_type": "execute_result",
          "data": {
            "text/plain": [
              "0.0"
            ]
          },
          "metadata": {
            "tags": []
          },
          "execution_count": 4
        }
      ]
    },
    {
      "cell_type": "markdown",
      "metadata": {
        "id": "PmrmwXmVBkMw",
        "colab_type": "text"
      },
      "source": [
        "__Activity__:  _Brute force approach_\n",
        "\n",
        "Open the Activity notebook in [CoCalc!](https://cocalc.com/projects/a8330cfb-9dfb-442e-9b2b-ba664e31a685/files/Activity_Least_Action.ipynb?session=default)\n",
        "\n",
        "1) calculates the Action for 21 steps in time from $0$ at $3\\ $s, for an object that at a random position in each time between zero and $15\\ $m, but with the initial and final positions set to zero. Make the plot for the random curve. "
      ]
    },
    {
      "cell_type": "markdown",
      "metadata": {
        "id": "GgaKV9ueBkMz",
        "colab_type": "text"
      },
      "source": [
        "Let us divide the intervals in 21 parts:"
      ]
    },
    {
      "cell_type": "code",
      "metadata": {
        "id": "Q6nGB_r8BkM1",
        "colab_type": "code",
        "colab": {
          "base_uri": "https://localhost:8080/",
          "height": 201
        },
        "outputId": "a009299f-78c5-4114-c160-072aa48e38a2"
      },
      "source": [
        "#Initialize with the maximum possible value\n",
        "Smin=np.inf\n",
        "for i in range(100000):\n",
        "    #21 one random number between 0 and 15\n",
        "    x=np.random.uniform(0,15,21)\n",
        "    # Force the boundary conditions\n",
        "    x[0]=0\n",
        "    x[-1]=0\n",
        "    Sx=S(x)\n",
        "    if Sx<Smin:\n",
        "        #Get new minimum\n",
        "        Smin=Sx\n",
        "        xmin=x\n",
        "        print(Smin)"
      ],
      "execution_count": 46,
      "outputs": [
        {
          "output_type": "stream",
          "text": [
            "257.52879635835905\n",
            "228.37890628606738\n",
            "222.47404705509848\n",
            "173.22681407645965\n",
            "144.68703169885129\n",
            "139.4573266117263\n",
            "82.8217141912971\n",
            "81.65239626953995\n",
            "80.17116978175758\n",
            "63.2156608025652\n"
          ],
          "name": "stdout"
        }
      ]
    },
    {
      "cell_type": "markdown",
      "metadata": {
        "id": "jHUvIgLBBkNA",
        "colab_type": "text"
      },
      "source": [
        "<!-- xmin=pd.read_csv('https://github.com/restrepo/ComputationalMethods/raw/master/data/random.csv').xrandom.values -->"
      ]
    },
    {
      "cell_type": "markdown",
      "metadata": {
        "id": "IojGE7y_BkNB",
        "colab_type": "text"
      },
      "source": [
        "Check again the Acion, $S$, value for `xmin`"
      ]
    },
    {
      "cell_type": "markdown",
      "metadata": {
        "id": "gWh-8c9BBkNC",
        "colab_type": "text"
      },
      "source": [
        "2) Find the set of interpolation Lagrange polinomial that a set a points as smooth as possible"
      ]
    },
    {
      "cell_type": "code",
      "metadata": {
        "id": "Sz2EOFLfBkNE",
        "colab_type": "code",
        "colab": {}
      },
      "source": [
        "from scipy import interpolate"
      ],
      "execution_count": 0,
      "outputs": []
    },
    {
      "cell_type": "markdown",
      "metadata": {
        "id": "ZAUKqcIrBkNK",
        "colab_type": "text"
      },
      "source": [
        "Assign a time, $t_i$ to each $x_i$ point in `xmin`"
      ]
    },
    {
      "cell_type": "code",
      "metadata": {
        "id": "9iPvwsuqBkNS",
        "colab_type": "code",
        "colab": {
          "base_uri": "https://localhost:8080/",
          "height": 54
        },
        "outputId": "c2ddb536-5959-4072-a714-e1c11a054938"
      },
      "source": [
        "tx=np.linspace(0,3,len(xmin))\n",
        "tx"
      ],
      "execution_count": 79,
      "outputs": [
        {
          "output_type": "execute_result",
          "data": {
            "text/plain": [
              "array([0.  , 0.15, 0.3 , 0.45, 0.6 , 0.75, 0.9 , 1.05, 1.2 , 1.35, 1.5 ,\n",
              "       1.65, 1.8 , 1.95, 2.1 , 2.25, 2.4 , 2.55, 2.7 , 2.85, 3.  ])"
            ]
          },
          "metadata": {
            "tags": []
          },
          "execution_count": 79
        }
      ]
    },
    {
      "cell_type": "markdown",
      "metadata": {
        "id": "B56pzd7TBkNZ",
        "colab_type": "text"
      },
      "source": [
        "Complete the set of interpolation Lagrange polynomials: Change `pe` to the high value that allows for on smooth curve, and uncomment the next code and repeat as many times as required"
      ]
    },
    {
      "cell_type": "code",
      "metadata": {
        "id": "CVvRR7peBkNb",
        "colab_type": "code",
        "outputId": "6d42d653-1b19-4571-e59e-ee71d9fc2e96",
        "colab": {
          "base_uri": "https://localhost:8080/",
          "height": 287
        }
      },
      "source": [
        "p = []\n",
        "\n",
        "plt.plot(tx,xmin,'r.')\n",
        "\n",
        "pi=0\n",
        "pe=4\n",
        "L=interpolate.lagrange(tx[pi:pe],xmin[pi:pe])\n",
        "txx=np.linspace(tx[pi],tx[pe-1])\n",
        "plt.plot(txx,L(txx))\n",
        "\n",
        "p.append(pi)\n",
        "p.append(pe)\n",
        "\n",
        "pi=pe-1\n",
        "pe=8\n",
        "L=interpolate.lagrange(tx[pi:pe],xmin[pi:pe])\n",
        "txx=np.linspace(tx[pi],tx[pe-1])\n",
        "plt.plot(txx,L(txx))\n",
        "\n",
        "p.append(pi)\n",
        "p.append(pe)\n",
        "\n",
        "pi=pe-1\n",
        "pe=16\n",
        "L=interpolate.lagrange(tx[pi:pe],xmin[pi:pe])\n",
        "txx=np.linspace(tx[pi],tx[pe-1])\n",
        "plt.plot(txx,L(txx))\n",
        "\n",
        "p.append(pi)\n",
        "p.append(pe)\n",
        "\n",
        "pi=pe-1\n",
        "pe=19\n",
        "L=interpolate.lagrange(tx[pi:pe],xmin[pi:pe])\n",
        "txx=np.linspace(tx[pi],tx[pe-1])\n",
        "plt.plot(txx,L(txx))\n",
        "\n",
        "p.append(pi)\n",
        "p.append(pe)\n",
        "\n",
        "pi=pe-1\n",
        "pe=21\n",
        "L=interpolate.lagrange(tx[pi:pe],xmin[pi:pe])\n",
        "txx=np.linspace(tx[pi],tx[pe-1])\n",
        "plt.plot(txx,L(txx))\n",
        "\n",
        "p.append(pi)\n",
        "p.append(pe)\n",
        "\n",
        "plt.ylim(-1,20)\n",
        "plt.xlim(-0.1,3.3)\n",
        "\n",
        "p"
      ],
      "execution_count": 99,
      "outputs": [
        {
          "output_type": "execute_result",
          "data": {
            "text/plain": [
              "[0, 4, 3, 8, 7, 16, 15, 19, 18, 21]"
            ]
          },
          "metadata": {
            "tags": []
          },
          "execution_count": 99
        },
        {
          "output_type": "display_data",
          "data": {
            "image/png": "[encoded data removed]",
            "text/plain": [
              "<Figure size 432x288 with 1 Axes>"
            ]
          },
          "metadata": {
            "tags": [],
            "needs_background": "light"
          }
        }
      ]
    },
    {
      "cell_type": "markdown",
      "metadata": {
        "id": "BAOr4aI2BkNi",
        "colab_type": "text"
      },
      "source": [
        "3) Built a step function for the full range each of the interpolation Lagrangian polynomial in each range"
      ]
    },
    {
      "cell_type": "code",
      "metadata": {
        "id": "0i_uy60ShQcn",
        "colab_type": "code",
        "colab": {
          "base_uri": "https://localhost:8080/",
          "height": 164
        },
        "outputId": "eb919372-5518-4411-d2e8-c39d47369ab6"
      },
      "source": [
        "L = []\n",
        "\n",
        "r = int(len(p)/2)\n",
        "\n",
        "for i in range(r):\n",
        "  L.append(interpolate.lagrange(tx[p[2*i]:p[2*i+1]], xmin[p[2*i]:p[2*i+1]]))\n",
        "\n",
        "L"
      ],
      "execution_count": 111,
      "outputs": [
        {
          "output_type": "execute_result",
          "data": {
            "text/plain": [
              "[poly1d([-25.17393045,  10.00201244,  15.07143569,   0.        ]),\n",
              " poly1d([ 2066.93336015, -6240.16059953,  6859.71238088, -3236.93434882,\n",
              "          557.91972754]),\n",
              " poly1d([-2.67251201e+03,  3.92104597e+04, -2.48203136e+05,  8.85602835e+05,\n",
              "        -1.94840068e+06,  2.70667221e+06, -2.31830847e+06,  1.11913039e+06,\n",
              "        -2.33046633e+05]),\n",
              " poly1d([ -272.74086934,  1989.63719564, -4837.25416682,  3927.4594578 ]),\n",
              " poly1d([  50.7246554 , -299.02997703,  440.56803245])]"
            ]
          },
          "metadata": {
            "tags": []
          },
          "execution_count": 111
        }
      ]
    },
    {
      "cell_type": "code",
      "metadata": {
        "id": "7kdzokkmyhNr",
        "colab_type": "code",
        "colab": {}
      },
      "source": [
        "def X(t):\n",
        "  \n",
        "  if t<tx[0] or t>tx[-1]:\n",
        "      x = 0\n",
        "\n",
        "  for i in range(r):\n",
        "\n",
        "    r1 = tx[p[2*i]]\n",
        "    r2 = tx[p[2*i+1]-1]\n",
        "\n",
        "    if r1<=t<=r2:\n",
        "      x = L[i](t)\n",
        "\n",
        "  return x"
      ],
      "execution_count": 0,
      "outputs": []
    },
    {
      "cell_type": "code",
      "metadata": {
        "id": "NoSMShuz4niF",
        "colab_type": "code",
        "colab": {
          "base_uri": "https://localhost:8080/",
          "height": 35
        },
        "outputId": "8f6fbc36-3436-4a13-ef73-4fc11121ac9d"
      },
      "source": [
        "X(1.5)"
      ],
      "execution_count": 152,
      "outputs": [
        {
          "output_type": "execute_result",
          "data": {
            "text/plain": [
              "6.760272216954036"
            ]
          },
          "metadata": {
            "tags": []
          },
          "execution_count": 152
        }
      ]
    },
    {
      "cell_type": "code",
      "metadata": {
        "id": "_YBFSZlqD3nk",
        "colab_type": "code",
        "colab": {
          "base_uri": "https://localhost:8080/",
          "height": 35
        },
        "outputId": "74ec0590-d84c-4bd0-ceb8-fb40677e4d84"
      },
      "source": [
        "X(2.4)"
      ],
      "execution_count": 153,
      "outputs": [
        {
          "output_type": "execute_result",
          "data": {
            "text/plain": [
              "7.989926551013923"
            ]
          },
          "metadata": {
            "tags": []
          },
          "execution_count": 153
        }
      ]
    },
    {
      "cell_type": "code",
      "metadata": {
        "id": "IaYtXkKBD_2R",
        "colab_type": "code",
        "colab": {
          "base_uri": "https://localhost:8080/",
          "height": 35
        },
        "outputId": "db3445d0-12cc-4e7c-a42f-d776b5a8ce87"
      },
      "source": [
        "Xv = np.vectorize(X)\n",
        "\n",
        "Xv([1.5, 2.4])"
      ],
      "execution_count": 154,
      "outputs": [
        {
          "output_type": "execute_result",
          "data": {
            "text/plain": [
              "array([6.76027222, 7.98992655])"
            ]
          },
          "metadata": {
            "tags": []
          },
          "execution_count": 154
        }
      ]
    },
    {
      "cell_type": "code",
      "metadata": {
        "id": "DQ7jyfKgET1e",
        "colab_type": "code",
        "colab": {
          "base_uri": "https://localhost:8080/",
          "height": 283
        },
        "outputId": "056479d1-a72d-46e7-ec8d-351c4b550d32"
      },
      "source": [
        "tt = np.linspace(tx[0], tx[-1], 100)\n",
        "\n",
        "plt.plot(tx, xmin, 'r.')\n",
        "plt.plot(tt, Xv(tt))"
      ],
      "execution_count": 159,
      "outputs": [
        {
          "output_type": "execute_result",
          "data": {
            "text/plain": [
              "[<matplotlib.lines.Line2D at 0x7fd3ca629f98>]"
            ]
          },
          "metadata": {
            "tags": []
          },
          "execution_count": 159
        },
        {
          "output_type": "display_data",
          "data": {
            "image/png": "[encoded data removed]",
            "text/plain": [
              "<Figure size 432x288 with 1 Axes>"
            ]
          },
          "metadata": {
            "tags": [],
            "needs_background": "light"
          }
        }
      ]
    },
    {
      "cell_type": "markdown",
      "metadata": {
        "id": "7p9b79w5BkNl",
        "colab_type": "text"
      },
      "source": [
        "4) Build a step function with `interpolate.interp1d`"
      ]
    },
    {
      "cell_type": "markdown",
      "metadata": {
        "id": "oY67sH6OBkNm",
        "colab_type": "text"
      },
      "source": [
        "5) Fit the points with a polynomial of degree 2"
      ]
    },
    {
      "cell_type": "code",
      "metadata": {
        "id": "Smebv5L2HP0h",
        "colab_type": "code",
        "colab": {
          "base_uri": "https://localhost:8080/",
          "height": 54
        },
        "outputId": "83b46d1c-d98e-425f-bcd3-4868346ca4a5"
      },
      "source": [
        "poly2 = np.poly1d(np.polyfit(tx, xmin, 2))\n",
        "print(poly2)"
      ],
      "execution_count": 165,
      "outputs": [
        {
          "output_type": "stream",
          "text": [
            "        2\n",
            "-4.319 x + 13.05 x + 0.4339\n"
          ],
          "name": "stdout"
        }
      ]
    },
    {
      "cell_type": "code",
      "metadata": {
        "id": "q8jSJGXHH4HW",
        "colab_type": "code",
        "colab": {
          "base_uri": "https://localhost:8080/",
          "height": 265
        },
        "outputId": "7c6d4dee-e5e3-4a03-edc6-feb5cb96ad72"
      },
      "source": [
        "xp = poly2(tt)\n",
        "\n",
        "xp[0] = 0\n",
        "xp[-1] = 0\n",
        "\n",
        "plt.plot(tx, poly2(tx), 'r.')\n",
        "plt.plot(tt, xp)\n",
        "plt.grid()\n",
        "plt.show()"
      ],
      "execution_count": 172,
      "outputs": [
        {
          "output_type": "display_data",
          "data": {
            "image/png": "[encoded data removed]",
            "text/plain": [
              "<Figure size 432x288 with 1 Axes>"
            ]
          },
          "metadata": {
            "tags": [],
            "needs_background": "light"
          }
        }
      ]
    },
    {
      "cell_type": "code",
      "metadata": {
        "id": "66qm2elSIcMH",
        "colab_type": "code",
        "colab": {
          "base_uri": "https://localhost:8080/",
          "height": 35
        },
        "outputId": "58283232-68c7-4482-ecd8-c71fffec8855"
      },
      "source": [
        "S(xmin)"
      ],
      "execution_count": 169,
      "outputs": [
        {
          "output_type": "execute_result",
          "data": {
            "text/plain": [
              "63.2156608025652"
            ]
          },
          "metadata": {
            "tags": []
          },
          "execution_count": 169
        }
      ]
    },
    {
      "cell_type": "code",
      "metadata": {
        "id": "1H7ox_KwImU9",
        "colab_type": "code",
        "colab": {
          "base_uri": "https://localhost:8080/",
          "height": 35
        },
        "outputId": "eb82a407-6e57-44f2-9b12-edb2beca820d"
      },
      "source": [
        "S(Xv(tt))"
      ],
      "execution_count": 170,
      "outputs": [
        {
          "output_type": "execute_result",
          "data": {
            "text/plain": [
              "271.77370585603416"
            ]
          },
          "metadata": {
            "tags": []
          },
          "execution_count": 170
        }
      ]
    },
    {
      "cell_type": "code",
      "metadata": {
        "id": "Es031Q4vItq1",
        "colab_type": "code",
        "colab": {
          "base_uri": "https://localhost:8080/",
          "height": 35
        },
        "outputId": "eee72827-e76c-4197-a560-774f861a4cb0"
      },
      "source": [
        "S(xp)"
      ],
      "execution_count": 174,
      "outputs": [
        {
          "output_type": "execute_result",
          "data": {
            "text/plain": [
              "-19.413718402526726"
            ]
          },
          "metadata": {
            "tags": []
          },
          "execution_count": 174
        }
      ]
    },
    {
      "cell_type": "code",
      "metadata": {
        "id": "KtTak0YVBkNo",
        "colab_type": "code",
        "outputId": "da2b4704-1ddb-48fc-930d-9b623a636194",
        "colab": {
          "base_uri": "https://localhost:8080/",
          "height": 239
        }
      },
      "source": [
        "fig, (ax1, ax2) = plt.subplots(1, 2,figsize=(12,4))\n",
        "p=[]\n",
        "pi=0\n",
        "pe=21\n",
        "x1d=interpolate.interp1d(tx[pi:pe],xmin[pi:pe],kind=2)\n",
        "txx=np.linspace(tx[pi],tx[pe-1],1000)\n",
        "ax1.plot(tx,xmin,'r.')\n",
        "ax1.plot(txx,x1d(txx))\n",
        "ax1.set(xlim=(-0.1,3.3),ylim=(-1,20),\n",
        "        xlabel='$t$ [s]',ylabel='$x(t)$ (m)')\n",
        "\n",
        "ax2.plot(tx,xmin,'r.')\n",
        "ax2.plot(txx,x1d(txx))\n",
        "ax2.set(xlim=(0.5,1.3),ylim=(5.7,12),\n",
        "        xlabel='zoom in')\n",
        "\n",
        "fig.tight_layout(pad=4.0)\n"
      ],
      "execution_count": 9,
      "outputs": [
        {
          "output_type": "display_data",
          "data": {
            "image/png": "[encoded data removed]",
            "text/plain": [
              "<Figure size 864x288 with 2 Axes>"
            ]
          },
          "metadata": {
            "tags": [],
            "needs_background": "light"
          }
        }
      ]
    },
    {
      "cell_type": "code",
      "metadata": {
        "id": "rXRnpV8MBkNx",
        "colab_type": "code",
        "colab": {}
      },
      "source": [
        "# Plot results 3) and 4) here"
      ],
      "execution_count": 0,
      "outputs": []
    },
    {
      "cell_type": "markdown",
      "metadata": {
        "id": "OYos30w4BkN1",
        "colab_type": "text"
      },
      "source": [
        "5) Compare the Action for `xmin`, some `x` obtained from the full range function obtained from the interpolation Lagrange polynomials, and some `xP` obtained from the degree 2 polynomial"
      ]
    },
    {
      "cell_type": "code",
      "metadata": {
        "id": "Ys0dH5EYBkN2",
        "colab_type": "code",
        "outputId": "28a30225-e553-4569-8fc2-e19faaf2e5c0",
        "colab": {
          "base_uri": "https://localhost:8080/",
          "height": 35
        }
      },
      "source": [
        "S(xmin)"
      ],
      "execution_count": 11,
      "outputs": [
        {
          "output_type": "execute_result",
          "data": {
            "text/plain": [
              "42.01575430176155"
            ]
          },
          "metadata": {
            "tags": []
          },
          "execution_count": 11
        }
      ]
    },
    {
      "cell_type": "code",
      "metadata": {
        "id": "7W-Izj97BkN9",
        "colab_type": "code",
        "colab": {}
      },
      "source": [
        "#S for step function here"
      ],
      "execution_count": 0,
      "outputs": []
    },
    {
      "cell_type": "code",
      "metadata": {
        "id": "0dOdE3ksBkOF",
        "colab_type": "code",
        "outputId": "df4e4e8e-0ac4-4a42-d61d-0bca69ce0054",
        "colab": {
          "base_uri": "https://localhost:8080/",
          "height": 35
        }
      },
      "source": [
        "S(x1d(txx))"
      ],
      "execution_count": 13,
      "outputs": [
        {
          "output_type": "execute_result",
          "data": {
            "text/plain": [
              "54.78427963285195"
            ]
          },
          "metadata": {
            "tags": []
          },
          "execution_count": 13
        }
      ]
    },
    {
      "cell_type": "code",
      "metadata": {
        "id": "kePUD6kWBkOK",
        "colab_type": "code",
        "colab": {}
      },
      "source": [
        "#S for degree 2 function here"
      ],
      "execution_count": 0,
      "outputs": []
    },
    {
      "cell_type": "markdown",
      "metadata": {
        "id": "4QCYBIR3BkOS",
        "colab_type": "text"
      },
      "source": [
        "Which one is the one with the least action and why?"
      ]
    },
    {
      "cell_type": "markdown",
      "metadata": {
        "id": "WKdRB5rkBkOY",
        "colab_type": "text"
      },
      "source": [
        "### Minimization"
      ]
    },
    {
      "cell_type": "markdown",
      "metadata": {
        "id": "U6DH_gu7BkOa",
        "colab_type": "text"
      },
      "source": [
        "Function to find the least Action by using `scipy.optimize.fmin_powell`. It start from $\\mathbf{x}=(x_{\\hbox{ini}},0,0,\\ldots,x_{\\hbox{end}})$ and find the least action"
      ]
    },
    {
      "cell_type": "code",
      "metadata": {
        "id": "6zFtHoSSBkOa",
        "colab_type": "code",
        "colab": {}
      },
      "source": [
        "import scipy.optimize as optimize\n",
        "def xfit(n,t=3.,m=0.2,xini=0.,xend=0.,ftol=1E-8):\n",
        "    '''Find the array of n (odd) components that minimizes the action S(x)\n",
        "\n",
        "    :Parameters:\n",
        "\n",
        "    n: odd integer \n",
        "        dimension of the ndarray x that minimizes the action  S(x,t,m)\n",
        "    t,m: numbers\n",
        "       optional parameters for the action\n",
        "    ftol: number\n",
        "        acceptable relative error in S(x) for convergence.\n",
        "\n",
        "    :Returns: (x,xmax,Smin)\n",
        "    \n",
        "    x: ndarray\n",
        "        minimizer of the action S(x)\n",
        "        \n",
        "    xini:\n",
        "    \n",
        "    xend:\n",
        "\n",
        "    xmax: number\n",
        "        Maximum height for the object\n",
        "\n",
        "    Smin: number\n",
        "        value of function at minimum: Smin = S(x)\n",
        "    '''\n",
        "    t=float(t)\n",
        "    if n%2==0:\n",
        "        print ( 'x array must be odd')\n",
        "        sys.exit()\n",
        "  \n",
        "    x0=np.zeros(n)\n",
        "    a=optimize.fmin_powell(S,x0,args=(t,m,xini,xend),ftol=ftol,full_output=1)\n",
        "    x=a[0]\n",
        "    x[0]=xini;x[-1]=xend\n",
        "    xmax=np.sort(x)[-1]\n",
        "    Smin=a[1]\n",
        "    Dt=t/x[:-1].size #  t/(n-1)\n",
        "    return x,xmax,Smin,Dt"
      ],
      "execution_count": 0,
      "outputs": []
    },
    {
      "cell_type": "code",
      "metadata": {
        "id": "xTXWuVuuBkOe",
        "colab_type": "code",
        "outputId": "32f9cc49-b544-490c-aac2-61d2cceca7bc",
        "colab": {
          "base_uri": "https://localhost:8080/",
          "height": 90
        }
      },
      "source": [
        "t=3.\n",
        "m=0.2\n",
        "y=xfit(21,t,m)\n",
        "x=y[0]\n",
        "xmax=y[1]\n",
        "Smin=y[2]\n",
        "Dt=y[3]\n",
        "tx=np.arange(0,t+Dt,Dt)"
      ],
      "execution_count": 16,
      "outputs": [
        {
          "output_type": "stream",
          "text": [
            "Optimization terminated successfully.\n",
            "         Current function value: -21.554977\n",
            "         Iterations: 28\n",
            "         Function evaluations: 5837\n"
          ],
          "name": "stdout"
        }
      ]
    },
    {
      "cell_type": "markdown",
      "metadata": {
        "id": "9Srd1z-vBkOn",
        "colab_type": "text"
      },
      "source": [
        "### Plot"
      ]
    },
    {
      "cell_type": "code",
      "metadata": {
        "id": "eFXmaaVzBkOo",
        "colab_type": "code",
        "outputId": "763ee824-0ed1-4058-f8fb-744571664409",
        "colab": {
          "base_uri": "https://localhost:8080/",
          "height": 313
        }
      },
      "source": [
        "plt.plot(tx,x,label='$S_{\\mathrm{min}}=$%.2f J.s' %Smin)\n",
        "plt.plot(tx,x,'ro')\n",
        "plt.ylabel('HEIGHT meters')\n",
        "plt.xlabel('TIME seconds')\n",
        "plt.title('Worldline of least action')\n",
        "plt.legend(loc='best')"
      ],
      "execution_count": 17,
      "outputs": [
        {
          "output_type": "execute_result",
          "data": {
            "text/plain": [
              "<matplotlib.legend.Legend at 0x7fd3cdffbdd8>"
            ]
          },
          "metadata": {
            "tags": []
          },
          "execution_count": 17
        },
        {
          "output_type": "display_data",
          "data": {
            "image/png": "[encoded data removed]",
            "text/plain": [
              "<Figure size 432x288 with 1 Axes>"
            ]
          },
          "metadata": {
            "tags": [],
            "needs_background": "light"
          }
        }
      ]
    },
    {
      "cell_type": "markdown",
      "metadata": {
        "id": "IANf0_IRBkOs",
        "colab_type": "text"
      },
      "source": [
        "Check the equation of movement: \n",
        "$$x(t)=-\\frac{{1}}{{2}}gt^2+v_0t$$"
      ]
    },
    {
      "cell_type": "code",
      "metadata": {
        "id": "wIrIu5PGBkOu",
        "colab_type": "code",
        "outputId": "11fc0734-3f17-483a-ffe8-be235c1aa6f6",
        "colab": {
          "base_uri": "https://localhost:8080/",
          "height": 54
        }
      },
      "source": [
        "P=poly1d ( np.polyfit(tx,x,2) )\n",
        "print(P)"
      ],
      "execution_count": 18,
      "outputs": [
        {
          "output_type": "stream",
          "text": [
            "      2\n",
            "-4.9 x + 14.7 x + 0.0001604\n"
          ],
          "name": "stdout"
        }
      ]
    },
    {
      "cell_type": "markdown",
      "metadata": {
        "id": "29WCbSasBkO0",
        "colab_type": "text"
      },
      "source": [
        "### Dynamics of the least action solution"
      ]
    },
    {
      "cell_type": "markdown",
      "metadata": {
        "id": "Mtfk0Vt5BkO1",
        "colab_type": "text"
      },
      "source": [
        "#### Velocity"
      ]
    },
    {
      "cell_type": "code",
      "metadata": {
        "id": "awpJvbkHBkO2",
        "colab_type": "code",
        "outputId": "e66afeaa-6734-4648-dc64-c961ed2d8adc",
        "colab": {
          "base_uri": "https://localhost:8080/",
          "height": 299
        }
      },
      "source": [
        "v=(x[1:]-x[:-1])/Dt\n",
        "Dt=t/v[:-1].size\n",
        "tx=np.arange(0,t+Dt,Dt)\n",
        "plt.plot(tx,v)\n",
        "plt.plot(tx,v,'ro')\n",
        "plt.xlabel('TIME seconds')\n",
        "plt.ylabel('VELOCITY meter/seconds')"
      ],
      "execution_count": 19,
      "outputs": [
        {
          "output_type": "execute_result",
          "data": {
            "text/plain": [
              "Text(0, 0.5, 'VELOCITY meter/seconds')"
            ]
          },
          "metadata": {
            "tags": []
          },
          "execution_count": 19
        },
        {
          "output_type": "display_data",
          "data": {
            "image/png": "[encoded data removed]",
            "text/plain": [
              "<Figure size 432x288 with 1 Axes>"
            ]
          },
          "metadata": {
            "tags": [],
            "needs_background": "light"
          }
        }
      ]
    },
    {
      "cell_type": "markdown",
      "metadata": {
        "id": "iCYG8n5XBkO7",
        "colab_type": "text"
      },
      "source": [
        "#### Aceleration"
      ]
    },
    {
      "cell_type": "code",
      "metadata": {
        "id": "jCq_LjkjBkO8",
        "colab_type": "code",
        "outputId": "6aacb0fe-95c0-4ec0-cebe-1bfcb4c77c8e",
        "colab": {
          "base_uri": "https://localhost:8080/",
          "height": 303
        }
      },
      "source": [
        "Dt=t/x[:-1].size\n",
        "a=(v[1:]-v[:-1])/Dt\n",
        "pa=plt.hist(a)\n",
        "plt.title('ACELERATION meter/second$^2$')"
      ],
      "execution_count": 20,
      "outputs": [
        {
          "output_type": "execute_result",
          "data": {
            "text/plain": [
              "Text(0.5, 1.0, 'ACELERATION meter/second$^2$')"
            ]
          },
          "metadata": {
            "tags": []
          },
          "execution_count": 20
        },
        {
          "output_type": "display_data",
          "data": {
            "image/png": "[encoded data removed]",
            "text/plain": [
              "<Figure size 432x288 with 1 Axes>"
            ]
          },
          "metadata": {
            "tags": [],
            "needs_background": "light"
          }
        }
      ]
    },
    {
      "cell_type": "markdown",
      "metadata": {
        "id": "cdFw8ng2BkPD",
        "colab_type": "text"
      },
      "source": [
        "#### Energy"
      ]
    },
    {
      "cell_type": "code",
      "metadata": {
        "id": "NhS_vZspBkPE",
        "colab_type": "code",
        "outputId": "b49d4575-4ccf-4fbd-958e-3444905cd25f",
        "colab": {
          "base_uri": "https://localhost:8080/",
          "height": 54
        }
      },
      "source": [
        "T=0.5*m*v**2\n",
        "V=0.5*m*g*(x[1:]+x[:-1])\n",
        "E=T+V\n",
        "print(np.round(E,2))"
      ],
      "execution_count": 21,
      "outputs": [
        {
          "output_type": "stream",
          "text": [
            "[21.56 21.56 21.56 21.56 21.56 21.56 21.55 21.55 21.56 21.56 21.56 21.56\n",
            " 21.56 21.56 21.56 21.55 21.55 21.56 21.56 21.55]\n"
          ],
          "name": "stdout"
        }
      ]
    },
    {
      "cell_type": "markdown",
      "metadata": {
        "id": "MPSdVa_-BkPK",
        "colab_type": "text"
      },
      "source": [
        "#### Action"
      ]
    },
    {
      "cell_type": "markdown",
      "metadata": {
        "id": "IZKZuYLnBkPL",
        "colab_type": "text"
      },
      "source": [
        "The Action is minimal in each interval!"
      ]
    },
    {
      "cell_type": "code",
      "metadata": {
        "id": "rERGUJZFBkPM",
        "colab_type": "code",
        "outputId": "0939e1e7-7692-4f00-da5a-46840440a71b",
        "colab": {
          "base_uri": "https://localhost:8080/",
          "height": 90
        }
      },
      "source": [
        "SS=(T-V)*Dt\n",
        "SS"
      ],
      "execution_count": 22,
      "outputs": [
        {
          "output_type": "execute_result",
          "data": {
            "text/plain": [
              "array([ 2.6176807 ,  1.45086655,  0.41339493, -0.49445999, -1.27239049,\n",
              "       -1.92031545, -2.4394347 , -2.82826668, -3.08743238, -3.21713111,\n",
              "       -3.21711685, -3.08747346, -2.82816485, -2.43888968, -1.9203943 ,\n",
              "       -1.27224487, -0.49433121,  0.41338257,  1.45064061,  2.61710336])"
            ]
          },
          "metadata": {
            "tags": []
          },
          "execution_count": 22
        }
      ]
    },
    {
      "cell_type": "code",
      "metadata": {
        "id": "yIIympa7BkPU",
        "colab_type": "code",
        "outputId": "bbaefed0-f0df-4bed-b568-1766532b52cc",
        "colab": {
          "base_uri": "https://localhost:8080/",
          "height": 35
        }
      },
      "source": [
        "print( 'S_MINIMUM=%g  Joules*second' %SS.sum() )"
      ],
      "execution_count": 23,
      "outputs": [
        {
          "output_type": "stream",
          "text": [
            "S_MINIMUM=-21.555  Joules*second\n"
          ],
          "name": "stdout"
        }
      ]
    },
    {
      "cell_type": "code",
      "metadata": {
        "id": "nVpHC_oCBkPY",
        "colab_type": "code",
        "colab": {}
      },
      "source": [
        ""
      ],
      "execution_count": 0,
      "outputs": []
    }
  ]
}
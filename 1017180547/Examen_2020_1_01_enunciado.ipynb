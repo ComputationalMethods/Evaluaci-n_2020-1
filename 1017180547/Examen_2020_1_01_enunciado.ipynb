{
  "nbformat": 4,
  "nbformat_minor": 0,
  "metadata": {
    "kernelspec": {
      "display_name": "Python 3",
      "language": "python",
      "name": "python3"
    },
    "language_info": {
      "codemirror_mode": {
        "name": "ipython",
        "version": 3
      },
      "file_extension": ".py",
      "mimetype": "text/x-python",
      "name": "python",
      "nbconvert_exporter": "python",
      "pygments_lexer": "ipython3",
      "version": "3.5.3"
    },
    "toc": {
      "colors": {
        "hover_highlight": "#DAA520",
        "running_highlight": "#FF0000",
        "selected_highlight": "#FFD700"
      },
      "moveMenuLeft": true,
      "nav_menu": {
        "height": "30px",
        "width": "252px"
      },
      "navigate_menu": true,
      "number_sections": true,
      "sideBar": true,
      "threshold": 4,
      "toc_cell": false,
      "toc_section_display": "block",
      "toc_window_display": false
    },
    "colab": {
      "name": "Examen_2020_1_01_enunciado.ipynb",
      "provenance": [],
      "collapsed_sections": [],
      "include_colab_link": true
    }
  },
  "cells": [
    {
      "cell_type": "markdown",
      "metadata": {
        "id": "view-in-github",
        "colab_type": "text"
      },
      "source": [
        "<a href=\"https://colab.research.google.com/github/marlonandres3m/Evaluacion2020-1/blob/master/1017180547/Examen_2020_1_01_enunciado.ipynb\" target=\"_parent\"><img src=\"https://colab.research.google.com/assets/colab-badge.svg\" alt=\"Open In Colab\"/></a>"
      ]
    },
    {
      "cell_type": "markdown",
      "metadata": {
        "id": "bWVchymOoRBb",
        "colab_type": "text"
      },
      "source": [
        "# Primer Examen 15%"
      ]
    },
    {
      "cell_type": "markdown",
      "metadata": {
        "id": "cuGCz-DOoRBc",
        "colab_type": "text"
      },
      "source": [
        "## Ejercicio 1\n",
        "Encuentre las raices positivas de:\n",
        "$$x^{2}-4 x \\sin x+(2 \\sin x)^{2}=0$$"
      ]
    },
    {
      "cell_type": "code",
      "metadata": {
        "id": "wKDjw0CKpxVn",
        "colab_type": "code",
        "colab": {}
      },
      "source": [
        "import numpy as np\n",
        "import matplotlib.pyplot as plt\n",
        "from scipy import optimize as opt"
      ],
      "execution_count": 0,
      "outputs": []
    },
    {
      "cell_type": "code",
      "metadata": {
        "id": "wRHAA5DSqSF0",
        "colab_type": "code",
        "colab": {}
      },
      "source": [
        "#Definiendo funciones necesarias para el método a utilizar (de acuerdo con la gráfica de la función, un posible método es fixed_point).\n",
        "\n",
        "def f(x):\n",
        "  return x**2 - 4*x*np.sin(x) + (2*np.sin(x))**2\n",
        "\n",
        "def g(x):\n",
        "  return x - f(x)"
      ],
      "execution_count": 0,
      "outputs": []
    },
    {
      "cell_type": "code",
      "metadata": {
        "id": "r4FeF5Tbq7wM",
        "colab_type": "code",
        "colab": {
          "base_uri": "https://localhost:8080/",
          "height": 265
        },
        "outputId": "5344de72-9e8a-40c7-accb-0f7c167ecd69"
      },
      "source": [
        "#Se observan solo los valores positivos de la gráfica.\n",
        "\n",
        "x = np.linspace(0, 3)\n",
        "\n",
        "plt.plot(x, f(x))\n",
        "plt.grid()\n",
        "plt.show()"
      ],
      "execution_count": 68,
      "outputs": [
        {
          "output_type": "display_data",
          "data": {
            "image/png": "[encoded data removed]",
            "text/plain": [
              "<Figure size 432x288 with 1 Axes>"
            ]
          },
          "metadata": {
            "tags": [],
            "needs_background": "light"
          }
        }
      ]
    },
    {
      "cell_type": "code",
      "metadata": {
        "id": "wmO_MMWTr12A",
        "colab_type": "code",
        "colab": {
          "base_uri": "https://localhost:8080/",
          "height": 35
        },
        "outputId": "f54e7082-d05d-4173-8192-3fecc865ec8d"
      },
      "source": [
        "#Se determinan las raíces con fixed_point.\n",
        "\n",
        "root_1 = opt.fixed_point(g, 0)\n",
        "root_2 = opt.fixed_point(g, 2)\n",
        "\n",
        "print('Las raíces positivas son {} y {}.'.format(root_1, root_2))"
      ],
      "execution_count": 69,
      "outputs": [
        {
          "output_type": "stream",
          "text": [
            "Las raíces positivas son 0.0 y 1.895495949803677.\n"
          ],
          "name": "stdout"
        }
      ]
    },
    {
      "cell_type": "markdown",
      "metadata": {
        "id": "E6U6cMUsoRBc",
        "colab_type": "text"
      },
      "source": [
        "## Ejercicio 2\n",
        "La rapidez $v$ de un cohete en un vuelo vertical cerca a la superficie de la tierra puede ser aproximada por \n",
        "$$\n",
        "v=u \\ln \\frac{M_{0}}{M_{0}-\\dot{m} t}-g t\n",
        "$$\n",
        "donde\n",
        "* $u$ en $\\mathrm{m} / \\mathrm{s}=$, es la velocidad de expulsión del combustible relativa al cohete.\n",
        "* $M_{0}$ en $\\mathrm{kg}=$ es la masa del cohete al tiempo de despegue. \n",
        "* $\\dot{m}$ en $\\mathrm{kg} / \\mathrm{s}=$ es la tasa consumo de combustible \n",
        "* $g=9.8 \\mathrm{m} / \\mathrm{s}^{2}$ es la aceleración gravitacional\n",
        "* $t=$ en $s$, tiempo medido desde el despegue\n",
        "\n",
        "Para los datos en: https://raw.githubusercontent.com/restrepo/ComputationalMethods/master/data/rocket.json\n",
        "\n",
        "1. Lea los datos en un `DataFrame` de `pandas` y verifique que $\\dot{m}$ (`mdot`) es la única columna que está cambiando.\n",
        "1. Agregue una columna al `DataFrame` con el tiempo que tarda el cohete para alcanzar la velocidad del sonido $(335 \\mathrm{m} / \\mathrm{s})$ para cada valor de $\\dot{m}$\n",
        "2. Gráfique dicho tiempo en función de $\\dot{m}$ rotulando apropiadamente los ejes"
      ]
    },
    {
      "cell_type": "code",
      "metadata": {
        "id": "A62SxAlZtpfl",
        "colab_type": "code",
        "colab": {}
      },
      "source": [
        "import numpy as np\n",
        "import pandas as pd\n",
        "import matplotlib.pyplot as plt\n",
        "from scipy import optimize as opt"
      ],
      "execution_count": 0,
      "outputs": []
    },
    {
      "cell_type": "code",
      "metadata": {
        "id": "NO0EMDF1t2od",
        "colab_type": "code",
        "colab": {
          "base_uri": "https://localhost:8080/",
          "height": 238
        },
        "outputId": "6e16a340-6c6f-49b9-bf21-26b4307a6fd0"
      },
      "source": [
        "#Carga del DataFrame a partir de archivo json.\n",
        "\n",
        "df = pd.read_json('https://raw.githubusercontent.com/restrepo/ComputationalMethods/master/data/rocket.json')\n",
        "df"
      ],
      "execution_count": 71,
      "outputs": [
        {
          "output_type": "execute_result",
          "data": {
            "text/html": [
              "<div>\n",
              "<style scoped>\n",
              "    .dataframe tbody tr th:only-of-type {\n",
              "        vertical-align: middle;\n",
              "    }\n",
              "\n",
              "    .dataframe tbody tr th {\n",
              "        vertical-align: top;\n",
              "    }\n",
              "\n",
              "    .dataframe thead th {\n",
              "        text-align: right;\n",
              "    }\n",
              "</style>\n",
              "<table border=\"1\" class=\"dataframe\">\n",
              "  <thead>\n",
              "    <tr style=\"text-align: right;\">\n",
              "      <th></th>\n",
              "      <th>M0</th>\n",
              "      <th>g</th>\n",
              "      <th>mdot</th>\n",
              "      <th>u</th>\n",
              "    </tr>\n",
              "  </thead>\n",
              "  <tbody>\n",
              "    <tr>\n",
              "      <th>0</th>\n",
              "      <td>2800000</td>\n",
              "      <td>9.8</td>\n",
              "      <td>10000</td>\n",
              "      <td>2510</td>\n",
              "    </tr>\n",
              "    <tr>\n",
              "      <th>1</th>\n",
              "      <td>2800000</td>\n",
              "      <td>9.8</td>\n",
              "      <td>11000</td>\n",
              "      <td>2510</td>\n",
              "    </tr>\n",
              "    <tr>\n",
              "      <th>2</th>\n",
              "      <td>2800000</td>\n",
              "      <td>9.8</td>\n",
              "      <td>12000</td>\n",
              "      <td>2510</td>\n",
              "    </tr>\n",
              "    <tr>\n",
              "      <th>3</th>\n",
              "      <td>2800000</td>\n",
              "      <td>9.8</td>\n",
              "      <td>13000</td>\n",
              "      <td>2510</td>\n",
              "    </tr>\n",
              "    <tr>\n",
              "      <th>4</th>\n",
              "      <td>2800000</td>\n",
              "      <td>9.8</td>\n",
              "      <td>14000</td>\n",
              "      <td>2510</td>\n",
              "    </tr>\n",
              "    <tr>\n",
              "      <th>5</th>\n",
              "      <td>2800000</td>\n",
              "      <td>9.8</td>\n",
              "      <td>15000</td>\n",
              "      <td>2510</td>\n",
              "    </tr>\n",
              "  </tbody>\n",
              "</table>\n",
              "</div>"
            ],
            "text/plain": [
              "        M0    g   mdot     u\n",
              "0  2800000  9.8  10000  2510\n",
              "1  2800000  9.8  11000  2510\n",
              "2  2800000  9.8  12000  2510\n",
              "3  2800000  9.8  13000  2510\n",
              "4  2800000  9.8  14000  2510\n",
              "5  2800000  9.8  15000  2510"
            ]
          },
          "metadata": {
            "tags": []
          },
          "execution_count": 71
        }
      ]
    },
    {
      "cell_type": "code",
      "metadata": {
        "id": "b1EI6n54xjnk",
        "colab_type": "code",
        "colab": {
          "base_uri": "https://localhost:8080/",
          "height": 238
        },
        "outputId": "e19a6843-a964-4751-fe71-fa7bee90d139"
      },
      "source": [
        "#Aunque hay valores constantes, se definen en variables.\n",
        "\n",
        "u = 2510\n",
        "M0 = 2800000\n",
        "g = 9.8\n",
        "v = 335\n",
        "\n",
        "#Lista vacía para almacenar los tiempos de las respectivas tasas de consumo de combustible (mdot).\n",
        "\n",
        "times = []\n",
        "\n",
        "#Iteración para definir el tiempo requerido para alcanzar velocidad del sonido (v) según tasa de consumo de combustible.\n",
        "\n",
        "for i in df['mdot']:\n",
        "\n",
        "  mdot = i\n",
        "\n",
        "  def V(t):\n",
        "    return u*np.log(M0/(M0-mdot*t)) - g*t - v\n",
        "\n",
        "  times.append(opt.bisect(V, 0, 150)) #Almacenando los tiempos respectivos en la lista.\n",
        "\n",
        "#Se crea una Serie a partir de la lista times.\n",
        "\n",
        "df['t2s'] = pd.Series(times)\n",
        "\n",
        "#Se muestra DataFrame con nueva variable (t2s)\n",
        "\n",
        "df  "
      ],
      "execution_count": 72,
      "outputs": [
        {
          "output_type": "execute_result",
          "data": {
            "text/html": [
              "<div>\n",
              "<style scoped>\n",
              "    .dataframe tbody tr th:only-of-type {\n",
              "        vertical-align: middle;\n",
              "    }\n",
              "\n",
              "    .dataframe tbody tr th {\n",
              "        vertical-align: top;\n",
              "    }\n",
              "\n",
              "    .dataframe thead th {\n",
              "        text-align: right;\n",
              "    }\n",
              "</style>\n",
              "<table border=\"1\" class=\"dataframe\">\n",
              "  <thead>\n",
              "    <tr style=\"text-align: right;\">\n",
              "      <th></th>\n",
              "      <th>M0</th>\n",
              "      <th>g</th>\n",
              "      <th>mdot</th>\n",
              "      <th>u</th>\n",
              "      <th>t2s</th>\n",
              "    </tr>\n",
              "  </thead>\n",
              "  <tbody>\n",
              "    <tr>\n",
              "      <th>0</th>\n",
              "      <td>2800000</td>\n",
              "      <td>9.8</td>\n",
              "      <td>10000</td>\n",
              "      <td>2510</td>\n",
              "      <td>135.830647</td>\n",
              "    </tr>\n",
              "    <tr>\n",
              "      <th>1</th>\n",
              "      <td>2800000</td>\n",
              "      <td>9.8</td>\n",
              "      <td>11000</td>\n",
              "      <td>2510</td>\n",
              "      <td>109.017811</td>\n",
              "    </tr>\n",
              "    <tr>\n",
              "      <th>2</th>\n",
              "      <td>2800000</td>\n",
              "      <td>9.8</td>\n",
              "      <td>12000</td>\n",
              "      <td>2510</td>\n",
              "      <td>89.202572</td>\n",
              "    </tr>\n",
              "    <tr>\n",
              "      <th>3</th>\n",
              "      <td>2800000</td>\n",
              "      <td>9.8</td>\n",
              "      <td>13000</td>\n",
              "      <td>2510</td>\n",
              "      <td>74.455682</td>\n",
              "    </tr>\n",
              "    <tr>\n",
              "      <th>4</th>\n",
              "      <td>2800000</td>\n",
              "      <td>9.8</td>\n",
              "      <td>14000</td>\n",
              "      <td>2510</td>\n",
              "      <td>63.324893</td>\n",
              "    </tr>\n",
              "    <tr>\n",
              "      <th>5</th>\n",
              "      <td>2800000</td>\n",
              "      <td>9.8</td>\n",
              "      <td>15000</td>\n",
              "      <td>2510</td>\n",
              "      <td>54.770940</td>\n",
              "    </tr>\n",
              "  </tbody>\n",
              "</table>\n",
              "</div>"
            ],
            "text/plain": [
              "        M0    g   mdot     u         t2s\n",
              "0  2800000  9.8  10000  2510  135.830647\n",
              "1  2800000  9.8  11000  2510  109.017811\n",
              "2  2800000  9.8  12000  2510   89.202572\n",
              "3  2800000  9.8  13000  2510   74.455682\n",
              "4  2800000  9.8  14000  2510   63.324893\n",
              "5  2800000  9.8  15000  2510   54.770940"
            ]
          },
          "metadata": {
            "tags": []
          },
          "execution_count": 72
        }
      ]
    },
    {
      "cell_type": "code",
      "metadata": {
        "id": "qlggPsywv8yC",
        "colab_type": "code",
        "colab": {
          "base_uri": "https://localhost:8080/",
          "height": 296
        },
        "outputId": "1ce3a39a-4492-4fca-c71e-3c017131fd5b"
      },
      "source": [
        "#Se desarrolla gráfica a partir de las series solicitadas (mdot y t2s).\n",
        "\n",
        "plt.plot(df['mdot'], df['t2s'])\n",
        "plt.xlabel('Tasa consumo de combustible')\n",
        "plt.ylabel('Tiempo para alcanzar velocidad del sonido')\n",
        "plt.title('Tas de consumo de combustible para Mach 1', size=14)\n",
        "plt.grid()\n",
        "plt.show()"
      ],
      "execution_count": 73,
      "outputs": [
        {
          "output_type": "display_data",
          "data": {
            "image/png": "[encoded data removed]",
            "text/plain": [
              "<Figure size 432x288 with 1 Axes>"
            ]
          },
          "metadata": {
            "tags": [],
            "needs_background": "light"
          }
        }
      ]
    },
    {
      "cell_type": "code",
      "metadata": {
        "id": "anZImHTexNrs",
        "colab_type": "code",
        "colab": {}
      },
      "source": [
        ""
      ],
      "execution_count": 0,
      "outputs": []
    }
  ]
}
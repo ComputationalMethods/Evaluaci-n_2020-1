{
 "cells": [
  {
   "cell_type": "markdown",
   "metadata": {},
   "source": [
    "# **SALE WEB CRAWLING** #\n",
    "### *Marlon A. Gutiérrez E.* ###\n",
    "\n",
    "El presente código tiene como objetivo generar bases de datos de productos ofrecidos en el sitio web de almacenes Éxito, con ellas, encontrar productos que se encuentran con determinado descuento y efectuar un análisis de precios a lo largo del tiempo. Se elige almacenes Éxito por su frecuente cantidad de ofertas y altos descuentos, los cuales son de gran interés, especialmente, para mayoristas y clientes habituales. "
   ]
  },
  {
   "cell_type": "markdown",
   "metadata": {},
   "source": [
    "## **REQUERIMIENTOS:** ##\n",
    "\n",
    "* Librerías instaladas: Matplotlib, Pandas, Random, Datetime, Selenium y time.\n",
    "\n",
    "* Driver: en la misma ruta del presente archivo, se debe encontrar el archivo **geckodriver.exe**, el cual puede descargarse desde este link: https://github.com/mozilla/geckodriver/releases\n",
    "\n",
    "* Aplicaciónes: Jupyter y Firefox."
   ]
  },
  {
   "cell_type": "markdown",
   "metadata": {},
   "source": [
    "## **Importación de módulos** ##"
   ]
  },
  {
   "cell_type": "code",
   "execution_count": 1,
   "metadata": {},
   "outputs": [],
   "source": [
    "import matplotlib.pyplot as plt\n",
    "import pandas as pd\n",
    "import random\n",
    "from datetime import datetime\n",
    "from selenium import webdriver\n",
    "from selenium.webdriver.common.keys import Keys\n",
    "from time import sleep"
   ]
  },
  {
   "cell_type": "markdown",
   "metadata": {},
   "source": [
    "## **Diccionario de páginas** ##\n",
    "\n",
    "El sitio web que se está tratando organiza los productos en ciertas categorías principales, las cuales corresponden con una URL determinada. En este diccionario se agragan las URL de interés."
   ]
  },
  {
   "cell_type": "code",
   "execution_count": 3,
   "metadata": {},
   "outputs": [],
   "source": [
    "# Diccionario con key: nombre de categoría de productos y value: URL de cada categoría.\n",
    "pages = {'Aseo hogar': 'https://www.exito.com/mercado/aseo-del-hogar',\n",
    "         'Cuidado corporal': 'https://www.exito.com/salud-y-belleza/cuidado-corporal',\n",
    "         'Despensa': 'https://www.exito.com/mercado/despensa'}"
   ]
  },
  {
   "cell_type": "markdown",
   "metadata": {},
   "source": [
    "## **Función para obtener DataFrame de productos** ##\n",
    "\n",
    "Esta función recibe una fecha de ejecución: \"time [AñoMesDíaHoraMinuto]\" (tipo str), una URL del diccionario anterior: \"page\" (tipo str) y un objeto: \"driver\" (tipo selenium webdriver). Entrega un DataFrame de productos de la respectiva URL.\n",
    "\n",
    "El DataFrame que entrega consta de tres columnas con etiquetas 'HREF', 'PRODUCTO' y time=[AñoMesDíaHoraMinuto]."
   ]
  },
  {
   "cell_type": "code",
   "execution_count": 4,
   "metadata": {},
   "outputs": [],
   "source": [
    "def get_df_products(time, page, driver):\n",
    "    \n",
    "    date = time    # Fecha de ejecución.\n",
    "    \n",
    "    url = page    # URL de la página de cada categoría de productos en el sitio web.\n",
    "    \n",
    "    driver.get(url)    # Con este método se carga el navegador Firefox con la respectiva URL.\n",
    "    \n",
    "    # Estas URL cargan 20 productos, para cargar más es necesario presionar el botón \"Mostrar más\".\n",
    "    # Eso lo hace el siguiente ciclo.\n",
    "    \n",
    "    # '''\n",
    "    \n",
    "    i = True\n",
    "\n",
    "    while i == True:\n",
    "        \n",
    "        # Hacer click sobre botones puede generar errores.\n",
    "        try:\n",
    "            \n",
    "            # Encontrar el botón \"Mostrar más\".\n",
    "            load_more = driver.find_element_by_xpath('//div[@class=\"vtex-button__label flex items-center justify-center h-100 ph5 \"]')\n",
    "            \n",
    "            # Hacer click sobre el botón.\n",
    "            load_more.click()\n",
    "            \n",
    "            # Esperar de 10 a 13 segundos para continuar el ciclo.\n",
    "            sleep(random.uniform(10.0, 13.0))\n",
    "            \n",
    "            # La variable i continúa siendo True para continuar el ciclo.\n",
    "            i = True\n",
    "            \n",
    "        except:\n",
    "            \n",
    "            # La variable i ahora será False para que salga del ciclo.\n",
    "            i = False\n",
    "            break\n",
    "    \n",
    "    # La cantidad de productos podría ser muy alta y se tomaría mucho tiempo cargando toda la página.\n",
    "    # Para hacer pruebas es recomendable comentar el anterior ciclo while y descomentar el siguiente ciclo for para controlar la cantidad de cargas.\n",
    "    \n",
    "    '''\n",
    "    \n",
    "    for load in range(3):\n",
    "        try:\n",
    "            load_more = driver.find_element_by_xpath('//div[@class=\"vtex-button__label flex items-center justify-center h-100 ph5 \"]')\n",
    "            load_more.click()\n",
    "            sleep(random.uniform(10.0, 13.0))\n",
    "        except:\n",
    "            break\n",
    "            \n",
    "    '''\n",
    "    \n",
    "    # Una vez cargada la página, se buscan los productos y se guardan en la variable products.\n",
    "\n",
    "    products = driver.find_elements_by_class_name('vtex-search-result-3-x-galleryItem')\n",
    "    \n",
    "    # Se crea un DataFrame vacío con tres columnas.\n",
    "    # 'HREF': referencia, 'PRODUCTO': nombre, date: precio.\n",
    "    \n",
    "    df_products = pd.DataFrame(columns=['HREF', 'PRODUCTO', date])\n",
    "    \n",
    "    # Se recorre el objeto products para obtener de él: href, nombre y precio de cada producto y almacenarlo en df_products.\n",
    "\n",
    "    for item in products:\n",
    "        \n",
    "        # Obtener href del producto como referencia, ya que existen productos con el mismo nombre.\n",
    "        a = item.find_element_by_xpath('.//a[@class=\"vtex-product-summary-2-x-clearLink h-100 flex flex-column\"]')        \n",
    "        href = a.get_attribute('href')\n",
    "        href = href.lstrip('https://www.exito.com/')\n",
    "        \n",
    "        # Obtener nombre del producto.\n",
    "        product_name = item.find_element_by_class_name('vtex-store-components-3-x-productNameContainer').text\n",
    "        \n",
    "        # Obtener precio del producto y dar formato para convertir en variable tipo int.\n",
    "        product_price = item.find_element_by_class_name('exito-vtex-components-4-x-alliedDiscountPrice').text\n",
    "        product_price = product_price.replace('.', '')\n",
    "        product_price = product_price.lstrip('$ ')\n",
    "        product_price = int(product_price)\n",
    "        \n",
    "        # Almacenar nombre y precio en columnas 'Producto' y 'date [AñoMesDíaHoraMinuto]', respectivamente.\n",
    "        df_products = df_products.append({'HREF': href, 'PRODUCTO': product_name, date: product_price}, ignore_index=True)\n",
    "    \n",
    "    return df_products"
   ]
  },
  {
   "cell_type": "markdown",
   "metadata": {},
   "source": [
    "## **Creación de archivos con valores iniciales** ##\n",
    "\n",
    "Ejecutar la siguiente celda para crear un archivo xlsx para cada categoría de productos (*kind_ini*) con su DataFrame correspondiente.\n",
    "\n",
    "* #### **Advertencia:** se reinician los archivos a datos actuales. Solo ejecutar cuando se desee iniciar el estudio de precios.  ####"
   ]
  },
  {
   "cell_type": "code",
   "execution_count": 42,
   "metadata": {},
   "outputs": [],
   "source": [
    "# ADVERTENCIA: al ejecutar esta celda, se reiniciarán todos los archivos de precios.\n",
    "\n",
    "# Fecha de ejecución.\n",
    "date_ini = datetime.now().strftime('%Y%m%d%H%M')\n",
    "\n",
    "# Se crea objeto para manipular el sitio web.\n",
    "driver_ini = webdriver.Firefox()\n",
    "\n",
    "# Se recorre el diccionario para acceder a cada categoría \"kind_ini\" y cada URL \"url_ini\".\n",
    "for kind_ini, url_ini in pages.items():\n",
    "    \n",
    "    # Se crea DataFrame inicial por cada categoría de productos.\n",
    "    df_ini = get_df_products(date_ini, url_ini, driver_ini)\n",
    "    \n",
    "    # Se genera archivo xlsx con cada DataFrame.\n",
    "    df_ini.to_excel('Productos - {}.xlsx'.format(kind_ini), index=False)"
   ]
  },
  {
   "cell_type": "markdown",
   "metadata": {},
   "source": [
    "## **Actualización de archivos** ##\n",
    "\n",
    "Ejecutar la siguiente celda cada vez que se desee obtener los precios actuales de los productos para acumularlos como historial en las bases de datos (archivos xlsx)."
   ]
  },
  {
   "cell_type": "code",
   "execution_count": 4,
   "metadata": {},
   "outputs": [],
   "source": [
    "# Fecha de ejecución.\n",
    "date_new = datetime.now().strftime('%Y%m%d%H%M')\n",
    "\n",
    "# Se crea objeto para manipular el sitio web.\n",
    "driver_new = webdriver.Firefox()\n",
    "\n",
    "# Se recorre el diccionario para acceder a cada categoría \"kind_new\" y cada URL \"url_new\".\n",
    "for kind_new, url_new in pages.items():\n",
    "    \n",
    "    # Se crea DataFrame nuevo por cada categoría de productos.\n",
    "    df_new = get_df_products(date_new, url_new, driver_new)\n",
    "    \n",
    "    # Se carga DataFrame antiguo (almacenado en disco) por cada archivo de productos.\n",
    "    df_old = pd.read_excel('Productos - {}.xlsx'.format(kind_new))\n",
    "    \n",
    "    # Se mezclan los dos DataFrame acumulando los precios de cada actualización.\n",
    "    df_fin = pd.merge(df_old, df_new, on=['HREF', 'PRODUCTO'], how='outer')\n",
    "    \n",
    "    # Se sobrescribe cada archivo con la nueva información.\n",
    "    df_fin.to_excel('Productos - {}.xlsx'.format(kind_new), index=False)"
   ]
  },
  {
   "cell_type": "markdown",
   "metadata": {},
   "source": [
    "## **Encontrar productos con descuento** ##\n",
    "\n",
    "Ejecutar la siguiente celda para comparar los dos últimos precios registrados de cada producto y generar un archivo xlsx con los productos que cumplen determinado descuento."
   ]
  },
  {
   "cell_type": "code",
   "execution_count": 4,
   "metadata": {},
   "outputs": [],
   "source": [
    "# Fecha de ejecución.\n",
    "date_sale = datetime.now().strftime('%Y%m%d%H%M')\n",
    "\n",
    "# Descuento requerido. \n",
    "discount = 0.2\n",
    "\n",
    "# Se recorren los archivos para buscar el descuento requerido.\n",
    "for key in pages.keys():\n",
    "    \n",
    "    df = pd.read_excel('Productos - {}.xlsx'.format(key))\n",
    "    df_sale = df[df.iloc[:, -1] < (1.0-discount)*df.iloc[:, -2]]\n",
    "    \n",
    "    # Si encuentra productos con descuento, genera un archivo agregándole a su nombre la fecha de ejecución.\n",
    "    if len(df_sale.index) != 0:\n",
    "        df_sale.to_excel('Productos - {} (ofertas {}).xlsx'.format(key, date_sale), index=False)"
   ]
  },
  {
   "cell_type": "markdown",
   "metadata": {},
   "source": [
    "## **Búsqueda de productos por palabra clave** ##\n",
    "\n",
    "Al ejecutar la siguiente celda se abre un input para ingresar el producto que se desea buscar. Luego se genera un DataFrame con los resultados y se imprime por pantalla."
   ]
  },
  {
   "cell_type": "code",
   "execution_count": null,
   "metadata": {},
   "outputs": [],
   "source": [
    "search = input('Buscar: ')\n",
    "\n",
    "df_all = pd.DataFrame()\n",
    "\n",
    "for key in pages.keys():\n",
    "    df = pd.read_excel('Productos - {}.xlsx'.format(key))\n",
    "    df_all = df_all.append(df, ignore_index=True)\n",
    "    \n",
    "df_search = df_all[df_all['PRODUCTO'].str.contains(search, case=False)]\n",
    "\n",
    "# Opciones de impresión en pantalla del DataFrame.\n",
    "pd.set_option('max_rows', None)\n",
    "pd.set_option('max_columns', None)\n",
    "pd.set_option('max_colwidth', None)\n",
    "\n",
    "df_search"
   ]
  },
  {
   "cell_type": "markdown",
   "metadata": {},
   "source": [
    "## **Gráfica de precios** ##\n",
    "\n",
    "Después de realizar la búsqueda por palabra clave, puede determinarse la referencia HREF del producto e ingresarla en el input que genera la ejecución de la siguiente celda y así, obtener una gráfica del comportamiento del precio a lo largo del tiempo."
   ]
  },
  {
   "cell_type": "code",
   "execution_count": null,
   "metadata": {},
   "outputs": [],
   "source": [
    "search = input('Buscar: ')\n",
    "print('\\n')\n",
    "\n",
    "df_all = pd.DataFrame()\n",
    "\n",
    "for key in pages.keys():\n",
    "    df = pd.read_excel('Productos - {}.xlsx'.format(key))\n",
    "    df_all = df_all.append(df, ignore_index=True)\n",
    "\n",
    "# DataFrame de única fila.\n",
    "product_to_analyze = df_all[df_all['HREF']==search]\n",
    "\n",
    "# Obetención del nombre del producto para establecer como título de la gráfica.\n",
    "title = product_to_analyze.iloc[0, 1]\n",
    "\n",
    "# Conversión a diccionario y eliminación de la columna 'HREF' y 'PRODUCTO'.\n",
    "product_prices = product_to_analyze.to_dict('records')[0]\n",
    "del product_prices['HREF']\n",
    "del product_prices['PRODUCTO']\n",
    "\n",
    "# Espacios a graficar.\n",
    "x = list(product_prices.keys())\n",
    "y = list(product_prices.values())\n",
    "\n",
    "plt.plot(x, y)\n",
    "plt.plot(x, y, 'ro')\n",
    "plt.title(title, size=16)\n",
    "plt.xlabel(\"Tiempo\", size=14)\n",
    "plt.ylabel(\"$ COP\", size=14)\n",
    "plt.grid()\n",
    "plt.show()"
   ]
  }
 ],
 "metadata": {
  "kernelspec": {
   "display_name": "Python 3",
   "language": "python",
   "name": "python3"
  },
  "language_info": {
   "codemirror_mode": {
    "name": "ipython",
    "version": 3
   },
   "file_extension": ".py",
   "mimetype": "text/x-python",
   "name": "python",
   "nbconvert_exporter": "python",
   "pygments_lexer": "ipython3",
   "version": "3.8.2"
  }
 },
 "nbformat": 4,
 "nbformat_minor": 4
}

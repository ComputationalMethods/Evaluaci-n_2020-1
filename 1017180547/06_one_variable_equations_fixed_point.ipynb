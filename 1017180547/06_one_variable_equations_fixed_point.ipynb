{
  "nbformat": 4,
  "nbformat_minor": 0,
  "metadata": {
    "kernelspec": {
      "display_name": "Python 3",
      "language": "python",
      "name": "python3"
    },
    "language_info": {
      "codemirror_mode": {
        "name": "ipython",
        "version": 3
      },
      "file_extension": ".py",
      "mimetype": "text/x-python",
      "name": "python",
      "nbconvert_exporter": "python",
      "pygments_lexer": "ipython3",
      "version": "3.5.3"
    },
    "toc": {
      "colors": {
        "hover_highlight": "#DAA520",
        "running_highlight": "#FF0000",
        "selected_highlight": "#FFD700"
      },
      "moveMenuLeft": true,
      "nav_menu": {
        "height": "426px",
        "width": "252px"
      },
      "navigate_menu": true,
      "number_sections": true,
      "sideBar": true,
      "threshold": 4,
      "toc_cell": false,
      "toc_section_display": "block",
      "toc_window_display": false
    },
    "colab": {
      "name": "one-variable-equations-fixed-point.ipynb",
      "provenance": [],
      "collapsed_sections": [
        "lSAIQNSN6kyB"
      ]
    }
  },
  "cells": [
    {
      "cell_type": "markdown",
      "metadata": {
        "id": "WYUOYTxa6kvd",
        "colab_type": "text"
      },
      "source": [
        "# One Variable Equations. Part II"
      ]
    },
    {
      "cell_type": "markdown",
      "metadata": {
        "id": "h-28ZnrU6kvf",
        "colab_type": "text"
      },
      "source": [
        "- - -\n",
        "- [Bisection Method](./one-variable-equations.ipynb#Bisection-Method) \n",
        "    - [Steps](./one-variable-equations.ipynb#Steps-BM)\n",
        "    - [Stop condition](./one-variable-equations#Stop-condition-BM)\n",
        "    - [Error analysis](./one-variable-equations#Error-analysis-BM)\n",
        "    - [Example 1](./one-variable-equations#Example-1)\n",
        "    - [Example 2](./one-variable-equations#Example-2)\n",
        "- [Fixed-point Iteration](#Fixed-point-Iteration)\n",
        "    - [Steps](#Steps-FP)\n",
        "    - [Example 3](#Example-3)\n",
        "    - [Stop condition](#Stop-condition-FP)\n",
        "    - [Example 4](#Example-4)\n",
        "    - [Activity](#ACTIVITY-FP)\n",
        "- [Newton-Raphson Method](#Newton-Raphson-Method)\n",
        "    - [Derivation](#Derivation-NM)\n",
        "    - [Steps](#Steps-NM)\n",
        "    - [Example 5](#Example-5)\n",
        "    - [Stop condition](#Stop-condition-NM)\n",
        "    - [Convergence](#Convergence-NM)\n",
        "- [Secant Method](#Secant-Method)\n",
        "    - [Derivation](#Derivation-SM)\n",
        "    - [Steps](#Steps-SM)\n",
        "\n",
        "- - -"
      ]
    },
    {
      "cell_type": "code",
      "metadata": {
        "id": "daKgq1jk6kvg",
        "colab_type": "code",
        "outputId": "47c54547-34b3-4b65-f67d-0be7b04ba095",
        "colab": {
          "base_uri": "https://localhost:8080/",
          "height": 35
        }
      },
      "source": [
        "%pylab inline"
      ],
      "execution_count": 0,
      "outputs": [
        {
          "output_type": "stream",
          "text": [
            "Populating the interactive namespace from numpy and matplotlib\n"
          ],
          "name": "stdout"
        }
      ]
    },
    {
      "cell_type": "markdown",
      "metadata": {
        "id": "zdjSC1XG6kvl",
        "colab_type": "text"
      },
      "source": [
        "JSAnimation import available at https://github.com/jakevdp/JSAnimation\n",
        "\n",
        "__JSAnimation INSTALL__: Also in this repository. Change to JSAnimation dir and \n",
        "```\n",
        "python setup.py install --user\n",
        "```"
      ]
    },
    {
      "cell_type": "code",
      "metadata": {
        "id": "FaKeS0VU6kvm",
        "colab_type": "code",
        "outputId": "2667e25e-7382-420c-a130-633f954276f7",
        "colab": {
          "base_uri": "https://localhost:8080/",
          "height": 54
        }
      },
      "source": [
        "cd ../JSAnimation"
      ],
      "execution_count": 0,
      "outputs": [
        {
          "output_type": "stream",
          "text": [
            "[Errno 2] No such file or directory: '../JSAnimation'\n",
            "/content\n"
          ],
          "name": "stdout"
        }
      ]
    },
    {
      "cell_type": "code",
      "metadata": {
        "id": "VQ7ngAZw6kvp",
        "colab_type": "code",
        "outputId": "608f7965-c64d-4a41-b54d-ffa0d5a20d9b",
        "colab": {
          "base_uri": "https://localhost:8080/",
          "height": 338
        }
      },
      "source": [
        "from JSAnimation import IPython_display\n",
        "from matplotlib import animation"
      ],
      "execution_count": 0,
      "outputs": [
        {
          "output_type": "error",
          "ename": "ModuleNotFoundError",
          "evalue": "ignored",
          "traceback": [
            "\u001b[0;31m---------------------------------------------------------------------------\u001b[0m",
            "\u001b[0;31mModuleNotFoundError\u001b[0m                       Traceback (most recent call last)",
            "\u001b[0;32m<ipython-input-4-caa69ebdee60>\u001b[0m in \u001b[0;36m<module>\u001b[0;34m()\u001b[0m\n\u001b[0;32m----> 1\u001b[0;31m \u001b[0;32mfrom\u001b[0m \u001b[0mJSAnimation\u001b[0m \u001b[0;32mimport\u001b[0m \u001b[0mIPython_display\u001b[0m\u001b[0;34m\u001b[0m\u001b[0;34m\u001b[0m\u001b[0m\n\u001b[0m\u001b[1;32m      2\u001b[0m \u001b[0;32mfrom\u001b[0m \u001b[0mmatplotlib\u001b[0m \u001b[0;32mimport\u001b[0m \u001b[0manimation\u001b[0m\u001b[0;34m\u001b[0m\u001b[0;34m\u001b[0m\u001b[0m\n",
            "\u001b[0;31mModuleNotFoundError\u001b[0m: No module named 'JSAnimation'",
            "",
            "\u001b[0;31m---------------------------------------------------------------------------\u001b[0;32m\nNOTE: If your import is failing due to a missing package, you can\nmanually install dependencies using either !pip or !apt.\n\nTo view examples of installing some common dependencies, click the\n\"Open Examples\" button below.\n\u001b[0;31m---------------------------------------------------------------------------\u001b[0m\n"
          ]
        }
      ]
    },
    {
      "cell_type": "code",
      "metadata": {
        "id": "fxP8sEvZ6kvs",
        "colab_type": "code",
        "colab": {}
      },
      "source": [
        "import numpy as np\n",
        "\n",
        "\n",
        "from scipy import integrate\n",
        "from scipy import optimize"
      ],
      "execution_count": 0,
      "outputs": []
    },
    {
      "cell_type": "markdown",
      "metadata": {
        "id": "m43-qptx6kvv",
        "colab_type": "text"
      },
      "source": [
        "# Fixed-point Iteration"
      ]
    },
    {
      "cell_type": "markdown",
      "metadata": {
        "id": "eqg-fPvN6kvw",
        "colab_type": "text"
      },
      "source": [
        "Although in many cases the use of Bisection is more than enough, there are some pathological situations where the use of more advanced methods is required.\n",
        "One of the advantages featured by this method is one does not have to give an interval where the solution is within, instead, from a seed the algorithm will converge towards the required solution."
      ]
    },
    {
      "cell_type": "markdown",
      "metadata": {
        "id": "Wjc7W2RK6kvx",
        "colab_type": "text"
      },
      "source": [
        "## Steps FP"
      ]
    },
    {
      "cell_type": "markdown",
      "metadata": {
        "id": "uMPly-qM6kvz",
        "colab_type": "text"
      },
      "source": [
        "1. Take your function $f(x)$ and rewrite it like \n",
        "$$g(x) = x - f(x)\\,.$$\n",
        "In this way, find the root of $f(x_0)$ is equivalent to find the value when \n",
        "$$g(x_0)=x_0\\,.$$\n",
        "This $x_0$ is called the fixed-point of $g(x)$. Note that $g(x)|_{f=0}=x$ is just and straight line of slope one and zero intercept. Therefore, the fixed points corresponds to the points where $g(x)$ crosses that straight line.\n",
        "1. Give a guest to the solution (root of $f(x)$). This value would be the seed $p_0$, and correspond to the point: $(p_0,g(p_0))$\n",
        "![IMG](https://raw.githubusercontent.com/restrepo/ComputationalMethods/master/material/fp.svg?sanitize=true)\n",
        "2. Check the distance to the straight line by goint to the point: $(g(p_0),g(p_0))$\n",
        "![IMG](https://raw.githubusercontent.com/restrepo/ComputationalMethods/master/material/fp1.svg?sanitize=true)\n",
        "3. The next guest to the solution will be given by $p_1 = g(p_0)$ \n",
        "![IMG](https://raw.githubusercontent.com/restrepo/ComputationalMethods/master/material/fp2.svg?sanitize=true)   \n",
        "4. If the stop condition is not satisfied, then repeat step 2 but with $p_1$.\n",
        "5. The End!"
      ]
    },
    {
      "cell_type": "markdown",
      "metadata": {
        "id": "n5rE79Ke6kv0",
        "colab_type": "text"
      },
      "source": [
        "__Example__: Find the roots of the next functions:\n",
        "\n",
        "$$f_1(x) = \\frac{x^2-1}{3}\\,.$$\n",
        "\n",
        "We define\n",
        "\n",
        "Step 1:"
      ]
    },
    {
      "cell_type": "code",
      "metadata": {
        "id": "xhUErJ6F6kv1",
        "colab_type": "code",
        "colab": {}
      },
      "source": [
        "def f(x):\n",
        "    return (x**2-1)/3.0\n",
        "\n",
        "g = lambda x: x-f(x)\n"
      ],
      "execution_count": 0,
      "outputs": []
    },
    {
      "cell_type": "markdown",
      "metadata": {
        "id": "_ZchIzu26kv4",
        "colab_type": "text"
      },
      "source": [
        "Step 2:"
      ]
    },
    {
      "cell_type": "code",
      "metadata": {
        "id": "OideCyVX6kv5",
        "colab_type": "code",
        "colab": {}
      },
      "source": [
        "p0 = 0.1\n",
        "(px,py)=(p0,g(p0))\n",
        "(px,py)"
      ],
      "execution_count": 0,
      "outputs": []
    },
    {
      "cell_type": "markdown",
      "metadata": {
        "id": "ObCzgU-S6kv8",
        "colab_type": "text"
      },
      "source": [
        "![](https://raw.githubusercontent.com/restrepo/ComputationalMethods/master/material/figures/fp1.png)"
      ]
    },
    {
      "cell_type": "markdown",
      "metadata": {
        "id": "gBhVswtn6kv9",
        "colab_type": "text"
      },
      "source": [
        "Step 3:"
      ]
    },
    {
      "cell_type": "code",
      "metadata": {
        "id": "FKtgnHgz6kv9",
        "colab_type": "code",
        "colab": {}
      },
      "source": [
        "(px,py)=(g(p0), g(p0) )\n",
        "(px,py)"
      ],
      "execution_count": 0,
      "outputs": []
    },
    {
      "cell_type": "markdown",
      "metadata": {
        "id": "eaxz6XVx6kwA",
        "colab_type": "text"
      },
      "source": [
        "Step 4: Suggest a solution:"
      ]
    },
    {
      "cell_type": "code",
      "metadata": {
        "id": "Oa2DWym66kwB",
        "colab_type": "code",
        "colab": {}
      },
      "source": [
        "p1=g(p0)\n",
        "(px,py)=(p1, g(p1) )\n",
        "(px,py)"
      ],
      "execution_count": 0,
      "outputs": []
    },
    {
      "cell_type": "markdown",
      "metadata": {
        "id": "UCjiTRBH6kwE",
        "colab_type": "text"
      },
      "source": [
        "![](https://raw.githubusercontent.com/restrepo/ComputationalMethods/master/material/figures/fp3.png)"
      ]
    },
    {
      "cell_type": "markdown",
      "metadata": {
        "id": "_Csu0iQI6kwE",
        "colab_type": "text"
      },
      "source": [
        "Implementation of algorithm"
      ]
    },
    {
      "cell_type": "code",
      "metadata": {
        "id": "E6qXNUN16kwF",
        "colab_type": "code",
        "colab": {}
      },
      "source": [
        "#Defining Fixed-point iteration function\n",
        "def FixedPoint_Animation( f, pini, Nmax, xmin, xmax ):\n",
        "    g = lambda x: x-f(x)\n",
        "    #Initial condition\n",
        "    pi = [pini,]\n",
        "    px = [pini,pini,]\n",
        "    py = [0,]\n",
        "    #Iterations\n",
        "    for n in range(Nmax+3):\n",
        "        pi.append( g(pi[n]) )\n",
        "        px.append( g(pi[n]) )\n",
        "        px.append( g(pi[n]) )\n",
        "        py.append( g(pi[n]) )\n",
        "        py.append( g(pi[n]) )\n",
        "    \n",
        "    py.append( g(pi[n+1]) )\n",
        "    pi = np.array( pi )\n",
        "    px = np.array( px )\n",
        "    py = np.array( py )\n",
        "    \n",
        "    print (\"Result:\", pi[-1])\n",
        "    \n",
        "    #Array X-axis\n",
        "    X = np.linspace(xmin,xmax,100)\n",
        "    \n",
        "    #Initializing Figure\n",
        "    fig = plt.figure( figsize=(7,7) )\n",
        "    ax = fig.add_subplot(111)\n",
        "    #Graphic iterations\n",
        "    fixedpoint, = ax.plot( [], [], color=\"red\", linewidth = 3 )\n",
        "    #Function g\n",
        "    ax.plot( X, g(X), color=\"green\", linewidth = 2 )\n",
        "    #Identity funcion\n",
        "    ax.plot( X, X, color=\"blue\", linewidth = 2 )\n",
        "    ax.grid(True)\n",
        "    ax.set_xlim( (xmin, xmax) )\n",
        "    ax.set_ylim( (xmin, xmax) )\n",
        "    ax.set_xlabel( \"X axis\" )\n",
        "    ax.set_ylabel( \"Y axis\" )\n",
        "    ax.set_title( \"Fixed-Point iteration\" )\n",
        "        \n",
        "    def init():\n",
        "        fixedpoint.set_data([], [])\n",
        "        return fixedpoint,\n",
        "    \n",
        "    def animate(i):\n",
        "        #Setting new data\n",
        "        fixedpoint.set_data( px[:2*i], py[:2*i] )\n",
        "        ax.set_title( \"Fixed-Point. Iteration %d\"%i )\n",
        "        return fixedpoint,\n",
        "    \n",
        "    return animation.FuncAnimation(fig, animate, init_func=init,frames=Nmax, interval=500, blit=True)"
      ],
      "execution_count": 0,
      "outputs": []
    },
    {
      "cell_type": "markdown",
      "metadata": {
        "id": "q2Coblde6kwI",
        "colab_type": "text"
      },
      "source": [
        "## Example 3"
      ]
    },
    {
      "cell_type": "markdown",
      "metadata": {
        "id": "H_uyAeAs6kwJ",
        "colab_type": "text"
      },
      "source": [
        "Find the roots of the next functions:\n",
        "\n",
        "$$f_1(x) = \\frac{x^2-1}{3}$$\n",
        "\n",
        "and \n",
        "\n",
        "$$f_2(x) = x-\\cos x$$\n",
        "\n",
        "using Fixed-Point iteration."
      ]
    },
    {
      "cell_type": "code",
      "metadata": {
        "id": "mz-VM1rI6kwK",
        "colab_type": "code",
        "colab": {}
      },
      "source": [
        "def f1(x):\n",
        "    return (x**2-1)/3.0\n",
        "\n"
      ],
      "execution_count": 0,
      "outputs": []
    },
    {
      "cell_type": "code",
      "metadata": {
        "id": "jHrQ4iVn6kwN",
        "colab_type": "code",
        "colab": {}
      },
      "source": [
        "def g(x):\n",
        "    return x-f1(x)"
      ],
      "execution_count": 0,
      "outputs": []
    },
    {
      "cell_type": "code",
      "metadata": {
        "id": "ruzCAJ-q6kwQ",
        "colab_type": "code",
        "colab": {}
      },
      "source": [
        "from scipy import optimize"
      ],
      "execution_count": 0,
      "outputs": []
    },
    {
      "cell_type": "code",
      "metadata": {
        "id": "xkLy9k3F6kwT",
        "colab_type": "code",
        "colab": {}
      },
      "source": [
        "help(optimize.fixed_point)"
      ],
      "execution_count": 0,
      "outputs": []
    },
    {
      "cell_type": "code",
      "metadata": {
        "id": "bLLY6z8Y6kwV",
        "colab_type": "code",
        "colab": {}
      },
      "source": [
        "optimize.fixed_point(g,0.1)"
      ],
      "execution_count": 0,
      "outputs": []
    },
    {
      "cell_type": "code",
      "metadata": {
        "id": "mFXydBmh6kwY",
        "colab_type": "code",
        "colab": {}
      },
      "source": [
        "f1(1)"
      ],
      "execution_count": 0,
      "outputs": []
    },
    {
      "cell_type": "code",
      "metadata": {
        "id": "eZOpJaBI6kwd",
        "colab_type": "code",
        "colab": {}
      },
      "source": [
        "g(1),1-f1(1)"
      ],
      "execution_count": 0,
      "outputs": []
    },
    {
      "cell_type": "code",
      "metadata": {
        "id": "6OKovqlx6kwg",
        "colab_type": "code",
        "colab": {}
      },
      "source": [
        "def f2(x):\n",
        "    return x-np.cos(x)\n",
        "FixedPoint_Animation( f2, pini = 0.2, Nmax = 15, xmin = 0, xmax = 1.5 )"
      ],
      "execution_count": 0,
      "outputs": []
    },
    {
      "cell_type": "markdown",
      "metadata": {
        "id": "E4j_7LAy6kwi",
        "colab_type": "text"
      },
      "source": [
        "## Stop conditions FP"
      ]
    },
    {
      "cell_type": "markdown",
      "metadata": {
        "id": "Jtp6Br4t6kwj",
        "colab_type": "text"
      },
      "source": [
        "The stop conditions are the same than Bisection:\n",
        "\n",
        "* A fixed distance between the last two steps (absolute convergence):\n",
        "\n",
        "    $$|p_i - p_{i-1}|<\\epsilon$$\n",
        "\n",
        "* A fixed relative distance between the last two steps (relative convergence):\n",
        "\n",
        "    $$\\frac{|p_i - p_{i-1}|}{|p_i|}<\\epsilon\\ \\ \\ \\ \\ p_i \\neq 0$$\n",
        "\n",
        "* Function tolerance:\n",
        "\n",
        "    $$f(p_i)< \\epsilon$$\n",
        "\n",
        "* Computational stop:\n",
        "\n",
        "    If $N>N_{max}$, stop!"
      ]
    },
    {
      "cell_type": "code",
      "metadata": {
        "id": "jeQJMF5r6kwk",
        "colab_type": "code",
        "colab": {}
      },
      "source": [
        "import random"
      ],
      "execution_count": 0,
      "outputs": []
    },
    {
      "cell_type": "code",
      "metadata": {
        "id": "goIz-Bry6kwm",
        "colab_type": "code",
        "colab": {}
      },
      "source": [
        "random.randint(1,4)"
      ],
      "execution_count": 0,
      "outputs": []
    },
    {
      "cell_type": "markdown",
      "metadata": {
        "id": "0Vfxr82z6kwp",
        "colab_type": "text"
      },
      "source": [
        "__Activity__: Use the `optimize.fixed_point` to find the root of `f2(x)`"
      ]
    },
    {
      "cell_type": "code",
      "metadata": {
        "id": "6MLK6Dwf9GqZ",
        "colab_type": "code",
        "colab": {}
      },
      "source": [
        "from scipy import optimize as opt\n",
        "import matplotlib.pyplot as plt\n",
        "import numpy as np"
      ],
      "execution_count": 0,
      "outputs": []
    },
    {
      "cell_type": "code",
      "metadata": {
        "id": "E-BeS6ay8hCw",
        "colab_type": "code",
        "colab": {}
      },
      "source": [
        "def f2(x):\n",
        "    return x - np.cos(x)\n",
        "\n",
        "def g2(x):\n",
        "  return x - f2(x)"
      ],
      "execution_count": 0,
      "outputs": []
    },
    {
      "cell_type": "code",
      "metadata": {
        "id": "kSgz1W2f9ZaU",
        "colab_type": "code",
        "outputId": "af8179b1-9fe6-42b2-a003-7c0bf96c38c8",
        "colab": {
          "base_uri": "https://localhost:8080/",
          "height": 265
        }
      },
      "source": [
        "x = np.linspace(-5, 5)\n",
        "\n",
        "plt.plot(x, f2(x))\n",
        "plt.grid()\n",
        "plt.show()"
      ],
      "execution_count": 0,
      "outputs": [
        {
          "output_type": "display_data",
          "data": {
            "image/png": "[encoded data removed]",
            "text/plain": [
              "<Figure size 432x288 with 1 Axes>"
            ]
          },
          "metadata": {
            "tags": [],
            "needs_background": "light"
          }
        }
      ]
    },
    {
      "cell_type": "code",
      "metadata": {
        "id": "eNZA8lA484yr",
        "colab_type": "code",
        "outputId": "f3f56114-51e6-400f-9cb5-d392224f3150",
        "colab": {
          "base_uri": "https://localhost:8080/",
          "height": 35
        }
      },
      "source": [
        "x0 = opt.fixed_point(g2, 1)\n",
        "x0"
      ],
      "execution_count": 0,
      "outputs": [
        {
          "output_type": "execute_result",
          "data": {
            "text/plain": [
              "array(0.73908513)"
            ]
          },
          "metadata": {
            "tags": []
          },
          "execution_count": 8
        }
      ]
    },
    {
      "cell_type": "markdown",
      "metadata": {
        "id": "iSF-QvGV6kwq",
        "colab_type": "text"
      },
      "source": [
        "## Example 4"
      ]
    },
    {
      "cell_type": "markdown",
      "metadata": {
        "id": "TDnERO4O6kwr",
        "colab_type": "text"
      },
      "source": [
        "There is a type of functions whose roots coincides with a local or global minima or maxima. This condition implies the function does not cross the x-axis at the root and the problem cannot be solved by using Bisection as the criterion of different signs cannot be satisfied. Fixed-point iteration is a more feasible alternative when solving these problems.\n",
        "\n",
        "As an example, here we shall solve the roots of the function\n",
        "\n",
        "$f(x) = x^2\\cos(2x)$\n",
        "\n",
        "For this, we plot the function first:"
      ]
    },
    {
      "cell_type": "markdown",
      "metadata": {
        "id": "gfmbUJO56kws",
        "colab_type": "text"
      },
      "source": [
        "It is clear there are three root within the plotted interval, i.e. $x_0 = -\\pi/4$, $x_1 = 0$ and $x_2 = \\pi/4$. Using bisection for the first and third roots we obtain:"
      ]
    },
    {
      "cell_type": "code",
      "metadata": {
        "id": "djKRQjyw6kwt",
        "colab_type": "code",
        "outputId": "1e2ae6c2-aa17-48f2-d9fd-a37c1f4fa01c",
        "colab": {
          "base_uri": "https://localhost:8080/",
          "height": 279
        }
      },
      "source": [
        "def f(x):\n",
        "    return x**2*np.cos(2*x)\n",
        "\n",
        "X = np.linspace(-1,1,100)\n",
        "plt.plot( X, f(X), lw=2 )\n",
        "plt.xlabel(\"X axis\")\n",
        "plt.xlabel(\"Y axis\")\n",
        "plt.grid(True)"
      ],
      "execution_count": 0,
      "outputs": [
        {
          "output_type": "display_data",
          "data": {
            "image/png": "[encoded data removed]",
            "text/plain": [
              "<Figure size 432x288 with 1 Axes>"
            ]
          },
          "metadata": {
            "tags": [],
            "needs_background": "light"
          }
        }
      ]
    },
    {
      "cell_type": "code",
      "metadata": {
        "id": "72Oimf9r6kwv",
        "colab_type": "code",
        "outputId": "704bd5d8-df5f-4957-d8a0-27566ff0e5ba",
        "colab": {
          "base_uri": "https://localhost:8080/",
          "height": 54
        }
      },
      "source": [
        "from scipy import optimize\n",
        "\n",
        "print( \"Root x_1\", optimize.bisect( f, a=-1, b=-0.5) )\n",
        "print( \"Root x_2\", optimize.bisect( f, a=0.5, b=1) )"
      ],
      "execution_count": 0,
      "outputs": [
        {
          "output_type": "stream",
          "text": [
            "Root x_1 -0.7853981633979856\n",
            "Root x_2 0.7853981633979856\n"
          ],
          "name": "stdout"
        }
      ]
    },
    {
      "cell_type": "markdown",
      "metadata": {
        "id": "1T_QRTZT6kwy",
        "colab_type": "text"
      },
      "source": [
        "However, when applying bisection to the middle root, we obtain:"
      ]
    },
    {
      "cell_type": "code",
      "metadata": {
        "id": "m0PthuVp6kwy",
        "colab_type": "code",
        "outputId": "b9e17819-bd19-4fee-e961-6d1680274e8b",
        "colab": {
          "base_uri": "https://localhost:8080/",
          "height": 301
        }
      },
      "source": [
        "print( \"Root x_0\", optimize.bisect( f, a=-0.5, b=0.5) )"
      ],
      "execution_count": 0,
      "outputs": [
        {
          "output_type": "error",
          "ename": "ValueError",
          "evalue": "ignored",
          "traceback": [
            "\u001b[0;31m---------------------------------------------------------------------------\u001b[0m",
            "\u001b[0;31mValueError\u001b[0m                                Traceback (most recent call last)",
            "\u001b[0;32m<ipython-input-18-76a08fa07ea3>\u001b[0m in \u001b[0;36m<module>\u001b[0;34m()\u001b[0m\n\u001b[0;32m----> 1\u001b[0;31m \u001b[0mprint\u001b[0m\u001b[0;34m(\u001b[0m \u001b[0;34m\"Root x_0\"\u001b[0m\u001b[0;34m,\u001b[0m \u001b[0moptimize\u001b[0m\u001b[0;34m.\u001b[0m\u001b[0mbisect\u001b[0m\u001b[0;34m(\u001b[0m \u001b[0mf\u001b[0m\u001b[0;34m,\u001b[0m \u001b[0ma\u001b[0m\u001b[0;34m=\u001b[0m\u001b[0;34m-\u001b[0m\u001b[0;36m0.5\u001b[0m\u001b[0;34m,\u001b[0m \u001b[0mb\u001b[0m\u001b[0;34m=\u001b[0m\u001b[0;36m0.5\u001b[0m\u001b[0;34m)\u001b[0m \u001b[0;34m)\u001b[0m\u001b[0;34m\u001b[0m\u001b[0;34m\u001b[0m\u001b[0m\n\u001b[0m",
            "\u001b[0;32m/usr/local/lib/python3.6/dist-packages/scipy/optimize/zeros.py\u001b[0m in \u001b[0;36mbisect\u001b[0;34m(f, a, b, args, xtol, rtol, maxiter, full_output, disp)\u001b[0m\n\u001b[1;32m    551\u001b[0m     \u001b[0;32mif\u001b[0m \u001b[0mrtol\u001b[0m \u001b[0;34m<\u001b[0m \u001b[0m_rtol\u001b[0m\u001b[0;34m:\u001b[0m\u001b[0;34m\u001b[0m\u001b[0;34m\u001b[0m\u001b[0m\n\u001b[1;32m    552\u001b[0m         \u001b[0;32mraise\u001b[0m \u001b[0mValueError\u001b[0m\u001b[0;34m(\u001b[0m\u001b[0;34m\"rtol too small (%g < %g)\"\u001b[0m \u001b[0;34m%\u001b[0m \u001b[0;34m(\u001b[0m\u001b[0mrtol\u001b[0m\u001b[0;34m,\u001b[0m \u001b[0m_rtol\u001b[0m\u001b[0;34m)\u001b[0m\u001b[0;34m)\u001b[0m\u001b[0;34m\u001b[0m\u001b[0;34m\u001b[0m\u001b[0m\n\u001b[0;32m--> 553\u001b[0;31m     \u001b[0mr\u001b[0m \u001b[0;34m=\u001b[0m \u001b[0m_zeros\u001b[0m\u001b[0;34m.\u001b[0m\u001b[0m_bisect\u001b[0m\u001b[0;34m(\u001b[0m\u001b[0mf\u001b[0m\u001b[0;34m,\u001b[0m \u001b[0ma\u001b[0m\u001b[0;34m,\u001b[0m \u001b[0mb\u001b[0m\u001b[0;34m,\u001b[0m \u001b[0mxtol\u001b[0m\u001b[0;34m,\u001b[0m \u001b[0mrtol\u001b[0m\u001b[0;34m,\u001b[0m \u001b[0mmaxiter\u001b[0m\u001b[0;34m,\u001b[0m \u001b[0margs\u001b[0m\u001b[0;34m,\u001b[0m \u001b[0mfull_output\u001b[0m\u001b[0;34m,\u001b[0m \u001b[0mdisp\u001b[0m\u001b[0;34m)\u001b[0m\u001b[0;34m\u001b[0m\u001b[0;34m\u001b[0m\u001b[0m\n\u001b[0m\u001b[1;32m    554\u001b[0m     \u001b[0;32mreturn\u001b[0m \u001b[0mresults_c\u001b[0m\u001b[0;34m(\u001b[0m\u001b[0mfull_output\u001b[0m\u001b[0;34m,\u001b[0m \u001b[0mr\u001b[0m\u001b[0;34m)\u001b[0m\u001b[0;34m\u001b[0m\u001b[0;34m\u001b[0m\u001b[0m\n\u001b[1;32m    555\u001b[0m \u001b[0;34m\u001b[0m\u001b[0m\n",
            "\u001b[0;31mValueError\u001b[0m: f(a) and f(b) must have different signs"
          ]
        }
      ]
    },
    {
      "cell_type": "markdown",
      "metadata": {
        "id": "pTAMJuu46kw2",
        "colab_type": "text"
      },
      "source": [
        "Now, applying Fixed-point iteration:"
      ]
    },
    {
      "cell_type": "code",
      "metadata": {
        "id": "DG72UWEo6kw2",
        "colab_type": "code",
        "colab": {}
      },
      "source": [
        "FixedPoint_Animation( f, pini = 0.4, Nmax = 50, xmin = -0.5, xmax = 0.5 )"
      ],
      "execution_count": 0,
      "outputs": []
    },
    {
      "cell_type": "markdown",
      "metadata": {
        "id": "YsfFzER16kw7",
        "colab_type": "text"
      },
      "source": [
        "__Activity__: Comprobar con scipy y fixed_point"
      ]
    },
    {
      "cell_type": "code",
      "metadata": {
        "id": "lyDnMZVx6kw8",
        "colab_type": "code",
        "colab": {}
      },
      "source": [
        "def f3(x):\n",
        "  return x**2*np.cos(2*x)\n",
        "\n",
        "def g3(x):\n",
        "  return x - f(x)"
      ],
      "execution_count": 0,
      "outputs": []
    },
    {
      "cell_type": "code",
      "metadata": {
        "id": "aENYlS_IBDkd",
        "colab_type": "code",
        "outputId": "e275f44a-36f0-4601-818b-e564e08eba83",
        "colab": {
          "base_uri": "https://localhost:8080/",
          "height": 35
        }
      },
      "source": [
        "x0 = opt.fixed_point(f, -0.5)\n",
        "x1 = opt.fixed_point(f, 0)\n",
        "x2 = opt.fixed_point(f, 0.85)\n",
        "\n",
        "print('Las raíces son: {}, {} y {}'.format(x0, x1, x2))"
      ],
      "execution_count": 0,
      "outputs": [
        {
          "output_type": "stream",
          "text": [
            "Las raíces son: 0.0, 0.0 y 0.0\n"
          ],
          "name": "stdout"
        }
      ]
    },
    {
      "cell_type": "markdown",
      "metadata": {
        "id": "-NMG7wxF6kw-",
        "colab_type": "text"
      },
      "source": [
        "## ACTIVITY FP"
      ]
    },
    {
      "cell_type": "markdown",
      "metadata": {
        "id": "x6wbk9WC6kw_",
        "colab_type": "text"
      },
      "source": [
        "When a new planet is discovered, there are different methods to estimate its physical properties. Many times is only possible to estimate either the planet mass or the planet radius and the other property has to be predicted through computer modelling.\n",
        "\n",
        "If one has the planet mass, a very rough way to estimate its radius is to assume certain composition (mean density) and a homogeneous distribution (a very bad assumption!). For example, for the planet [Gliese 832c](http://es.wikipedia.org/wiki/Gliese_832_c) with a mass $M= 5.40 M_{\\oplus}$, if we assume an earth-like composition, i.e. $\\bar \\rho_{\\oplus} = 5520\\ kg/m^3$, we obtain:\n",
        "\n",
        "$$R_{g832c} = \\left( \\frac{3 M_{g832c}}{ 4 \\pi \\bar\\rho_{\\oplus} } \\right)^{1/3} \\approx 1.75 R_{\\oplus}$$\n",
        "\n",
        "That would be the planet radius if the composition where exactly equal to earth's.\n",
        "\n",
        "A more realistic approach is assuming an internal one-layer density profile like:\n",
        "\n",
        "$$\\rho(r) = \\rho_0 \\exp\\left( -\\frac{r}{L} \\right)$$\n",
        "\n",
        "where $\\rho_0$ is the density at planet centre and $L$ is a characteristic lenght depending on the composition. From numerical models of planet interiors, the estimated parameters for a planet of are $M= 5.40 M_{\\oplus}$ are approximately $\\rho_0 = 18000\\ kg/m^3$ and $L = 6500\\ km$.\n",
        "\n",
        "Integrating over the planet volume, we obtain the total mass as\n",
        "\n",
        "$$M = 4\\pi \\int_0^R \\rho(r)r^2dr$$\n",
        "\n",
        "This is a function of the mass in terms of the planet radius. \n",
        "\n",
        "Solving the equation $M(R) = M_{g832c}$ it would be possible to find a more realistic planet radius. However when using numerical models, it is not possible to approach the solution from the left side as a negative mass makes no sense."
      ]
    },
    {
      "cell_type": "markdown",
      "metadata": {
        "id": "ri12ECbP6kxA",
        "colab_type": "text"
      },
      "source": [
        "<font color='red'>    \n",
        "In an IPython notebook, solve the previous problem and find the radius of **Gliese 832c** using your own version of the Fixed-point iteration algorithm.\n",
        "</font>"
      ]
    },
    {
      "cell_type": "markdown",
      "metadata": {
        "id": "2oLnc93W6kxB",
        "colab_type": "text"
      },
      "source": [
        "- - -"
      ]
    },
    {
      "cell_type": "markdown",
      "metadata": {
        "id": "N-bWJwiy6kxB",
        "colab_type": "text"
      },
      "source": [
        "# Newton-Raphson Method"
      ]
    },
    {
      "cell_type": "markdown",
      "metadata": {
        "id": "Sx7-F-lG6kxC",
        "colab_type": "text"
      },
      "source": [
        "Although Fixed-point iteration is an efficient algorithm as compared with Bisection, the Newton-Raphson method is an acceletared convergent scheme where the roots of a function are easily found with just a few iterations."
      ]
    },
    {
      "cell_type": "markdown",
      "metadata": {
        "id": "neRRvet_6kxC",
        "colab_type": "text"
      },
      "source": [
        "## Derivation NM"
      ]
    },
    {
      "cell_type": "markdown",
      "metadata": {
        "id": "CLmM9sRv6kxD",
        "colab_type": "text"
      },
      "source": [
        "Although this method can be presented from an algorithmic point of view, the mathematical deduction is very useful as it allows us to understand the essence of the approximation as well as estimating easily the convergence errors.\n",
        "\n",
        "Let be $f(x)$ a continuous and differentiable function defined within an interval $[a,b]$ (i.e. $f\\in \\mathcal{C}^2[a,b]$), and $p$ is a root of the function such that $f(p) = 0$. If we give an initial an enough close guess $p_0$ to this root, such that $|p-p_0|<\\epsilon$, where $\\epsilon$ is adequately small, we can expand the function by using a second order taylor serie, yielding:\n",
        "\n",
        "$$f(p) = f(p_0) + (p-p_0)f'(p_0) + \\frac{(p-p_0)^2}{2}f''(p_0) + \\mathcal{O}^3(|p-p_0|)$$\n",
        "\n",
        "but as $f(p) = 0$ and $|p-p_0|^2<\\epsilon^2$ is an even smaller quantity, we can readily neglect from second order terms, obtaining\n",
        "\n",
        "$$p \\approx p_0 - \\frac{f(p_0)}{f'(p_0)} \\equiv p_1$$\n",
        "\n",
        "If we repeat this process but now using $p_1$ as our guess to the root instead of $p_0$ we shall obtain:\n",
        "\n",
        "$$p \\approx p_1 - \\frac{f(p_1)}{f'(p_1)} \\equiv p_2$$\n",
        "\n",
        "and so...\n",
        "\n",
        "$$p \\approx p_n - \\frac{f(p_n)}{f'(p_n)} \\equiv p_{n+1}$$\n",
        "\n",
        "where each new iteration is a better approximation to the real root."
      ]
    },
    {
      "cell_type": "markdown",
      "metadata": {
        "id": "_O8ed0zs6kxE",
        "colab_type": "text"
      },
      "source": [
        "## Steps NM"
      ]
    },
    {
      "cell_type": "markdown",
      "metadata": {
        "id": "zPJNCWIL6kxE",
        "colab_type": "text"
      },
      "source": [
        "1. Take your function $f(x)$ and derive it, $f'(x)$.\n",
        "2. Give a guest to the solution (root of $f(x)$). This value would be the seed $p_0$.\n",
        "3. The next guest to the solution will be given by\n",
        "\n",
        "    $$p_{n+1} = p_n - \\frac{f(p_n)}{f'(p_{n+1})}$$\n",
        "\n",
        "4. If the stop condition is not satisfied, then repeat step 3.\n",
        "5. The End!"
      ]
    },
    {
      "cell_type": "code",
      "metadata": {
        "id": "rap6QJie6kxF",
        "colab_type": "code",
        "colab": {}
      },
      "source": [
        "#Defining Newton Method\n",
        "def NewtonRaphson_Animation( f, fp, pini, Nmax, xmin, xmax ):\n",
        "    #Initial condition\n",
        "    p = [pini,]\n",
        "    p_dash = []\n",
        "    p_der = []\n",
        "    #Iterations\n",
        "    for n in range(Nmax):\n",
        "        p.append( p[n] - f(p[n])/fp(p[n]) )\n",
        "        p_dash.append( p[n] )\n",
        "        p_dash.append( p[n] )\n",
        "        p_der.append( 0 )\n",
        "        p_der.append( f(p[n]) )\n",
        "    \n",
        "    p = np.array( p )\n",
        "    p_dash = np.array( p_dash )\n",
        "    p_der = np.array( p_der )\n",
        "    \n",
        "    print (  \"Result:\", p[-1])    \n",
        "    #Array X-axis\n",
        "    X = np.linspace(xmin,xmax,100)\n",
        "    \n",
        "    #Initializing Figure\n",
        "    fig = plt.figure( figsize=(7,7) )\n",
        "    ax = fig.add_subplot(111)\n",
        "    #Graphic iterations\n",
        "    dash, = ax.plot( [], [], \"--\", color=\"gray\", linewidth = 2 )\n",
        "    derivative, = ax.plot( [], [], color=\"red\", linewidth = 3 )\n",
        "    #Function f\n",
        "    ax.plot( X, f(X), color=\"green\", linewidth = 2 )\n",
        "    #Horizontal line\n",
        "    ax.hlines( 0, xmin,xmax, color=\"black\", lw = 2 )\n",
        "    ax.grid(True)\n",
        "    ax.set_xlim( (xmin, xmax) )\n",
        "    ax.set_xlabel( \"X axis\" )\n",
        "    ax.set_ylabel( \"Y axis\" )\n",
        "    ax.set_title( \"Fixed-Point iteration\" )\n",
        "        \n",
        "    def init():\n",
        "        dash.set_data([], [])\n",
        "        derivative.set_data([], [])\n",
        "        return dash, derivative\n",
        "    \n",
        "    def animate(i):\n",
        "        #Setting new data\n",
        "        dash.set_data( p_dash[:2*i+2], p_der[:2*i+2] )\n",
        "        derivative.set_data( p_dash[2*i+1:2*i+3], p_der[2*i+1:2*i+3] )\n",
        "        ax.set_title( \"Newthon-Raphson Method. Iteration %d\"%i )\n",
        "        return dash, derivative\n",
        "    \n",
        "    return animation.FuncAnimation(fig, animate, init_func=init,frames=Nmax, interval=500, blit=True)"
      ],
      "execution_count": 0,
      "outputs": []
    },
    {
      "cell_type": "markdown",
      "metadata": {
        "id": "-o2DDqp_6kxI",
        "colab_type": "text"
      },
      "source": [
        "## Example 5"
      ]
    },
    {
      "cell_type": "markdown",
      "metadata": {
        "id": "8HQImfXR6kxJ",
        "colab_type": "text"
      },
      "source": [
        "Find one root of the function:\n",
        "\n",
        "$f(x) = x^2 - x$\n",
        "\n",
        "with derivative\n",
        "\n",
        "$f'(x) = 2x -1$\n",
        "\n",
        "using the Newton-Raphson method."
      ]
    },
    {
      "cell_type": "code",
      "metadata": {
        "id": "0mzcIaxx6kxJ",
        "colab_type": "code",
        "colab": {}
      },
      "source": [
        "#Defining the function\n",
        "def f(x): \n",
        "    return x**2-x\n",
        "#Defining the derivative\n",
        "def df(x): \n",
        "    return 2*x-1\n",
        "#Calculating root\n",
        "NewtonRaphson_Animation( f, df, pini = 0.55, Nmax = 10, xmin = 0, xmax = 3.5 )"
      ],
      "execution_count": 0,
      "outputs": []
    },
    {
      "cell_type": "markdown",
      "metadata": {
        "id": "tRzCyBFd6kxN",
        "colab_type": "text"
      },
      "source": [
        "## Stop conditions NM"
      ]
    },
    {
      "cell_type": "markdown",
      "metadata": {
        "id": "VVJ6MVSI6kxO",
        "colab_type": "text"
      },
      "source": [
        "The stop conditions are the same than Bisection and Fixed-point iteration:\n",
        "\n",
        "* A fixed distance between the last two steps (absolute convergence):\n",
        "\n",
        "    $$|p_i - p_{i-1}|<\\epsilon$$\n",
        "\n",
        "* A fixed relative distance between the last two steps (relative convergence):\n",
        "\n",
        "    $$\\frac{|p_i - p_{i-1}|}{|p_i|}<\\epsilon\\ \\ \\ \\ \\ p_i \\neq 0$$\n",
        "\n",
        "* Function tolerance:\n",
        "\n",
        "    $$f(p_i)< \\epsilon$$\n",
        "\n",
        "* Computational stop:\n",
        "\n",
        "    If $N>N_{max}$, stop!"
      ]
    },
    {
      "cell_type": "markdown",
      "metadata": {
        "id": "gce8Y5iQ6kxP",
        "colab_type": "text"
      },
      "source": [
        "## Convergence NM"
      ]
    },
    {
      "cell_type": "markdown",
      "metadata": {
        "id": "gX8CXMUD6kxP",
        "colab_type": "text"
      },
      "source": [
        "It is possible to demonstrate by means of the previous derivation procedure, that the convergence of the Newton-Raphson method is quadratic, i.e., if $p$ is the exact root and $p_n$ is the $n$-th iteration, then\n",
        "\n",
        "$$|p_{n+1}-p|\\leq C |p_n-p|^2$$\n",
        "\n",
        "for a fixed ans positive constant $C$.\n",
        "\n",
        "This implies, if the initial guess is good enough such that |p_0-p| is small, the convergence is achieved very fast as each iteration improves the precision twice in the order of magnitude, e.g., if $|p_0-p|\\sim 10^{-1}$, $|p_1-p|\\sim 10^{-2}$, $|p_2-p|\\sim 10^{-4}$, $|p_2-p|\\sim 10^{-8}$ and so."
      ]
    },
    {
      "cell_type": "code",
      "metadata": {
        "id": "lktwaErb6kxQ",
        "colab_type": "code",
        "colab": {}
      },
      "source": [
        "#Defining Newton Method\n",
        "def NewtonRaphson( f, fp, pini, Nmax ):\n",
        "    #Initial condition\n",
        "    p = pini\n",
        "    #Iterations\n",
        "    for n in  range(Nmax):\n",
        "        p = p - f(p)/fp(p)\n",
        "    #Final result\n",
        "    return p\n"
      ],
      "execution_count": 0,
      "outputs": []
    },
    {
      "cell_type": "markdown",
      "metadata": {
        "id": "uLpvXX9E6kxS",
        "colab_type": "text"
      },
      "source": [
        "<font color='red'>\n",
        "**ACTIVITY**\n",
        "    \n",
        "In an IPython notebook, copy the latter routine NewtonRaphson and the Bisection routine provided in this notebook (*and if you have it already, the Fixed-point iteration routine as well*) and find the root of the next function using all the methods.\n",
        "    \n",
        "$f(x) = x - \\cos(x)$\n",
        "    \n",
        "Plot in the same figure the convergence of each method as a function of the number of iterations.\n",
        "</font>"
      ]
    },
    {
      "cell_type": "markdown",
      "metadata": {
        "id": "oRtDWXGy6kxT",
        "colab_type": "text"
      },
      "source": [
        "See the __Summary__ section at the end for the implementation in Scipy"
      ]
    },
    {
      "cell_type": "code",
      "metadata": {
        "id": "0nKrVip1G70v",
        "colab_type": "code",
        "colab": {}
      },
      "source": [
        "import numpy as np\n",
        "from scipy import optimize as opt\n",
        "import matplotlib.pyplot as plt"
      ],
      "execution_count": 0,
      "outputs": []
    },
    {
      "cell_type": "code",
      "metadata": {
        "id": "QWPDt2siPl9X",
        "colab_type": "code",
        "colab": {}
      },
      "source": [
        "def f(x):\n",
        "  return x - np.cos(x)\n",
        "\n",
        "def g(x):\n",
        "  return x - f(x)\n",
        "\n",
        "def fp(x):\n",
        "  return 1 + np.sin(x)"
      ],
      "execution_count": 0,
      "outputs": []
    },
    {
      "cell_type": "code",
      "metadata": {
        "id": "fthTalLFXiGq",
        "colab_type": "code",
        "outputId": "22744196-bd6a-4ce0-b6ac-7c97d5421106",
        "colab": {
          "base_uri": "https://localhost:8080/",
          "height": 265
        }
      },
      "source": [
        "x = np.linspace(-1, 1)\n",
        "\n",
        "plt.plot(x, f(x))\n",
        "plt.grid()\n",
        "plt.show()"
      ],
      "execution_count": 0,
      "outputs": [
        {
          "output_type": "display_data",
          "data": {
            "image/png": "[encoded data removed]",
            "text/plain": [
              "<Figure size 432x288 with 1 Axes>"
            ]
          },
          "metadata": {
            "tags": [],
            "needs_background": "light"
          }
        }
      ]
    },
    {
      "cell_type": "markdown",
      "metadata": {
        "id": "n5IuB-BWj6u0",
        "colab_type": "text"
      },
      "source": [
        "Bisection"
      ]
    },
    {
      "cell_type": "code",
      "metadata": {
        "id": "60R0UZNzP-fm",
        "colab_type": "code",
        "colab": {}
      },
      "source": [
        "def bisection(f, a, b, eps, Nmax):\n",
        "\n",
        "  if f(a)*f(b) > 0:\n",
        "    print (\"Error, f(a) and f(b) should have opposite signs\")\n",
        "    return False\n",
        "\n",
        "  ai = a\n",
        "  bi = b\n",
        "\n",
        "  for n in range(Nmax):\n",
        "\n",
        "    p = (ai+bi)/2.0\n",
        "\n",
        "    if -eps <= f(p) <= eps:\n",
        "      break\n",
        "\n",
        "    if f(p)*f(ai) > 0:\n",
        "      ai = p\n",
        "    elif f(p)*f(ai) < 0:\n",
        "      bi = p\n",
        "\n",
        "  return [p, n]"
      ],
      "execution_count": 0,
      "outputs": []
    },
    {
      "cell_type": "code",
      "metadata": {
        "id": "LIKwyc1VSQ2u",
        "colab_type": "code",
        "outputId": "9847872e-92e6-4d22-97fa-34265abd5c69",
        "colab": {
          "base_uri": "https://localhost:8080/",
          "height": 35
        }
      },
      "source": [
        "bisection_result = bisection(f, 0, 1, 0.0001, 100)\n",
        "bisection_result"
      ],
      "execution_count": 0,
      "outputs": [
        {
          "output_type": "execute_result",
          "data": {
            "text/plain": [
              "[0.7391357421875, 12]"
            ]
          },
          "metadata": {
            "tags": []
          },
          "execution_count": 49
        }
      ]
    },
    {
      "cell_type": "markdown",
      "metadata": {
        "id": "WmroZ3ydj_wI",
        "colab_type": "text"
      },
      "source": [
        "Fixed point"
      ]
    },
    {
      "cell_type": "code",
      "metadata": {
        "id": "Pox2SCPhgpia",
        "colab_type": "code",
        "colab": {}
      },
      "source": [
        "def fixed_point(g, pi, eps, Nmax):\n",
        "\n",
        "  p = pi\n",
        "\n",
        "  for n in range(Nmax):\n",
        "\n",
        "    p = g(p)\n",
        "\n",
        "    if -eps <= f(p) <= eps:\n",
        "      break\n",
        "\n",
        "  return [p, n]"
      ],
      "execution_count": 0,
      "outputs": []
    },
    {
      "cell_type": "code",
      "metadata": {
        "id": "f7mviU-mjfi0",
        "colab_type": "code",
        "outputId": "744b0542-8323-48ef-fd12-48dfc21cd92c",
        "colab": {
          "base_uri": "https://localhost:8080/",
          "height": 35
        }
      },
      "source": [
        "fixed_point_result = fixed_point(g, 0.5, 0.0001, 100)\n",
        "fixed_point_result"
      ],
      "execution_count": 0,
      "outputs": [
        {
          "output_type": "execute_result",
          "data": {
            "text/plain": [
              "[0.7391379107622928, 20]"
            ]
          },
          "metadata": {
            "tags": []
          },
          "execution_count": 50
        }
      ]
    },
    {
      "cell_type": "markdown",
      "metadata": {
        "id": "stizWG-AkDK8",
        "colab_type": "text"
      },
      "source": [
        "Newton - Raphson"
      ]
    },
    {
      "cell_type": "code",
      "metadata": {
        "id": "g_KaT8y3VStq",
        "colab_type": "code",
        "colab": {}
      },
      "source": [
        "def Newton_Raphson(f, fp, pi, eps, Nmax):\n",
        "\n",
        "  p = pi\n",
        "\n",
        "  for n in  range(Nmax):\n",
        "\n",
        "    if -eps <= f(p) <= eps:\n",
        "      break\n",
        "\n",
        "    p = p - f(p)/fp(p)\n",
        "\n",
        "  return [p, n]"
      ],
      "execution_count": 0,
      "outputs": []
    },
    {
      "cell_type": "code",
      "metadata": {
        "id": "F6TznZXPWezF",
        "colab_type": "code",
        "outputId": "4d041353-ae67-449c-df3f-dbffde46e3d1",
        "colab": {
          "base_uri": "https://localhost:8080/",
          "height": 35
        }
      },
      "source": [
        "Newton_Raphson_result = Newton_Raphson(f, fp, 0.5, 0.0001, 100)\n",
        "Newton_Raphson_result"
      ],
      "execution_count": 0,
      "outputs": [
        {
          "output_type": "execute_result",
          "data": {
            "text/plain": [
              "[0.7391416661498792, 2]"
            ]
          },
          "metadata": {
            "tags": []
          },
          "execution_count": 51
        }
      ]
    },
    {
      "cell_type": "markdown",
      "metadata": {
        "id": "chchlJyy6kxU",
        "colab_type": "text"
      },
      "source": [
        "- - -"
      ]
    },
    {
      "cell_type": "markdown",
      "metadata": {
        "id": "6M4Pq5r06kxV",
        "colab_type": "text"
      },
      "source": [
        "# Secant Method"
      ]
    },
    {
      "cell_type": "markdown",
      "metadata": {
        "id": "ePMs-qSD6kxW",
        "colab_type": "text"
      },
      "source": [
        "The Newton-Raphson method is highly efficient as the convergence is accelerated, however there is a weakness with it: one needs to know the derivative of the function beforehand. This aspect may be complicated when dealing with numerical functions or even very complicated analytical functions. Numerical methods to derive the input function can be applied, but this extra procedure may involve an extra computing time that compensates the time spent by using other methods like Bisection."
      ]
    },
    {
      "cell_type": "markdown",
      "metadata": {
        "id": "4UYu95Ip6kxW",
        "colab_type": "text"
      },
      "source": [
        "## Derivation SM"
      ]
    },
    {
      "cell_type": "markdown",
      "metadata": {
        "id": "yMdAFWhU6kxY",
        "colab_type": "text"
      },
      "source": [
        "Retaking the iterative expression obtained from the Newton-Raphson method:\n",
        "\n",
        "$$p_{n+1} = p_n - \\frac{f(p_n)}{f'(p_{n+1})}$$\n",
        "\n",
        "the derivative can be approximated as\n",
        "\n",
        "$$f'(p_n) = \\lim_{x\\rightarrow p_n} \\frac{f(x)-f(p_n)}{x-p_n} $$\n",
        "\n",
        "As we know, the convergence of the NR method is quadratic, so $p_{n-1}$ should be close enough to $p_n$ such that one can assume $p_{n-1}\\rightarrow p_n$ and the previous term is:\n",
        "\n",
        "$$f'(p_n) \\approx \\frac{f(p_{n})-f(p_{n-1})}{p_{n}-p_{n-1}} $$\n",
        "\n",
        "The final expression for the $n$-th iteration of the root is then:\n",
        "\n",
        "$$p_n = p_{n-1} - \\frac{ f(p_{n-1})(p_{n-1}-p_{n-2}) }{f(p_{n-1})-f(p_{n-2})}$$\n",
        "\n",
        "In this consists the Secant method, what is just an approximation to the Newton-Raphson method, but without the derivative term."
      ]
    },
    {
      "cell_type": "markdown",
      "metadata": {
        "id": "zJ7rDzGc6kxa",
        "colab_type": "text"
      },
      "source": [
        "## Steps SM"
      ]
    },
    {
      "cell_type": "markdown",
      "metadata": {
        "id": "ucIS4qKm6kxb",
        "colab_type": "text"
      },
      "source": [
        "1. Give the input function $f(x)$.\n",
        "2. Give two guests to the solution (root of $f(x)$). These values would be the seeds $p_0$, $p_1$.\n",
        "3. The next guest to the solution will be given by\n",
        "\n",
        "    $$p_n = p_{n-1} - \\frac{ f(p_{n-1})(p_{n-1}-p_{n-2}) }{f(p_{n-1})-f(p_{n-2})}$$\n",
        "\n",
        "4. If the stop condition is not satisfied, then repeat step 3.\n",
        "5. The End!"
      ]
    },
    {
      "cell_type": "markdown",
      "metadata": {
        "id": "usChAgZ_6kxc",
        "colab_type": "text"
      },
      "source": [
        "See the __Summary__ section at the end for the implementation in Scipy"
      ]
    },
    {
      "cell_type": "markdown",
      "metadata": {
        "id": "cBvigBs86kxd",
        "colab_type": "text"
      },
      "source": [
        "<font color='red'>\n",
        "**ACTIVITY**\n",
        "    \n",
        "In an IPython notebook and based on the routine NewtonRaphson, write your own routine SecantMethod that performs the previous steps for the Secant Method. Test your code with the function $f(x)$:\n",
        "    \n",
        "$f(x) = x - \\cos(x)$\n",
        "</font>"
      ]
    },
    {
      "cell_type": "code",
      "metadata": {
        "id": "WhJfSme4nguh",
        "colab_type": "code",
        "colab": {}
      },
      "source": [
        "import numpy as np\n",
        "from scipy import optimize as opt"
      ],
      "execution_count": 0,
      "outputs": []
    },
    {
      "cell_type": "code",
      "metadata": {
        "id": "0FJ3VEnMqUCE",
        "colab_type": "code",
        "colab": {}
      },
      "source": [
        "def f(x):\n",
        "  return x - np.cos(x)"
      ],
      "execution_count": 0,
      "outputs": []
    },
    {
      "cell_type": "code",
      "metadata": {
        "id": "11NsiE-hnzNg",
        "colab_type": "code",
        "colab": {}
      },
      "source": [
        "def secant(f, x0, x1, eps, Nmax):\n",
        "\n",
        "  for n in range(Nmax):\n",
        "\n",
        "    x2 = x1 - ((x1-x0) * f(x1))/(f(x1) - f(x0))\n",
        "\n",
        "    x0 = x1\n",
        "\n",
        "    x1 = x2\n",
        "\n",
        "    if -eps <= f(x2) <= eps:\n",
        "      break\n",
        "  \n",
        "  return [x2, n]"
      ],
      "execution_count": 0,
      "outputs": []
    },
    {
      "cell_type": "code",
      "metadata": {
        "id": "ycZOLRy8qcQt",
        "colab_type": "code",
        "colab": {
          "base_uri": "https://localhost:8080/",
          "height": 35
        },
        "outputId": "0d26d744-9e0b-42ff-98b7-6c6181e01086"
      },
      "source": [
        "secant(f, 1, 1.2, 0.0001, 100)"
      ],
      "execution_count": 4,
      "outputs": [
        {
          "output_type": "execute_result",
          "data": {
            "text/plain": [
              "[0.7390904667901042, 2]"
            ]
          },
          "metadata": {
            "tags": []
          },
          "execution_count": 4
        }
      ]
    },
    {
      "cell_type": "markdown",
      "metadata": {
        "id": "IQ38wHRU6kxf",
        "colab_type": "text"
      },
      "source": [
        "**ACTIVITY**\n",
        "\n",
        "\n",
        "It is known that light rays are deflected when they pass near by a gravitational field and that this deviation is proportional to the body mass which the light is interacting with and inversely proportional to the passing distance. \n",
        "Since it is common finding very massive structures in the universe and the measures that are done to study it involve photons, it makes sense to study what happens to a light source image when the rays get close to a grumpy object like a dark matter halo.  \n",
        "\n",
        "\n",
        "In order to study the light deflection in these cases, it will be used the simplest model, gravitational lens theory, where the len is a very massive object. A sketch of a typical system is shown in the figure below. The source plane is the light source or image that is going to be affected,  $\\eta$ is the distance from a image point to the line of sight and $\\beta$ the subtended angle by the point. \n",
        "The lens plane corresponds to the mass that affects the light coming from the source, $\\xi$ is the new image point distance to the line of sight, $\\theta$ is the subtended angle by the new point position. Then, $\\alpha$ is the deflection angle. \n",
        "\n",
        "Since from observations $\\theta$ is known, the problem to be solved per pixel usually is \n",
        "\n",
        "\\begin{equation}\n",
        "\\beta = \\theta - \\hat{\\alpha}(\\theta) \n",
        "\\end{equation}\n",
        "\n",
        "but $\\alpha$ also depends on $\\theta$ besides the len halo properties. This would allow construct the real image\n",
        "from the distorted and magnified one. \n",
        "\n",
        "<img src=\"https://github.com/restrepo/ComputationalMethods/blob/master/material/figures/lente1.png?raw=1\">\n",
        "\n",
        "This equation can also be written in terms of distances \n",
        "\n",
        "\\begin{equation}\n",
        "\\vec{\\eta}  = \\frac{D_s}{D_d} \\vec{\\xi} - D_{ds}\\alpha ( \\vec{\\xi }) \n",
        "\\end{equation}\n",
        "\n",
        "The solution to the lens equation is easier to get if it is assumed that the len is axially symmetric. In this case, the deflection angle  takes the next form\n",
        "\n",
        "$$ \\hat{\\alpha}(\\vec{\\xi}) = \\frac{\\vec{\\xi}}{|\\vec{\\xi}|^2} \\frac{8G\\pi}{c^2} \\int_0^\\xi d\\xi'\\xi'\\Sigma(\\xi')$$\n",
        "\n",
        "The quantity $\\Sigma$ is the surface mass density, i.e., the len's mass enclosed inside $\\xi$ circle per area unit.  \n",
        "It is important to notice that the direction of $\\alpha$ is the same as $\\xi$ and consequently $\\eta$. \n",
        "\n",
        "\n",
        "The problem to be solved is the next: Given the positions of a square find the image distorsion due to gravitational lensing, i.e., find the root of \\xi in the trascendal equation it satisfies. Use the routines given below and all of \n",
        "the data for the len and image that is going to be distorted. \n"
      ]
    },
    {
      "cell_type": "code",
      "metadata": {
        "jupyter": {
          "outputs_hidden": true
        },
        "id": "Y9znBcZb6kxf",
        "colab_type": "code",
        "colab": {}
      },
      "source": [
        "#Superficial density of the lens\n",
        "def Sup_density(radio):\n",
        "    return radio*M*len(r[r<radio])/radio**2.\n",
        "\n",
        "#Deviation angle due to the gravitational len\n",
        "def des_angle( radio ):\n",
        "    return 2*np.pi*4*G*integrate.quad( Sup_density ,0, radio )[0]/(radio*c**2)\n",
        "\n",
        "#Len equation\n",
        "def Len_equation(radio, eta):\n",
        "    return eta - Ds*radio/Dd - Dds*des_angle( radio )\n"
      ],
      "execution_count": 0,
      "outputs": []
    },
    {
      "cell_type": "code",
      "metadata": {
        "jupyter": {
          "outputs_hidden": true
        },
        "id": "DIP9w1Lg6kxi",
        "colab_type": "code",
        "colab": {}
      },
      "source": [
        "# Len distribution generated \n",
        "M = 3e7\n",
        "L = 1e5\n",
        "puntos = 6\n",
        "Ds = 1000\n",
        "Dd = 900\n",
        "Dds = Ds - Dd\n",
        "G = 4.302e-3# pc M_sun**-1(km/s)**2\n",
        "c = 3e6 # km/s \n",
        "x = np.linspace(0,L,puntos)\n",
        "y = np.linspace(0,L,puntos)\n",
        "X,Y = np.meshgrid(x,y)\n",
        "#Generating meshgrid of points \n",
        "X = np.reshape(X,puntos*puntos)\n",
        "Y = np.reshape(Y,puntos*puntos)\n",
        "r = np.sqrt(X**2 + Y**2)\n",
        "\n",
        "#Image to be distorted\n",
        "Li = 5\n",
        "ni = 8\n",
        "X0 = np.linspace(-Li,Li,ni)\n",
        "Y0 = np.linspace(-Li,Li,ni)\n",
        "#Generating meshgrid of points \n",
        "X0,Y0 = np.meshgrid(X0,Y0)\n",
        "r0 = np.sqrt( X0**2 + Y0**2 )\n",
        "theta = np.zeros((ni,ni))\n",
        "epsilon = np.zeros((ni,ni))"
      ],
      "execution_count": 0,
      "outputs": []
    },
    {
      "cell_type": "code",
      "metadata": {
        "id": "ad4I70Es6kxm",
        "colab_type": "code",
        "colab": {}
      },
      "source": [
        "xc = epsilon*np.cos(theta)\n",
        "yc = epsilon*np.sin(theta)\n",
        "plt.figure(figsize=(12,6))\n",
        "plt.subplot(1,2,1)\n",
        "plt.plot(xc,yc,'b.');\n",
        "plt.subplot(1,2,2)\n",
        "plt.plot(X0,Y0,\"b.\");"
      ],
      "execution_count": 0,
      "outputs": []
    },
    {
      "cell_type": "markdown",
      "metadata": {
        "id": "NPAfSsUj6kxp",
        "colab_type": "text"
      },
      "source": [
        "## Summary"
      ]
    },
    {
      "cell_type": "markdown",
      "metadata": {
        "id": "eY5nL8Vd6kxq",
        "colab_type": "text"
      },
      "source": [
        "* optimize.bisect\n",
        "* optimize.fixed_point\n",
        "* optimize.newton"
      ]
    },
    {
      "cell_type": "markdown",
      "metadata": {
        "id": "YVpeEpsZ6kxu",
        "colab_type": "text"
      },
      "source": [
        "In `scipy.optimize` the `newton` method contains both the `secant` and `Newton-Raphson` algorithms. The las one is used when the derivative of the function is used explicitly"
      ]
    },
    {
      "cell_type": "code",
      "metadata": {
        "id": "R1o1LzRR6kxu",
        "colab_type": "code",
        "colab": {}
      },
      "source": [
        "optimize.newton?"
      ],
      "execution_count": 0,
      "outputs": []
    },
    {
      "cell_type": "code",
      "metadata": {
        "id": "7JoAPyEL6kxw",
        "colab_type": "code",
        "colab": {}
      },
      "source": [
        "import numpy as np\n",
        "from scipy import optimize \n",
        "def f(x):\n",
        "    return x**2*np.cos(2*x)"
      ],
      "execution_count": 0,
      "outputs": []
    },
    {
      "cell_type": "code",
      "metadata": {
        "id": "oJr72t5-6kxz",
        "colab_type": "code",
        "colab": {}
      },
      "source": [
        "x=np.linspace(-1,1)\n",
        "plt.plot( x, f(x), lw=2 )\n",
        "plt.grid()"
      ],
      "execution_count": 0,
      "outputs": []
    },
    {
      "cell_type": "code",
      "metadata": {
        "id": "ZqtIotln6kx1",
        "colab_type": "code",
        "colab": {}
      },
      "source": [
        "def g(x):\n",
        "    return x-f(x)"
      ],
      "execution_count": 0,
      "outputs": []
    },
    {
      "cell_type": "code",
      "metadata": {
        "id": "c2KmK8J56kx3",
        "colab_type": "code",
        "colab": {}
      },
      "source": [
        "def fprime(x):\n",
        "    \"Derivate of f=x**2*np.cos(2x)\"\n",
        "    return 2*x*np.cos(2*x) - 2*x**2*np.sin(2*x)"
      ],
      "execution_count": 0,
      "outputs": []
    },
    {
      "cell_type": "code",
      "metadata": {
        "id": "s5ixH2096kx4",
        "colab_type": "code",
        "colab": {}
      },
      "source": [
        "root1=optimize.fixed_point(g,-1.0)\n",
        "root2=optimize.fixed_point(g,0.5)\n",
        "root3=optimize.fixed_point(g,0.75)\n",
        "\n",
        "print(\"las raices son x={} x={} x={}\".format(root1,root2,root3))"
      ],
      "execution_count": 0,
      "outputs": []
    },
    {
      "cell_type": "code",
      "metadata": {
        "id": "cvqiBKOl6kx7",
        "colab_type": "code",
        "colab": {}
      },
      "source": [
        "f(root1),f(root2),f(root3)"
      ],
      "execution_count": 0,
      "outputs": []
    },
    {
      "cell_type": "code",
      "metadata": {
        "id": "4B_HxLWR6kx9",
        "colab_type": "code",
        "colab": {}
      },
      "source": [
        "#Secant\n",
        "root1=optimize.newton(f, -1)\n",
        "root2=optimize.newton(f,0.4,tol=1E-16,maxiter=100)\n",
        "root3=optimize.newton(f,0.5)\n",
        "\n",
        "print(\"las raices son x={} x={} x={}\".format(root1,root2,root3))"
      ],
      "execution_count": 0,
      "outputs": []
    },
    {
      "cell_type": "code",
      "metadata": {
        "id": "lv58x6Xi6kx_",
        "colab_type": "code",
        "colab": {}
      },
      "source": [
        "# Newton Raphson\n",
        "root1=optimize.newton(f,-1,fprime)\n",
        "root2=optimize.newton(f,0.1,fprime,tol=1E-16)\n",
        "root3=optimize.newton(f,0.5,fprime)\n",
        "\n",
        "print(\"las raices son x={} x={} x={}\".format(root1,root2,root3))"
      ],
      "execution_count": 0,
      "outputs": []
    },
    {
      "cell_type": "code",
      "metadata": {
        "id": "r-y62ffg6kyA",
        "colab_type": "code",
        "colab": {}
      },
      "source": [
        "root2=optimize.newton(f,0,fprime)\n",
        "root2"
      ],
      "execution_count": 0,
      "outputs": []
    },
    {
      "cell_type": "markdown",
      "metadata": {
        "id": "lSAIQNSN6kyB",
        "colab_type": "text"
      },
      "source": [
        "## Brent's method.\n",
        "Find a root of a function in a bracketing interval using Brent's method."
      ]
    },
    {
      "cell_type": "code",
      "metadata": {
        "jupyter": {
          "outputs_hidden": true
        },
        "id": "MTbLlHaJ6kyC",
        "colab_type": "code",
        "colab": {}
      },
      "source": [
        "from scipy.optimize import brentq"
      ],
      "execution_count": 0,
      "outputs": []
    },
    {
      "cell_type": "code",
      "metadata": {
        "jupyter": {
          "outputs_hidden": true
        },
        "id": "eGSfdfBe6kyD",
        "colab_type": "code",
        "colab": {}
      },
      "source": [
        "brentq?"
      ],
      "execution_count": 0,
      "outputs": []
    },
    {
      "cell_type": "code",
      "metadata": {
        "jupyter": {
          "outputs_hidden": true
        },
        "id": "KTKzTRZs6kyF",
        "colab_type": "code",
        "colab": {}
      },
      "source": [
        ""
      ],
      "execution_count": 0,
      "outputs": []
    }
  ]
}
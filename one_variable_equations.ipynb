{
  "nbformat": 4,
  "nbformat_minor": 0,
  "metadata": {
    "colab": {
      "name": "one-variable-equations.ipynb",
      "provenance": [],
      "include_colab_link": true
    },
    "kernelspec": {
      "display_name": "Python 3",
      "language": "python",
      "name": "python3"
    },
    "language_info": {
      "codemirror_mode": {
        "name": "ipython",
        "version": 3
      },
      "file_extension": ".py",
      "mimetype": "text/x-python",
      "name": "python",
      "nbconvert_exporter": "python",
      "pygments_lexer": "ipython3",
      "version": "3.8.2"
    },
    "toc": {
      "colors": {
        "hover_highlight": "#DAA520",
        "running_highlight": "#FF0000",
        "selected_highlight": "#FFD700"
      },
      "moveMenuLeft": true,
      "nav_menu": {
        "height": "426px",
        "width": "252px"
      },
      "navigate_menu": true,
      "number_sections": true,
      "sideBar": true,
      "threshold": 4,
      "toc_cell": false,
      "toc_section_display": "block",
      "toc_window_display": false
    }
  },
  "cells": [
    {
      "cell_type": "markdown",
      "metadata": {
        "id": "view-in-github",
        "colab_type": "text"
      },
      "source": [
        "<a href=\"https://colab.research.google.com/github/marlonandres3m/Evaluacion2020-1/blob/master/one_variable_equations.ipynb\" target=\"_parent\"><img src=\"https://colab.research.google.com/assets/colab-badge.svg\" alt=\"Open In Colab\"/></a>"
      ]
    },
    {
      "cell_type": "markdown",
      "metadata": {
        "colab_type": "text",
        "id": "SXyvF2G-w7VE"
      },
      "source": [
        "# One Variable Equations"
      ]
    },
    {
      "cell_type": "markdown",
      "metadata": {
        "colab_type": "text",
        "id": "cx_2LAjUw7VH"
      },
      "source": [
        "Throughout this section and the next ones we shall cover the topic of solutions to one variable equations. Many different problems in physics and astronomy require the use of complex expressions, even with implicit dependence of variables. When it is necessary to solve for one of those variable, an analytical approach is not usually the best solution, because of its complexity or even because it does not exist at all. Different approaches for dealing with this comprehend series expansions and numerical solutions. Among the most widely used numerical approaches are the Bisection or Binary-search method, fixed-point iteration, Newton's methods.\n",
        "\n",
        "For further details see for example Chap. 5 of Ref. ([1](../index.ipynb#Bibliography)) or Chap. 4 of Ref. ([3](../index.ipynb#Bibliography))\n"
      ]
    },
    {
      "cell_type": "markdown",
      "metadata": {
        "colab_type": "text",
        "id": "sExxbMPEw7VM"
      },
      "source": [
        "- - -\n",
        "- [Bisection Method](#Bisection-Method) \n",
        "    - [Steps](#Steps-BM)\n",
        "    - [Stop condition](#Stop-condition-BM)\n",
        "    - [Error analysis](#Error-analysis-BM)\n",
        "    - [Example 1](#Example-1)\n",
        "    - [Example 2](#Example-2)\n",
        "- [Fixed-point Iteration](./one-variable-equations-fixed-point.ipynb#Fixed-point-Iteration)\n",
        "    - [Steps](./one-variable-equations-fixed-point.ipynb#Steps-FP)\n",
        "    - [Example 3](./one-variable-equations-fixed-point.ipynb#Example-3)\n",
        "    - [Stop condition](./one-variable-equations-fixed-point.ipynb#Stop-condition-FP)\n",
        "    - [Example 4](./one-variable-equations-fixed-point.ipynb#Example-4)\n",
        "    - [Activity](./one-variable-equations-fixed-point.ipynb#ACTIVITY-FP)\n",
        "- [Newton-Raphson Method](./one-variable-equations-fixed-point.ipynb#Newton-Raphson-Method)\n",
        "    - [Derivation](./one-variable-equations-fixed-point.ipynb#Derivation-NM)\n",
        "    - [Steps](./one-variable-equations-fixed-point.ipynb#Steps-NM)\n",
        "    - [Example 5](./one-variable-equations-fixed-point.ipynb#Example-5)\n",
        "    - [Stop condition](./one-variable-equations-fixed-point.ipynb#Stop-condition-NM)\n",
        "    - [Convergence](./one-variable-equations-fixed-point.ipynb#Convergence-NM)\n",
        "- [Secant Method](./one-variable-equations-fixed-point.ipynb#Secant-Method)\n",
        "    - [Derivation](./one-variable-equations-fixed-point.ipynb#Derivation-SM)\n",
        "    - [Steps](./one-variable-equations-fixed-point.ipynb#Steps-SM)\n",
        "\n",
        "- - -"
      ]
    },
    {
      "cell_type": "code",
      "metadata": {
        "colab_type": "code",
        "id": "GD4z2RTZw7VN",
        "outputId": "ca1dbeed-b5c0-4d18-de9b-56e656466124",
        "colab": {
          "base_uri": "https://localhost:8080/",
          "height": 35
        }
      },
      "source": [
        "%pylab inline"
      ],
      "execution_count": 4,
      "outputs": [
        {
          "output_type": "stream",
          "text": [
            "Populating the interactive namespace from numpy and matplotlib\n"
          ],
          "name": "stdout"
        }
      ]
    },
    {
      "cell_type": "markdown",
      "metadata": {
        "colab_type": "text",
        "id": "FY0-QkUnw7VS"
      },
      "source": [
        "JSAnimation import available at https://github.com/jakevdp/JSAnimation"
      ]
    },
    {
      "cell_type": "code",
      "metadata": {
        "colab_type": "code",
        "id": "5rHmuj6mw7VT",
        "colab": {
          "base_uri": "https://localhost:8080/",
          "height": 338
        },
        "outputId": "3d7b6d03-1a90-40c7-e058-b0eb5fa3a114"
      },
      "source": [
        "from JSAnimation import IPython_display\n",
        "from matplotlib import animation"
      ],
      "execution_count": 5,
      "outputs": [
        {
          "output_type": "error",
          "ename": "ModuleNotFoundError",
          "evalue": "ignored",
          "traceback": [
            "\u001b[0;31m---------------------------------------------------------------------------\u001b[0m",
            "\u001b[0;31mModuleNotFoundError\u001b[0m                       Traceback (most recent call last)",
            "\u001b[0;32m<ipython-input-5-caa69ebdee60>\u001b[0m in \u001b[0;36m<module>\u001b[0;34m()\u001b[0m\n\u001b[0;32m----> 1\u001b[0;31m \u001b[0;32mfrom\u001b[0m \u001b[0mJSAnimation\u001b[0m \u001b[0;32mimport\u001b[0m \u001b[0mIPython_display\u001b[0m\u001b[0;34m\u001b[0m\u001b[0;34m\u001b[0m\u001b[0m\n\u001b[0m\u001b[1;32m      2\u001b[0m \u001b[0;32mfrom\u001b[0m \u001b[0mmatplotlib\u001b[0m \u001b[0;32mimport\u001b[0m \u001b[0manimation\u001b[0m\u001b[0;34m\u001b[0m\u001b[0;34m\u001b[0m\u001b[0m\n",
            "\u001b[0;31mModuleNotFoundError\u001b[0m: No module named 'JSAnimation'",
            "",
            "\u001b[0;31m---------------------------------------------------------------------------\u001b[0;32m\nNOTE: If your import is failing due to a missing package, you can\nmanually install dependencies using either !pip or !apt.\n\nTo view examples of installing some common dependencies, click the\n\"Open Examples\" button below.\n\u001b[0;31m---------------------------------------------------------------------------\u001b[0m\n"
          ]
        }
      ]
    },
    {
      "cell_type": "code",
      "metadata": {
        "colab_type": "code",
        "id": "zM--Q1_nw7VX",
        "colab": {}
      },
      "source": [
        "import numpy as np\n",
        "\n",
        "\n",
        "from scipy import integrate\n",
        "from scipy import optimize"
      ],
      "execution_count": 0,
      "outputs": []
    },
    {
      "cell_type": "markdown",
      "metadata": {
        "colab_type": "text",
        "id": "_45Zy-RWw7Vb"
      },
      "source": [
        "- - - "
      ]
    },
    {
      "cell_type": "markdown",
      "metadata": {
        "colab_type": "text",
        "id": "RNEo8n--w7Vc"
      },
      "source": [
        "# Bisection Method"
      ]
    },
    {
      "cell_type": "markdown",
      "metadata": {
        "colab_type": "text",
        "id": "2ZgAUxxyw7Vf"
      },
      "source": [
        "The Bisection method exploits the [intermediate value theorem](http://en.wikipedia.org/wiki/Intermediate_value_theorem), where a continuous and differentiable function $f$ must have a zero between an interval $[a,b]$ such that $f(a)f(b)<0$, or equivalently, there must be a value $p\\in[a,b]$ such that $f(p)=0$. Below the algorithmm is stated explicitly."
      ]
    },
    {
      "cell_type": "markdown",
      "metadata": {
        "colab_type": "text",
        "id": "tCrKSgUrw7Vh"
      },
      "source": [
        "## Steps BM"
      ]
    },
    {
      "cell_type": "markdown",
      "metadata": {
        "colab_type": "text",
        "id": "8uRIVSQOw7Vj"
      },
      "source": [
        "<div style=\"float: right;\" markdown=\"1\">\n",
        "    <img src=\"http://upload.wikimedia.org/wikipedia/commons/thumb/8/8c/Bisection_method.svg/300px-Bisection_method.svg.png\">\n",
        "</div>\n",
        "\n",
        "\n",
        "1. There must be selected two values $a$ and $b$ such that $f(a)f(b)<0$ and $p\\in[a,b]$ where $f(p)=0$. In other words, though we do not know the value of the root, we must know that there is at least one within the selected interval.\n",
        "\n",
        "2. To begin, it must be set $a_1=a$ and $b_1=b$.\n",
        "\n",
        "3. Calculate the mid-point $p_1$ as\n",
        "\n",
        "    $$p_1 = a_1 + \\frac{b_1-a_1}{2} = \\frac{a_1+b_1}{2}$$\n",
        "\n",
        "4. Evaluate the function in $p_1$, if the [stop condition](#Stop-Condition) is true, go to step 6.\n",
        "\n",
        "5. If the [stop condition](#Stop-Condition) is not satisfied, then:\n",
        "\n",
        "    1. If $f(p_1)f(a_1) > 0$, $p\\in(p_1,b_1)$. Then set $a_2=p_1$ and $b_2=b_1$\n",
        "\n",
        "    2. If $f(p_1)f(a_1) < 0$, $p\\in(a_1,p_1)$. Then set $a_2=a_1$ and $b_2=p_1$\n",
        "\n",
        "    3. Go to step 3 using $p_2$, $a_2$ and $b_2$ instead of $p_1$, $a_1$ and $b_1$. For next iterations the index increases until the [stop condition](#Stop-Condition) is reached.\n",
        "\n",
        "6. The End!"
      ]
    },
    {
      "cell_type": "markdown",
      "metadata": {
        "colab_type": "text",
        "id": "7uoUfZn9w7Vk"
      },
      "source": [
        "## Stop condition BM"
      ]
    },
    {
      "cell_type": "markdown",
      "metadata": {
        "colab_type": "text",
        "id": "qtHv5IGIw7Vl"
      },
      "source": [
        "There are several different stop conditions for this algorithm. The most used are stated below:\n",
        "\n",
        "* A fixed distance between the last two steps (absolute convergence):\n",
        "\n",
        "    $$|p_i - p_{i-1}|<\\epsilon$$\n",
        "\n",
        "* A fixed relative distance between the last two steps (relative convergence):\n",
        "\n",
        "    $$\\frac{|p_i - p_{i-1}|}{|p_i|}<\\epsilon\\ \\ \\ \\ \\ p_i \\neq 0$$\n",
        "\n",
        "* Function tolerance:\n",
        "\n",
        "    $$f(p_i)< \\epsilon$$\n",
        "\n",
        "All these conditions should lead to a desired convergence expressed by the $\\epsilon$ value. However, the first and the third conditions present some problems when the function has a derivative very large or close to $0$ as evaluated in the root value. When the function is very inclined, the first condition fails as a convergence in the $x$ axis does not guarantee a convergence in the $y$ axis, so the found root $p$ may be far from the real value. When the function is very flat ($dF/dx\\rightarrow 0$), the third condition fails due to an analogous reason.\n",
        "\n",
        "A final stop condition that does not have mathematical motivation yet computational is a maximum number of allowed iterations. This condition should be used not only for this algorithm but for all iteration-based numerical methods. This condition guarantees a finite computing time and prevents undesired infinite bucles.\n",
        "\n",
        "* If $N>N_{max}$, stop!"
      ]
    },
    {
      "cell_type": "markdown",
      "metadata": {
        "colab_type": "text",
        "id": "nBQBHO23w7Vm"
      },
      "source": [
        "## Error analysis BM"
      ]
    },
    {
      "cell_type": "markdown",
      "metadata": {
        "colab_type": "text",
        "id": "2u-a2qPOw7Vn"
      },
      "source": [
        "If we suppose $f\\in C[a,b]$ and $f(a)f(b)<0$, the Bisection method generates a sequence of numbers $\\left\\{p_i\\right\\}_{i=1}^\\infty$ approximating a root $p$ of $f$ as:\n",
        "\n",
        "$$|p_i-p|\\leq \\frac{b-a}{2^n},\\ \\ \\ \\ \\ i\\geq 1$$\n",
        "\n",
        "From this, we can conclude the convergence rate of the method is\n",
        "\n",
        "$$p_i = p + \\mathcal{O}\\left( \\frac{1}{2^i} \\right)$$\n",
        "\n",
        "This expression allows us to estimate the maximum number of required iterations for achieving a desired precision. The next figure sketches the number of iterations required for some precision."
      ]
    },
    {
      "cell_type": "code",
      "metadata": {
        "colab_type": "code",
        "id": "OsQu8x8Jw7Vo",
        "colab": {}
      },
      "source": [
        "import time"
      ],
      "execution_count": 0,
      "outputs": []
    },
    {
      "cell_type": "code",
      "metadata": {
        "colab_type": "code",
        "id": "NRO_1bQGw7Vt",
        "colab": {}
      },
      "source": [
        "x=np.arange( 1, 100)\n",
        "x[:3]"
      ],
      "execution_count": 0,
      "outputs": []
    },
    {
      "cell_type": "code",
      "metadata": {
        "colab_type": "code",
        "id": "Uf5JCpRuw7Vy",
        "colab": {}
      },
      "source": [
        "# plt.plot( x,y  ) # points joined with straight lines "
      ],
      "execution_count": 0,
      "outputs": []
    },
    {
      "cell_type": "code",
      "metadata": {
        "colab_type": "code",
        "id": "XuHIZQEVw7V1",
        "colab": {}
      },
      "source": [
        "y=np.exp2(-x)"
      ],
      "execution_count": 0,
      "outputs": []
    },
    {
      "cell_type": "code",
      "metadata": {
        "colab_type": "code",
        "id": "j02SkcI1w7V4",
        "colab": {}
      },
      "source": [
        "plt.plot(x,y)"
      ],
      "execution_count": 0,
      "outputs": []
    },
    {
      "cell_type": "code",
      "metadata": {
        "colab_type": "code",
        "id": "_Eye-yOJw7V7",
        "colab": {}
      },
      "source": [
        "s=time.time()\n",
        "#Array of iterations\n",
        "Niter = np.arange( 1, 100 )\n",
        "\n",
        "plt.figure( figsize=(6,6) )\n",
        "#plt.semilogy( Niter, 2.0**-Niter, color=\"green\", lw = 2 )\n",
        "plt.semilogy( Niter, np.exp2(-Niter), color=\"green\", lw = 2 )\n",
        "plt.grid(True)\n",
        "plt.xlabel(\"Number of Iterations\",size=15)\n",
        "plt.ylabel(\"Absolute Error $|p_n-p|$\",size=15)\n",
        "f=time.time()-s"
      ],
      "execution_count": 0,
      "outputs": []
    },
    {
      "cell_type": "markdown",
      "metadata": {
        "colab_type": "text",
        "id": "pd9PwTe1w7V-"
      },
      "source": [
        "## Example 1"
      ]
    },
    {
      "cell_type": "markdown",
      "metadata": {
        "colab_type": "text",
        "id": "vlEpT9Sjw7V_"
      },
      "source": [
        "Find the root of the function $f$\n",
        "\n",
        "$f(x) = x^3 - 2$\n",
        "\n",
        "for $20$ iterations, show the result and the relative error in each iteration."
      ]
    },
    {
      "cell_type": "code",
      "metadata": {
        "colab_type": "code",
        "id": "GpdA20yow7WB",
        "colab": {}
      },
      "source": [
        "#Defining Bisection function\n",
        "def Bisection( f, a, b, Nmax, printer=False ):\n",
        "    \"\"\"\n",
        "    Find the root of function f between a and b\n",
        "    \n",
        "    f: function\n",
        "    a,b: the initial interval\n",
        "    Nmax: Nmax de interations\n",
        "    printer: bool, to print internal steps\n",
        "    \"\"\"\n",
        "    #verifying the STEP1, a and b with different signs\n",
        "    import sys\n",
        "    if f(a)*f(b)>0:\n",
        "        sys.exit(\"Error, f(a) and f(b) should have opposite signs\")\n",
        "        return False\n",
        "    #Assigning the current extreme values, STEP2\n",
        "    ai = a\n",
        "    bi = b\n",
        "    #Iterations\n",
        "    n = 1\n",
        "    while n<=Nmax:\n",
        "        #Bisection, STEP3\n",
        "        pi = (ai+bi)/2.0\n",
        "        #Evaluating function in pi, STEP4 and STEP5\n",
        "        if printer:\n",
        "            print( \"Value for {} iterations: {}\".format(n,pi) )\n",
        "        #Condition A\n",
        "        if f(pi)*f(ai)>0:\n",
        "            ai = pi\n",
        "        #Condition B\n",
        "        elif f(pi)*f(ai)<0:\n",
        "            bi = pi\n",
        "        #Condition C: repeat the cycle\n",
        "        n+=1\n",
        "    #Final result\n",
        "    return pi"
      ],
      "execution_count": 0,
      "outputs": []
    },
    {
      "cell_type": "code",
      "metadata": {
        "colab_type": "code",
        "id": "qEJf2IVuw7WG",
        "colab": {}
      },
      "source": [
        "Bisection?"
      ],
      "execution_count": 0,
      "outputs": []
    },
    {
      "cell_type": "markdown",
      "metadata": {
        "colab_type": "text",
        "id": "Z1XWelBgw7WJ"
      },
      "source": [
        "Defining function"
      ]
    },
    {
      "cell_type": "code",
      "metadata": {
        "colab_type": "code",
        "id": "0Vd7ahTbw7WK",
        "colab": {}
      },
      "source": [
        "def function(x):\n",
        "    return x**3.0 - 2.0"
      ],
      "execution_count": 0,
      "outputs": []
    },
    {
      "cell_type": "markdown",
      "metadata": {
        "colab_type": "text",
        "id": "Cy9OT7XDw7WN"
      },
      "source": [
        "Finding the root of the function. The real root is $\\sqrt[3]{2}$, so `a` and `b` should enclose this value"
      ]
    },
    {
      "cell_type": "code",
      "metadata": {
        "colab_type": "code",
        "id": "pvl1fZSKw7WO",
        "colab": {}
      },
      "source": [
        "#Defining a and b\n",
        "a = 0.0\n",
        "b = 2.0\n",
        "Nmax = 20\n",
        "result = Bisection(function, a, b, Nmax, printer=True)\n",
        "print ( \"Real value:\", 2**(1/3.0))\n",
        "print ( \"Absolute error\", abs((2**(1/3.0)-result)) )"
      ],
      "execution_count": 0,
      "outputs": []
    },
    {
      "cell_type": "markdown",
      "metadata": {
        "colab_type": "text",
        "id": "CmP1u-lPw7WQ"
      },
      "source": [
        "Using the error analysis, we can predict the produced error at $20$ iterations by computing:\n",
        "\n",
        "$$ \\left( \\frac{1}{2^{20}}\\right) \\approx 9.53674316\\times 10^{-7} $$\n",
        "\n",
        "This value is very close to the obtained relative error.\n",
        "\n",
        "If we were interested in a double precision, i.e. $\\epsilon \\sim 10^{-17}$, the number of required iterations would be:\n",
        "\n",
        "$$ 10^{-17} = \\left( \\frac{1}{2^{N}}\\right) \\longrightarrow N = \\frac{17}{\\log_{10}(2)} \\approx 56 $$"
      ]
    },
    {
      "cell_type": "markdown",
      "metadata": {
        "colab_type": "text",
        "id": "p2lZUHGSw7WR"
      },
      "source": [
        "Now the same but using scipy implementation"
      ]
    },
    {
      "cell_type": "code",
      "metadata": {
        "colab_type": "code",
        "id": "LKwXO9vfw7WS",
        "colab": {}
      },
      "source": [
        "from scipy import optimize"
      ],
      "execution_count": 0,
      "outputs": []
    },
    {
      "cell_type": "markdown",
      "metadata": {
        "colab_type": "text",
        "id": "x92AU0K6w7WV"
      },
      "source": [
        "Instead of optimize?:"
      ]
    },
    {
      "cell_type": "code",
      "metadata": {
        "colab_type": "code",
        "id": "i8AmYwH0w7WW",
        "jupyter": {
          "outputs_hidden": true,
          "source_hidden": true
        },
        "colab": {}
      },
      "source": [
        "# help(optimize)"
      ],
      "execution_count": 0,
      "outputs": []
    },
    {
      "cell_type": "markdown",
      "metadata": {
        "colab_type": "text",
        "id": "VqmyDCFIw7Wa"
      },
      "source": [
        "Check the help:"
      ]
    },
    {
      "cell_type": "code",
      "metadata": {
        "colab_type": "code",
        "id": "1q3FdDj2ynV6",
        "colab": {}
      },
      "source": [
        "# optimize.bisect?"
      ],
      "execution_count": 0,
      "outputs": []
    },
    {
      "cell_type": "markdown",
      "metadata": {
        "colab_type": "text",
        "id": "yC9nyRCwGJaw"
      },
      "source": [
        "## General arguments and options of a SciPy function"
      ]
    },
    {
      "cell_type": "markdown",
      "metadata": {
        "colab_type": "text",
        "id": "B-D9tsnEGTHD"
      },
      "source": [
        "* `f`"
      ]
    },
    {
      "cell_type": "code",
      "metadata": {
        "colab_type": "code",
        "id": "3Jxl8Cyx4J32",
        "colab": {}
      },
      "source": [
        "def f(x,m=3,b=-2):\n",
        "    return m*x+b"
      ],
      "execution_count": 0,
      "outputs": []
    },
    {
      "cell_type": "code",
      "metadata": {
        "colab_type": "code",
        "id": "WrYXrulI44Ij",
        "colab": {}
      },
      "source": [
        "f(0.66666666666666666,-3,2)"
      ],
      "execution_count": 0,
      "outputs": []
    },
    {
      "cell_type": "code",
      "metadata": {
        "colab_type": "code",
        "id": "R6ihC-WN4ZUR",
        "colab": {}
      },
      "source": [
        "optimize.bisect(lambda x: -3*x+2,-10,10)"
      ],
      "execution_count": 0,
      "outputs": []
    },
    {
      "cell_type": "code",
      "metadata": {
        "colab_type": "code",
        "id": "iZHq9BrU4xFh",
        "colab": {}
      },
      "source": [
        "optimize.bisect(lambda x: f(x,-3,2),-10,10,)"
      ],
      "execution_count": 0,
      "outputs": []
    },
    {
      "cell_type": "code",
      "metadata": {
        "colab_type": "code",
        "id": "ojivSEZh5YLx",
        "colab": {}
      },
      "source": [
        "optimize.bisect(f,-10,10,args=(-3,2))"
      ],
      "execution_count": 0,
      "outputs": []
    },
    {
      "cell_type": "markdown",
      "metadata": {
        "colab_type": "text",
        "id": "7wLEoVWK8FqU"
      },
      "source": [
        "* `xtol`"
      ]
    },
    {
      "cell_type": "code",
      "metadata": {
        "colab_type": "code",
        "id": "1UyHY0m76fIk",
        "colab": {}
      },
      "source": [
        "optimize.bisect(f,-10,10,args=(-3,2),xtol=1E-17)"
      ],
      "execution_count": 0,
      "outputs": []
    },
    {
      "cell_type": "markdown",
      "metadata": {
        "colab_type": "text",
        "id": "yjQIGQ5fGpIU"
      },
      "source": [
        "* `maxiter`"
      ]
    },
    {
      "cell_type": "code",
      "metadata": {
        "colab_type": "code",
        "id": "xyyTsH7L7R-E",
        "colab": {}
      },
      "source": [
        "optimize.bisect(f,-10,10,args=(-3,2),xtol=1E-17,maxiter=10000)"
      ],
      "execution_count": 0,
      "outputs": []
    },
    {
      "cell_type": "markdown",
      "metadata": {
        "colab_type": "text",
        "id": "FiXdFcKEGuIU"
      },
      "source": [
        "* `full_output`"
      ]
    },
    {
      "cell_type": "code",
      "metadata": {
        "colab_type": "code",
        "id": "tQnA1hbu7vYE",
        "colab": {}
      },
      "source": [
        "x0,r=optimize.bisect(f,-10,10,args=(-3,2),xtol=1E-17,full_output=True)"
      ],
      "execution_count": 0,
      "outputs": []
    },
    {
      "cell_type": "code",
      "metadata": {
        "colab_type": "code",
        "id": "YIE2XkN68Bfg",
        "colab": {}
      },
      "source": [
        "type(r)"
      ],
      "execution_count": 0,
      "outputs": []
    },
    {
      "cell_type": "markdown",
      "metadata": {
        "colab_type": "text",
        "id": "QmSG5wGKw7We"
      },
      "source": [
        "Check the code"
      ]
    },
    {
      "cell_type": "code",
      "metadata": {
        "colab_type": "code",
        "id": "jBi0uZeE8NGk",
        "colab": {}
      },
      "source": [
        "r.function_calls"
      ],
      "execution_count": 0,
      "outputs": []
    },
    {
      "cell_type": "code",
      "metadata": {
        "colab_type": "code",
        "id": "csnji5Tsw7Wf",
        "colab": {}
      },
      "source": [
        "optimize.bisect??"
      ],
      "execution_count": 0,
      "outputs": []
    },
    {
      "cell_type": "markdown",
      "metadata": {
        "colab_type": "text",
        "id": "6_7lOL6Ww7Wj"
      },
      "source": [
        "Check the internal referenced code"
      ]
    },
    {
      "cell_type": "code",
      "metadata": {
        "colab_type": "code",
        "id": "Qh9fqUvgw7Wk",
        "colab": {}
      },
      "source": [
        "optimize._zeros??"
      ],
      "execution_count": 0,
      "outputs": []
    },
    {
      "cell_type": "markdown",
      "metadata": {
        "colab_type": "text",
        "id": "IJIfqraOG_fz"
      },
      "source": [
        "### Example\n",
        "Find the roots of\n",
        "$$x^3=2$$"
      ]
    },
    {
      "cell_type": "code",
      "metadata": {
        "colab_type": "code",
        "id": "O1E6o0IRw7Wo",
        "colab": {}
      },
      "source": [
        "def function(x):\n",
        "    return x**3.0 - 2.0"
      ],
      "execution_count": 0,
      "outputs": []
    },
    {
      "cell_type": "code",
      "metadata": {
        "colab_type": "code",
        "id": "kABWCrNcw7Wq",
        "colab": {}
      },
      "source": [
        "a = 0.0\n",
        "b = 2.0\n",
        "\n",
        "result,r=optimize.bisect(function,a,b,full_output=True)"
      ],
      "execution_count": 0,
      "outputs": []
    },
    {
      "cell_type": "code",
      "metadata": {
        "colab_type": "code",
        "id": "nlxlkNYyw7Wt",
        "colab": {}
      },
      "source": [
        "result"
      ],
      "execution_count": 0,
      "outputs": []
    },
    {
      "cell_type": "code",
      "metadata": {
        "colab_type": "code",
        "id": "L3HyS2OGw7Wv",
        "colab": {}
      },
      "source": [
        "2**(1/3.0)"
      ],
      "execution_count": 0,
      "outputs": []
    },
    {
      "cell_type": "markdown",
      "metadata": {
        "colab_type": "text",
        "id": "TKlBRLXUw7Wy"
      },
      "source": [
        "Check `r` object by using the `<TAB>` key next"
      ]
    },
    {
      "cell_type": "code",
      "metadata": {
        "colab_type": "code",
        "id": "TkfTsXumw7Wz",
        "colab": {}
      },
      "source": [
        "r.iterations"
      ],
      "execution_count": 0,
      "outputs": []
    },
    {
      "cell_type": "code",
      "metadata": {
        "colab_type": "code",
        "id": "HpBNHlWDw7W3",
        "colab": {}
      },
      "source": [
        "2**(-r.iterations)"
      ],
      "execution_count": 0,
      "outputs": []
    },
    {
      "cell_type": "code",
      "metadata": {
        "colab_type": "code",
        "id": "tvkJ0Jy5w7W6",
        "colab": {}
      },
      "source": [
        "abs((2**(1/3.0)-result))"
      ],
      "execution_count": 0,
      "outputs": []
    },
    {
      "cell_type": "code",
      "metadata": {
        "colab_type": "code",
        "id": "4m6VCcpiw7W8",
        "colab": {}
      },
      "source": [
        "r.converged"
      ],
      "execution_count": 0,
      "outputs": []
    },
    {
      "cell_type": "code",
      "metadata": {
        "colab_type": "code",
        "id": "7bp9qun4w7W_",
        "colab": {}
      },
      "source": [
        "result,r=optimize.bisect(function,a,b,xtol=1E-17,full_output=True)"
      ],
      "execution_count": 0,
      "outputs": []
    },
    {
      "cell_type": "code",
      "metadata": {
        "colab_type": "code",
        "id": "kmUCIBwlw7XB",
        "colab": {}
      },
      "source": [
        "r.iterations"
      ],
      "execution_count": 0,
      "outputs": []
    },
    {
      "cell_type": "code",
      "metadata": {
        "colab_type": "code",
        "id": "zQTyAChgw7XE",
        "colab": {}
      },
      "source": [
        "abs((2**(1/3.0)-result))"
      ],
      "execution_count": 0,
      "outputs": []
    },
    {
      "cell_type": "code",
      "metadata": {
        "colab_type": "code",
        "id": "eXvvDw-4EZr-",
        "colab": {}
      },
      "source": [
        "2**(-r.iterations)"
      ],
      "execution_count": 0,
      "outputs": []
    },
    {
      "cell_type": "markdown",
      "metadata": {
        "colab_type": "text",
        "id": "Mf8r3RfJw7XG"
      },
      "source": [
        "### <font color='red'> ACTIVITY </font>"
      ]
    },
    {
      "cell_type": "markdown",
      "metadata": {
        "colab_type": "text",
        "id": "gDKsdwSZw7XH"
      },
      "source": [
        "<font color='red'>\n",
        "In an IPython notebook, use the scipy implementation and find the first solution to the equation\n",
        "    \n",
        "$ 7 = \\sqrt{x^2+1}+e^x\\sin x $\n",
        "    \n",
        "CLUE: Check graphically (with matplotlib) that the solution is within the interval $[0,2]$.\n",
        "</font>"
      ]
    },
    {
      "cell_type": "code",
      "metadata": {
        "colab_type": "code",
        "id": "VSpNg5PIillI",
        "outputId": "273b9af0-5e04-48d9-c4ee-701a66b93549",
        "colab": {
          "base_uri": "https://localhost:8080/",
          "height": 283
        }
      },
      "source": [
        "import numpy as np\n",
        "import matplotlib.pyplot as plt\n",
        "from scipy import optimize\n",
        "\n",
        "a = 0\n",
        "b = 2\n",
        "\n",
        "def f(x):\n",
        "  return np.sqrt(x**2 + 1) + np.exp(x)*np.sin(x) - 7\n",
        "\n",
        "x = np.linspace(-3, 3, num=50)\n",
        "y = f(x)\n",
        "\n",
        "plt.plot(x, y)\n",
        "plt.grid()\n",
        "plt.show()\n",
        "  "
      ],
      "execution_count": 7,
      "outputs": [
        {
          "output_type": "display_data",
          "data": {
            "image/png": "[encoded data removed]",
            "text/plain": [
              "<Figure size 432x288 with 1 Axes>"
            ]
          },
          "metadata": {
            "tags": [],
            "needs_background": "light"
          }
        },
        {
          "output_type": "execute_result",
          "data": {
            "text/plain": [
              "1.628718494926943"
            ]
          },
          "metadata": {
            "tags": []
          },
          "execution_count": 7
        }
      ]
    },
    {
      "cell_type": "code",
      "metadata": {
        "id": "62zxIUTcQqVE",
        "colab_type": "code",
        "colab": {
          "base_uri": "https://localhost:8080/",
          "height": 35
        },
        "outputId": "4e7830e6-9356-4de1-834c-d4173988c87d"
      },
      "source": [
        "x0 = optimize.bisect(f, a, b)\n",
        "\n",
        "x0"
      ],
      "execution_count": 8,
      "outputs": [
        {
          "output_type": "execute_result",
          "data": {
            "text/plain": [
              "1.628718494926943"
            ]
          },
          "metadata": {
            "tags": []
          },
          "execution_count": 8
        }
      ]
    },
    {
      "cell_type": "markdown",
      "metadata": {
        "colab_type": "text",
        "id": "3Sr162oVw7XI"
      },
      "source": [
        "[solution](./solutions/sltn_bisect.ipynb)"
      ]
    },
    {
      "cell_type": "code",
      "metadata": {
        "colab_type": "code",
        "id": "e5at_XXzHSlk",
        "colab": {}
      },
      "source": [
        "a,b,c=(2,3,4)"
      ],
      "execution_count": 0,
      "outputs": []
    },
    {
      "cell_type": "code",
      "metadata": {
        "colab_type": "code",
        "id": "geD3ecfDHXFE",
        "colab": {}
      },
      "source": [
        "c"
      ],
      "execution_count": 0,
      "outputs": []
    },
    {
      "cell_type": "code",
      "metadata": {
        "colab_type": "code",
        "id": "zrY4Rc19E_zC",
        "colab": {}
      },
      "source": [
        "import numpy as np"
      ],
      "execution_count": 0,
      "outputs": []
    },
    {
      "cell_type": "code",
      "metadata": {
        "colab_type": "code",
        "id": "SZhTQgvLFDmg",
        "colab": {}
      },
      "source": [
        "# Solo usar para constante\n",
        "np.e"
      ],
      "execution_count": 0,
      "outputs": []
    },
    {
      "cell_type": "code",
      "metadata": {
        "colab_type": "code",
        "id": "ela6ZuPcFGPQ",
        "colab": {}
      },
      "source": [
        "np.exp(1)"
      ],
      "execution_count": 0,
      "outputs": []
    },
    {
      "cell_type": "markdown",
      "metadata": {
        "colab_type": "text",
        "id": "hBSyBUNrw7XJ"
      },
      "source": [
        "## Example 2"
      ]
    },
    {
      "cell_type": "markdown",
      "metadata": {
        "colab_type": "text",
        "id": "qpIK0RxFw7XK"
      },
      "source": [
        "In orbital mechanics, when solving the central-force problem it becomes necessary to solve the Kepler's equation. This is a transcendental equation that relates the orbital parameters of the trajectory.\n",
        "\n",
        "*Kepler equation:* $M = E - \\epsilon \\sin E$\n",
        "\n",
        "where $M$ is the mean anomaly, $E$ the eccentric anomaly and $\\epsilon$ the eccentricity. The mean anomaly can be computed with the expression\n",
        "\n",
        "$$M = n\\ t = \\sqrt{ \\frac{GM}{a^3} } t$$\n",
        "\n",
        "where $n$ is the mean motion, $G$ the gravitational constant, $M$ the mass of the central body and $a$ the semi-major axis. $t$ is the time where the position in the trajectory will be computed.\n",
        "\n",
        "The coordinates $x$ and $y$ as time functions can be recovered by means of the next expressions\n",
        "\n",
        "$$x(t) = a(\\cos E - \\epsilon)$$\n",
        "\n",
        "$$y(t) = b\\sin E$$\n",
        "\n",
        "where $b = a \\sqrt{1-\\epsilon^2}$ is the semi-minor axis of the orbit and the implicit time-dependence of the eccentric anomaly $E$ is computed through the Kepler's equation."
      ]
    },
    {
      "cell_type": "markdown",
      "metadata": {
        "colab_type": "text",
        "id": "FlKupbitw7XL"
      },
      "source": [
        "**Problem:**\n",
        "\n",
        "For a stallite orbiting the earth in a equatorial trajectory with eccentricity $\\epsilon = 0.5$ at a geostationary distance for the semi-major axis, tabulate the positions $x$ and $y$ within the orbital plane in intervals of $15$ min during $5$ hours.\n",
        "\n",
        "**Parameters:**\n",
        "\n",
        "- $\\epsilon = 0.5$\n",
        "\n",
        "- $a = 35900$ km\n",
        "\n",
        "- $G = 6.67384 \\times 10^{-11}$ m$^3$ kg$^{-1}$ s$^{-2}$\n",
        "\n",
        "- $M_{\\oplus} = 5.972\\times 10^{24}$ kg"
      ]
    },
    {
      "cell_type": "code",
      "metadata": {
        "colab_type": "code",
        "id": "URwGARM5w7XL",
        "colab": {}
      },
      "source": [
        "#====================================================================\n",
        "#Parameters\n",
        "#====================================================================\n",
        "#Eccentricity\n",
        "eps = 0.5\n",
        "#Semi-major axis    [m]\n",
        "a = 35900e3\n",
        "#Gravitational constant    [m3kg-1s-2]\n",
        "GC = 6.67384e-11\n",
        "#Earth mass    [kg]\n",
        "Me = 5.972e24\n",
        "\n",
        "#Semi-minor axis    [m]\n",
        "b = a*(1-eps**2.0)**0.5\n",
        "#Mean motion\n",
        "n = ( GC*Me/a**3.0 )**0.5\n",
        "\n",
        "#Hour to Second\n",
        "HR2SC = 3600.\n",
        "#Initial time    [hr]\n",
        "t0 = 0*HR2SC\n",
        "#Final time    [hr]\n",
        "tf = 5*HR2SC\n",
        "#Time step    [hr]\n",
        "tstep = 0.25*HR2SC\n",
        "#Number of maxim iterations\n",
        "Niter = 56\n",
        "#Root interval\n",
        "a0 = -10\n",
        "b0 = 10\n",
        "\n",
        "#====================================================================\n",
        "#Kepler Function\n",
        "#====================================================================\n",
        "def kepler( E ):\n",
        "    func = E - eps*np.sin(E) - n*t\n",
        "    return func\n",
        "\n",
        "#====================================================================\n",
        "#Position function\n",
        "#====================================================================\n",
        "def r(E):\n",
        "    x = a*(np.cos(E)-eps)\n",
        "    y = b*np.sin(E)\n",
        "    return [x/1.e3, y/1.e3]"
      ],
      "execution_count": 0,
      "outputs": []
    },
    {
      "cell_type": "code",
      "metadata": {
        "colab_type": "code",
        "id": "z4PZbsmIw7XQ",
        "colab": {}
      },
      "source": [
        "#====================================================================\n",
        "#Solving for different times\n",
        "#====================================================================\n",
        "#Time array\n",
        "times = np.arange( t0, tf, tstep )\n",
        "\n",
        "rpos = []\n",
        "for t in times:\n",
        "    #Finding the new eccentric anomaly\n",
        "    E = optimize.bisect( kepler, a0, b0 )\n",
        "    #Computing coordinates at this time\n",
        "    ri = r(E)\n",
        "    print \"In %f hours, the satellite is located at (%f,%f) km\"%(t/HR2SC, ri[0], ri[1])\n",
        "    rpos.append( ri )\n",
        "rpos = np.array(rpos)    \n",
        "\n",
        "#Plotting\n",
        "plt.plot( rpos[:,0], rpos[:,1], \"o-\", color=\"red\", lw = 2 )\n",
        "plt.grid(True)\n",
        "plt.xlabel(\"$x$ coordinate [km]\")\n",
        "plt.ylabel(\"$y$ coordinate [km]\")"
      ],
      "execution_count": 0,
      "outputs": []
    },
    {
      "cell_type": "markdown",
      "metadata": {
        "colab_type": "text",
        "id": "RJlKLGjww7XU"
      },
      "source": [
        "- - - "
      ]
    }
  ]
}
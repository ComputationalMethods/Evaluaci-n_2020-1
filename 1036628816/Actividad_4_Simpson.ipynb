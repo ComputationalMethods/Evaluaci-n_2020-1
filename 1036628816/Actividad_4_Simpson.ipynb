{
  "nbformat": 4,
  "nbformat_minor": 0,
  "metadata": {
    "colab": {
      "name": "Actividad 4_Simpson.ipynb",
      "provenance": [],
      "collapsed_sections": []
    },
    "kernelspec": {
      "name": "python3",
      "display_name": "Python 3"
    }
  },
  "cells": [
    {
      "cell_type": "code",
      "metadata": {
        "id": "qPMzLClqWXb6",
        "colab_type": "code",
        "colab": {}
      },
      "source": [
        "import scipy as sp\n",
        "import numpy as np\n",
        "from scipy import interpolate\n",
        "import scipy.integrate as integrate"
      ],
      "execution_count": 0,
      "outputs": []
    },
    {
      "cell_type": "code",
      "metadata": {
        "id": "dlopf8EXuesu",
        "colab_type": "code",
        "colab": {}
      },
      "source": [
        "def f(x):\n",
        "    return 1+np.cos(x)**2+x"
      ],
      "execution_count": 0,
      "outputs": []
    },
    {
      "cell_type": "code",
      "metadata": {
        "id": "iWwPGJPGXS-u",
        "colab_type": "code",
        "colab": {}
      },
      "source": [
        "X=np.linspace(-0.5,1.5,100)\n",
        "Y=f(X)\n",
        "def Quadrature(Y,X):\n",
        "  if len(X)>=3:    \n",
        "      sum = 0\n",
        "      for i in range(0,len(X),2):\n",
        "\n",
        "          x_ = X[i:i+3]\n",
        "          y_ = Y[i:i+3]\n",
        "          if len(x_)> 1:\n",
        "            l = interpolate.lagrange(x_,y_).integ()\n",
        "            sum = sum + l(x_[-1])-l(x_[0])\n",
        "  \n",
        "  elif len(X)==2:\n",
        "    \n",
        "    x_=[X[0],(X[0]+X[1])/2,X[1]]\n",
        "    y_=f(x_)\n",
        "    \n",
        "    l = interpolate.lagrange(x_,y_).integ()\n",
        "    sum = l(x_[-1])-l(x_[0])\n",
        "  else:\n",
        "    sum = 'Datos Insuficientes'\n",
        "  \n",
        "  return sum"
      ],
      "execution_count": 0,
      "outputs": []
    },
    {
      "cell_type": "code",
      "metadata": {
        "id": "w9tk-tzswXXl",
        "colab_type": "code",
        "colab": {
          "base_uri": "https://localhost:8080/",
          "height": 35
        },
        "outputId": "010b16a0-61dc-431b-b779-84439d5d7142"
      },
      "source": [
        "Quadrature(Y,X),integrate.simps(Y,X)"
      ],
      "execution_count": 95,
      "outputs": [
        {
          "output_type": "execute_result",
          "data": {
            "text/plain": [
              "(4.245649108147337, 4.24564804714414)"
            ]
          },
          "metadata": {
            "tags": []
          },
          "execution_count": 95
        }
      ]
    }
  ]
}
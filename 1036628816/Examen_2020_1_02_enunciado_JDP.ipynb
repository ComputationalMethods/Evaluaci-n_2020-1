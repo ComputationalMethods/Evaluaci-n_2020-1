{
  "nbformat": 4,
  "nbformat_minor": 0,
  "metadata": {
    "kernelspec": {
      "display_name": "Python 3",
      "language": "python",
      "name": "python3"
    },
    "language_info": {
      "codemirror_mode": {
        "name": "ipython",
        "version": 3
      },
      "file_extension": ".py",
      "mimetype": "text/x-python",
      "name": "python",
      "nbconvert_exporter": "python",
      "pygments_lexer": "ipython3",
      "version": "3.5.3"
    },
    "toc": {
      "colors": {
        "hover_highlight": "#DAA520",
        "running_highlight": "#FF0000",
        "selected_highlight": "#FFD700"
      },
      "moveMenuLeft": true,
      "nav_menu": {
        "height": "12px",
        "width": "252px"
      },
      "navigate_menu": true,
      "number_sections": true,
      "sideBar": true,
      "threshold": 4,
      "toc_cell": false,
      "toc_section_display": "block",
      "toc_window_display": false
    },
    "colab": {
      "name": "Examen_2020_1_02_enunciado JDP.ipynb",
      "provenance": [],
      "collapsed_sections": []
    }
  },
  "cells": [
    {
      "cell_type": "markdown",
      "metadata": {
        "id": "L6k7LbkiM2vm",
        "colab_type": "text"
      },
      "source": [
        "# Segundo examen\n",
        "\n",
        "<div style=\"float: right;\" markdown=\"1\">\n",
        "    <img src=\"https://github.com/restrepo/ComputationalMethods/raw/master/material/figures/leastaction_pendulum.svg?sanitize=true\">\n",
        "</div>\n",
        "Un observador mirando el movimiento de un péndulo simple con una masa en el extremo de $0.2\\ \\text{Kg}$ y una longitud  $l=1\\ \\text{m}$, activa un cronómetro cuando el péndulo, oscilando de izquierda a derecha, se encuentra en su posición vertical. El observador detiene el cronómetro después de un tiempo de $t_f=0.5026\\ \\text{s}$, justo cuando el péndulo alcanza su máxima altura formando un ángulo de $\\theta_0=10^\\circ$ con respecto a la vertical. Por lo tanto $t_f=T/4$, donde , donde $T$ es el período de la oscilación del péndulo simple.\n",
        "\n",
        "1. Minimizando la Acción del péndulo simple, la cual será explicada a continuación,  encuentre la trayectoria angular que describe el extremo del péndulo durante el tiempo de observación: en el plano del ángulo barrido en radianes en función del tiempo esquematizado en la figura. \n",
        "2. Grafique dicha trayectoria en plano $\\theta(t)$ vs $t$ y compare con la superposición del gráfico de la ecuación de movimiento $\\theta(t)=\\theta_0 \\sin(\\omega t)$, donde $\\omega$ es la frecuencia angular de la oscilación del péndulo simple, dada por $\\omega=2\\pi/T$.\n",
        "3. Compruebe que la trayectoría que minimiza la Acción también conserva la energía total: $E=K+V$, donde $K$ es la energía cinética del péndulo y $V$ es su energía potencial.\n",
        "\n",
        "## Acción para un péndulo simple\n",
        "\n",
        "<div style=\"float: right;\" markdown=\"1\">\n",
        "    <img src=\"https://github.com/restrepo/ComputationalMethods/raw/master/material/figures/pendulum.png\">\n",
        "</div>\n",
        "Vamos a tomar como origen del sistema de referencia el extremo inferior del péndulo en su posición vertical. Por lo tanto, la altura del extremo inferior del péndulo a un ángulo $\\theta$ com se muestra en la figura, es\n",
        "$$\n",
        "y=l-l\\cos\\theta=l(1-\\cos\\theta)\\,.\n",
        "$$\n",
        "Entonces\n",
        "\n",
        "* Energía potencial\n",
        "$$\n",
        "V=mgy=mgl(1-\\cos\\theta).\n",
        "$$\n",
        "* Como la velocidad de la masa es $v=l\\dot\\theta$, tenemos que la energía cinética es\n",
        "$$\n",
        "K=\\frac{1}{2}m v^2=\\frac{1}{2}ml^2\\dot\\theta^2\\,,\n",
        "$$\n",
        "donde $\\dot\\theta=d\\theta/dt\\,.$. \n",
        "\n",
        "La Lagrangiana, en función de las coordenadas generalizadas $\\theta$ y $\\dot\\theta$ es\n",
        "$$\n",
        "L=K-V=\\frac{1}{2}ml^2\\dot\\theta^2-mgl(1-\\cos\\theta)\\,,\n",
        "$$\n",
        "y, finalmente, la Acción a minimizar para encontrar la trayectoria física $\\theta(t)$, es\n",
        "$$\n",
        "S=\\int_0^{t_f} L\\,\\operatorname{d}t\\,.\n",
        "$$\n",
        "\n",
        "Para los detalles ver: http://www.aoengr.com/Dynamics/LagrangianMechanicsPendulum.pdf"
      ]
    },
    {
      "cell_type": "code",
      "metadata": {
        "id": "32E6-MNMTQDw",
        "colab_type": "code",
        "colab": {}
      },
      "source": [
        "import numpy as np\n",
        "import scipy.optimize \n",
        "import pandas as pd\n",
        "import scipy.optimize as optimize\n",
        "import matplotlib.pyplot as plt"
      ],
      "execution_count": 0,
      "outputs": []
    },
    {
      "cell_type": "code",
      "metadata": {
        "id": "Vx9t03bmOT3M",
        "colab_type": "code",
        "colab": {}
      },
      "source": [
        "#los ángulos inicial (xini) y final (xend) se deben ingresar en radianes\n",
        "theta_cero = 10\n",
        "final_angle = theta_cero * np.pi/180\n",
        "\n",
        "def S(x,tend=0.5026,m=0.2,xini=0.,xend= final_angle,g=9.8):\n",
        "    x=np.asarray(x)\n",
        "    t=float(tend)\n",
        "    Dt=t/x[:-1].size\n",
        "    x[0]=xini\n",
        "    x[-1]=xend\n",
        "    return ((0.5*m*(x[1:]-x[:-1])**2/Dt**2-m*g*(1-np.cos(0.5*(x[1:]+x[:-1]))))*Dt).sum()"
      ],
      "execution_count": 0,
      "outputs": []
    },
    {
      "cell_type": "code",
      "metadata": {
        "id": "Ao3pODFDN3a1",
        "colab_type": "code",
        "colab": {}
      },
      "source": [
        "#Ingresar ángulo final en radianes\n",
        "\n",
        "def theta_fit(n,t=0.5026,m=0.2,xini=0.,xend=final_angle,ftol=1E-8):\n",
        "    \n",
        "    #xini=xini*np.pi/180\n",
        "    #xend=xend*np.pi/180\n",
        "\n",
        "    t=float(t)\n",
        "    if n%2==0:\n",
        "        print ('x debe contener un número impar de elementos')\n",
        "        sys.exit  \n",
        "  \n",
        "    x0=np.zeros(n)\n",
        "    a=optimize.fmin_powell(S,x0,args=(t,m,xini,xend),ftol=ftol,full_output=1)\n",
        "    x=a[0]\n",
        "    x[0]=xini;x[-1]=xend\n",
        "    xmax=np.sort(x)[-1]\n",
        "    Smin=a[1]\n",
        "    Dt=t/x[:-1].size \n",
        "    return x,xmax,Smin,Dt"
      ],
      "execution_count": 0,
      "outputs": []
    },
    {
      "cell_type": "code",
      "metadata": {
        "id": "UiXR3r2nOTLg",
        "colab_type": "code",
        "colab": {
          "base_uri": "https://localhost:8080/",
          "height": 87
        },
        "outputId": "a0a7b572-c775-4bf2-c698-4784ceb5de79"
      },
      "source": [
        "t=0.5026\n",
        "m=0.2\n",
        "y=theta_fit(11,t,m)\n",
        "theta = y[0]\n",
        "theta_max=y[1]\n",
        "Smin=y[2]\n",
        "Dt=y[3]\n",
        "t_theta=np.arange(0,t+Dt,Dt)"
      ],
      "execution_count": 73,
      "outputs": [
        {
          "output_type": "stream",
          "text": [
            "Optimization terminated successfully.\n",
            "         Current function value: 0.000020\n",
            "         Iterations: 19\n",
            "         Function evaluations: 2612\n"
          ],
          "name": "stdout"
        }
      ]
    },
    {
      "cell_type": "code",
      "metadata": {
        "id": "lKOmqIuEYOXu",
        "colab_type": "code",
        "colab": {
          "base_uri": "https://localhost:8080/",
          "height": 313
        },
        "outputId": "db02314b-dae7-4c67-a3c0-1d1b40a13d1e"
      },
      "source": [
        "plt.plot(t_theta,theta,label='$S_{\\mathrm{min}}=$%.2f' %Smin)\n",
        "plt.plot(t_theta,theta,'ro')\n",
        "plt.ylabel('θ(t) rad')\n",
        "plt.xlabel('tiempo (s)')\n",
        "plt.title('Línea de mínima acción')\n",
        "plt.legend(loc='best')"
      ],
      "execution_count": 74,
      "outputs": [
        {
          "output_type": "execute_result",
          "data": {
            "text/plain": [
              "<matplotlib.legend.Legend at 0x7f63e8a848d0>"
            ]
          },
          "metadata": {
            "tags": []
          },
          "execution_count": 74
        },
        {
          "output_type": "display_data",
          "data": {
            "image/png": "[encoded data removed]",
            "text/plain": [
              "<Figure size 432x288 with 1 Axes>"
            ]
          },
          "metadata": {
            "tags": [],
            "needs_background": "light"
          }
        }
      ]
    },
    {
      "cell_type": "code",
      "metadata": {
        "id": "Ei2DammDfjNa",
        "colab_type": "code",
        "colab": {}
      },
      "source": [
        "#Hallemos T y ω\n",
        "T = t * 4\n",
        "ω = 2 * np.pi / T\n",
        "mov_theta = lambda x:final_angle * np.sin(ω*x)"
      ],
      "execution_count": 0,
      "outputs": []
    },
    {
      "cell_type": "code",
      "metadata": {
        "id": "nM2xNFUfhTrI",
        "colab_type": "code",
        "colab": {
          "base_uri": "https://localhost:8080/",
          "height": 313
        },
        "outputId": "f2bd1448-0fd3-4dbb-d1d2-b38998ab904b"
      },
      "source": [
        "tt = np.linspace(0,t,100)\n",
        "plt.plot(t_theta,theta,'b',label='$S_{\\mathrm{min}}=$%.2f' %Smin)\n",
        "plt.plot(t_theta,theta,'ro')\n",
        "plt.plot(tt,mov_theta(tt),'c-.',label = '$θ(t)=θ_{0} \\sin(\\omega t)$')\n",
        "plt.ylabel('θ(t) rad')\n",
        "plt.xlabel('tiempo (s)')\n",
        "plt.title('Línea de mínima acción')\n",
        "plt.legend(loc='best')"
      ],
      "execution_count": 103,
      "outputs": [
        {
          "output_type": "execute_result",
          "data": {
            "text/plain": [
              "<matplotlib.legend.Legend at 0x7f63e7f983c8>"
            ]
          },
          "metadata": {
            "tags": []
          },
          "execution_count": 103
        },
        {
          "output_type": "display_data",
          "data": {
            "image/png": "[encoded data removed]",
            "text/plain": [
              "<Figure size 432x288 with 1 Axes>"
            ]
          },
          "metadata": {
            "tags": [],
            "needs_background": "light"
          }
        }
      ]
    },
    {
      "cell_type": "markdown",
      "metadata": {
        "id": "Cp9QGTXTk6B7",
        "colab_type": "text"
      },
      "source": [
        "Con la gráfica anterior se evidencia que se superponen las trayectorias en plano $\\theta(t)$ vs $t$ la ecuación de movimiento $\\theta(t)=\\theta_0 \\sin(\\omega t)$"
      ]
    },
    {
      "cell_type": "markdown",
      "metadata": {
        "id": "sgkg5Rvtm3PF",
        "colab_type": "text"
      },
      "source": [
        "Ahora calculemos los campos necesarios para mostrar que la trayectoría que minimiza la Acción también conserva la energía total: $E=K+V$"
      ]
    },
    {
      "cell_type": "code",
      "metadata": {
        "id": "3hNUZls4hUOZ",
        "colab_type": "code",
        "colab": {
          "base_uri": "https://localhost:8080/",
          "height": 35
        },
        "outputId": "295ef80d-2d19-4739-877c-3acd28dee4a3"
      },
      "source": [
        "#velocidad\n",
        "v=(theta[1:]-theta[:-1])/Dt\n",
        "#aceleración\n",
        "a = (v[1:]-v[:-1])/Dt\n",
        "#gravedad\n",
        "g = 9.8\n",
        "#Energía cinética\n",
        "K=0.5*m*v**2\n",
        "#Energía potencial\n",
        "V=m*g*(1-np.cos(0.5*(theta[1:]+theta[:-1])))\n",
        "#Energía total\n",
        "E=T+V\n",
        "\n",
        "print(np.round(E,1))"
      ],
      "execution_count": 111,
      "outputs": [
        {
          "output_type": "stream",
          "text": [
            "[2. 2. 2. 2. 2. 2. 2. 2. 2. 2.]\n"
          ],
          "name": "stdout"
        }
      ]
    }
  ]
}
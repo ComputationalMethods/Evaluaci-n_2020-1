{
  "nbformat": 4,
  "nbformat_minor": 0,
  "metadata": {
    "colab": {
      "name": "Actividad 1 _ Movement with uniform acceleration.ipynb",
      "provenance": [],
      "collapsed_sections": [],
      "include_colab_link": true
    },
    "language_info": {
      "codemirror_mode": {
        "name": "ipython",
        "version": 3
      },
      "file_extension": ".py",
      "mimetype": "text/x-python",
      "name": "python",
      "nbconvert_exporter": "python",
      "pygments_lexer": "ipython3",
      "version": "3.4.2"
    },
    "kernelspec": {
      "display_name": "Python 3",
      "language": "python",
      "name": "python3"
    }
  },
  "cells": [
    {
      "cell_type": "markdown",
      "metadata": {
        "id": "view-in-github",
        "colab_type": "text"
      },
      "source": [
        "<a href=\"https://colab.research.google.com/github/jdpulgarine/Evaluacion2020-1/blob/master/Actividad_1___Movement_with_uniform_acceleration.ipynb\" target=\"_parent\"><img src=\"https://colab.research.google.com/assets/colab-badge.svg\" alt=\"Open In Colab\"/></a>"
      ]
    },
    {
      "cell_type": "markdown",
      "metadata": {
        "colab_type": "text",
        "id": "3cs7-2egEZWW"
      },
      "source": [
        "__Activity__: \n",
        "1. Define a polynomial for the movement with uniform acceleration:\n",
        "\\begin{align}\n",
        "x=x_0+v_0 (t-t_0)+\\tfrac{1}{2} a (t-t_0)^2\\,,\n",
        "\\end{align}\n",
        "2. Use the definition to solve the following problem: \n",
        "    * A car departs from rest with a constant acceleration of $6~\\text{m}\\cdot\\text{s}^{-2}$ and travels through a flat and straight road. 10 seconds later a second pass for the same starting point and in the same direction with an initial speed of $10~\\text{m}\\cdot\\text{s}^{-1}$ and a constant acelleration of $10~\\text{m}\\cdot\\text{s}^{-2}$. Find the time and distance at which the two cars meet."
      ]
    },
    {
      "cell_type": "code",
      "metadata": {
        "id": "NkUNclYc4Je_",
        "colab_type": "code",
        "colab": {}
      },
      "source": [
        "import numpy as np"
      ],
      "execution_count": 0,
      "outputs": []
    },
    {
      "cell_type": "code",
      "metadata": {
        "id": "BlbhrsEc4V8t",
        "colab_type": "code",
        "outputId": "2d59bcf4-391d-4d70-b2c8-9753388740aa",
        "colab": {
          "base_uri": "https://localhost:8080/",
          "height": 52
        }
      },
      "source": [
        "#1. Definición del polinomio con variables iniciales\n",
        "\n",
        "x0=0\n",
        "v0=10\n",
        "a=10\n",
        "t0=10\n",
        "\n",
        "poly = np.poly1d([1/2*a, v0 - a * t0, a/2 * t0 ** 2 - v0 * t0 + x0],variable='t')\n",
        "print(poly)"
      ],
      "execution_count": 5,
      "outputs": [
        {
          "output_type": "stream",
          "text": [
            "   2\n",
            "5 t - 90 t + 400\n"
          ],
          "name": "stdout"
        }
      ]
    },
    {
      "cell_type": "code",
      "metadata": {
        "id": "DWPjc5e2xxQT",
        "colab_type": "code",
        "colab": {}
      },
      "source": [
        "#2. Planteamiento del problema"
      ],
      "execution_count": 0,
      "outputs": []
    },
    {
      "cell_type": "markdown",
      "metadata": {
        "id": "gunSIKC2xin2",
        "colab_type": "text"
      },
      "source": [
        "Se tienen dos vehículos con condiciones iniciales de posición, aceleración y velocidad distintas y durante su recorrido se encuentran en t como sigue:\n",
        "\n",
        "\\begin{align}\n",
        "x_{01}+v_{01} (t-t_{01})+\\tfrac{1}{2} a_1 (t-t_{01})^2 =x_{02}+v_{02} (t-t_{02})+\\tfrac{1}{2} a_2 (t-t_{02})^2\\\\\n",
        "\\end{align}\n",
        "\n",
        "Y se puede reescribir como sigue:\n",
        "\n",
        "\\begin{align}\n",
        "[\\tfrac{1}{2}(a_1-a_2)]t^2+(v_{01}-v_{02}-a_1t_{01}+a_2t_{02})t+[\\tfrac{1}{2}(a_1t_{01}^2-a_2t_{02}^2)+(v_{02}t_{02}-v_{01}t_{01})+(x_{01}-x_{02})]=0\\\n",
        "\\end{align}\n",
        "\n",
        "\n",
        "Considerando que:\n",
        "\\begin{align} \n",
        "x_{01}=x_{02}=0\\,\n",
        "\\end{align}\n",
        "\n",
        "\\begin{align}\n",
        "v_{01}=0, v_{02}=10~\\text{m}\\cdot\\text{s}^{-1}\\,\n",
        "\\end{align}\n",
        "\n",
        "\\begin{align}\n",
        "a_1=6~\\text{m}\\cdot\\text{s}^{-2}, a_2=10~\\text{m}\\cdot\\text{s}^{-2}\\\n",
        "\\end{align}\n",
        "\n",
        "\\begin{align}\n",
        "t_{01}=0, t_{02}=10\\\n",
        "\\end{align}\n",
        "\n"
      ]
    },
    {
      "cell_type": "code",
      "metadata": {
        "id": "j0gpyX9THIzo",
        "colab_type": "code",
        "colab": {
          "base_uri": "https://localhost:8080/",
          "height": 52
        },
        "outputId": "eb262089-cfa1-43f8-d50a-3c3bcb4b07aa"
      },
      "source": [
        "#Condiciones iniciales\n",
        "\n",
        "x01 = 0\n",
        "x02 = 0\n",
        "v01 = 0\n",
        "v02 = 10\n",
        "a1 = 6\n",
        "a2 = 10\n",
        "t01 = 0\n",
        "t02 = 10\n",
        "\n",
        "#Escribamos el polinomio\n",
        "\n",
        "poly1 = np.poly1d([1/2*(a1-a2), v01-v02 - a1 * t01 + a2 * t02, 1/2 * (a1* t01  ** 2 - a2 * t02 ** 2) + (v02 * t02 - v01 * t01) + (x01-x02)],variable='t')\n",
        "print(\"p(t)={}\".format(poly1))"
      ],
      "execution_count": 6,
      "outputs": [
        {
          "output_type": "stream",
          "text": [
            "p(t)=    2\n",
            "-2 t + 90 t - 400\n"
          ],
          "name": "stdout"
        }
      ]
    },
    {
      "cell_type": "code",
      "metadata": {
        "id": "hxpS6JjrJmDB",
        "colab_type": "code",
        "colab": {
          "base_uri": "https://localhost:8080/",
          "height": 35
        },
        "outputId": "0871474f-f655-41ca-b64e-4ce5c96d9ad9"
      },
      "source": [
        "#Ahora sus raíces\n",
        "poly1.roots"
      ],
      "execution_count": 9,
      "outputs": [
        {
          "output_type": "execute_result",
          "data": {
            "text/plain": [
              "array([40.,  5.])"
            ]
          },
          "metadata": {
            "tags": []
          },
          "execution_count": 9
        }
      ]
    },
    {
      "cell_type": "code",
      "metadata": {
        "id": "Qqt8Di8UKTKD",
        "colab_type": "code",
        "colab": {
          "base_uri": "https://localhost:8080/",
          "height": 35
        },
        "outputId": "0a143490-3d07-40d3-a63a-bc2dd4dd5662"
      },
      "source": [
        "print(\"Los dos carros se encuentran a los {} segundos cuando el primero ha avanzado {} metros\".format(poly1.roots[0],poly(poly1.roots[0])))"
      ],
      "execution_count": 12,
      "outputs": [
        {
          "output_type": "stream",
          "text": [
            "Los dos carros se encuentran a los 40.0 segundos cuando el primero ha avanzado 4800.0 metros\n"
          ],
          "name": "stdout"
        }
      ]
    }
  ]
}